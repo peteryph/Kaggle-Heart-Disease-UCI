{
 "cells": [
  {
   "cell_type": "code",
   "execution_count": 90,
   "metadata": {},
   "outputs": [],
   "source": [
    "import sys\n",
    "import pandas\n",
    "import sklearn\n",
    "import imblearn\n",
    "import numpy as np\n",
    "import seaborn as sns\n",
    "from collections import Counter\n",
    "import matplotlib.pyplot as plt\n",
    "\n",
    "#sklearn pre-processing \n",
    "from sklearn.utils import shuffle\n",
    "from sklearn.preprocessing import MinMaxScaler\n",
    "\n",
    "# sklearn classifier model\n",
    "from sklearn.svm import SVC\n",
    "from sklearn.naive_bayes import MultinomialNB\n",
    "from sklearn.neighbors import KNeighborsClassifier\n",
    "from sklearn.ensemble import RandomForestClassifier\n",
    "from sklearn.neural_network import MLPClassifier\n",
    "\n",
    "# sklearn bagging and boosting \n",
    "from sklearn.ensemble import BaggingClassifier\n",
    "from sklearn.ensemble import AdaBoostClassifier\n",
    "from sklearn.ensemble import GradientBoostingClassifier\n",
    "\n",
    "# model ensemble learning \n",
    "from sklearn.ensemble import VotingClassifier\n",
    "from mlxtend.classifier import StackingClassifier\n",
    "\n",
    "\n",
    "# pandas.set_option('display.max_columns', None)\n",
    "# pandas.set_option('display.max_rows', None)"
   ]
  },
  {
   "cell_type": "markdown",
   "metadata": {},
   "source": [
    "### Read CSV"
   ]
  },
  {
   "cell_type": "code",
   "execution_count": 2,
   "metadata": {
    "scrolled": true
   },
   "outputs": [
    {
     "name": "stderr",
     "output_type": "stream",
     "text": [
      "//anaconda3/lib/python3.7/site-packages/ipykernel_launcher.py:6: SettingWithCopyWarning: \n",
      "A value is trying to be set on a copy of a slice from a DataFrame\n",
      "\n",
      "See the caveats in the documentation: http://pandas.pydata.org/pandas-docs/stable/indexing.html#indexing-view-versus-copy\n",
      "  \n",
      "//anaconda3/lib/python3.7/site-packages/ipykernel_launcher.py:7: SettingWithCopyWarning: \n",
      "A value is trying to be set on a copy of a slice from a DataFrame\n",
      "\n",
      "See the caveats in the documentation: http://pandas.pydata.org/pandas-docs/stable/indexing.html#indexing-view-versus-copy\n",
      "  import sys\n",
      "//anaconda3/lib/python3.7/site-packages/ipykernel_launcher.py:8: SettingWithCopyWarning: \n",
      "A value is trying to be set on a copy of a slice from a DataFrame\n",
      "\n",
      "See the caveats in the documentation: http://pandas.pydata.org/pandas-docs/stable/indexing.html#indexing-view-versus-copy\n",
      "  \n"
     ]
    }
   ],
   "source": [
    "df = pandas.read_csv(\"ufcdata/data.csv\").drop(columns = [\"Referee\", \"R_fighter\", \"B_fighter\", \"location\", \"date\"]).dropna().reset_index()\n",
    "df = df.drop(columns = [\"index\"])\n",
    "df.title_bout = df.title_bout.astype(int)\n",
    "\n",
    "# conver the winner into int\n",
    "df[\"Winner\"][df[\"Winner\"] == \"Red\"] = 1\n",
    "df[\"Winner\"][df[\"Winner\"] == \"Blue\"] = 2\n",
    "df[\"Winner\"][df[\"Winner\"] == \"Draw\"] = 3\n",
    "\n",
    "\n",
    "df = df[df[\"Winner\"] != \"Draw\"].reset_index(drop=True)"
   ]
  },
  {
   "cell_type": "code",
   "execution_count": 3,
   "metadata": {},
   "outputs": [
    {
     "data": {
      "text/plain": [
       "1    2023\n",
       "2    1141\n",
       "3      51\n",
       "Name: Winner, dtype: int64"
      ]
     },
     "execution_count": 3,
     "metadata": {},
     "output_type": "execute_result"
    }
   ],
   "source": [
    "# Count the Y distribtion \n",
    "df[\"Winner\"].value_counts()"
   ]
  },
  {
   "cell_type": "markdown",
   "metadata": {},
   "source": [
    "### EDA Work"
   ]
  },
  {
   "cell_type": "code",
   "execution_count": 4,
   "metadata": {
    "scrolled": true
   },
   "outputs": [
    {
     "data": {
      "text/plain": [
       "(67, 67)"
      ]
     },
     "execution_count": 4,
     "metadata": {},
     "output_type": "execute_result"
    }
   ],
   "source": [
    "# Get both player status \n",
    "R_status = []\n",
    "B_status = []\n",
    "\n",
    "# global status (referee, weight classes...etc)\n",
    "global_status = []\n",
    "for i in list(df.keys()):\n",
    "    if(\"R_\" in i[:3]):\n",
    "        R_status.append(i)\n",
    "    elif(\"B_\" in i):\n",
    "        B_status.append(i)\n",
    "    else:\n",
    "        global_status.append(i)\n",
    "B_status.remove(\"B_Stance\")\n",
    "R_status.remove(\"R_Stance\")\n",
    "\n",
    "len(R_status), len(B_status)"
   ]
  },
  {
   "cell_type": "code",
   "execution_count": 5,
   "metadata": {},
   "outputs": [
    {
     "data": {
      "text/plain": [
       "['Winner', 'title_bout', 'weight_class', 'no_of_rounds']"
      ]
     },
     "execution_count": 5,
     "metadata": {},
     "output_type": "execute_result"
    }
   ],
   "source": [
    "len(global_status)\n",
    "global_status"
   ]
  },
  {
   "cell_type": "code",
   "execution_count": 6,
   "metadata": {},
   "outputs": [
    {
     "data": {
      "text/html": [
       "<div>\n",
       "<style scoped>\n",
       "    .dataframe tbody tr th:only-of-type {\n",
       "        vertical-align: middle;\n",
       "    }\n",
       "\n",
       "    .dataframe tbody tr th {\n",
       "        vertical-align: top;\n",
       "    }\n",
       "\n",
       "    .dataframe thead th {\n",
       "        text-align: right;\n",
       "    }\n",
       "</style>\n",
       "<table border=\"1\" class=\"dataframe\">\n",
       "  <thead>\n",
       "    <tr style=\"text-align: right;\">\n",
       "      <th></th>\n",
       "      <th>R_Open Stance</th>\n",
       "      <th>R_Orthodox</th>\n",
       "      <th>R_Southpaw</th>\n",
       "      <th>R_Switch</th>\n",
       "      <th>B_Open Stance</th>\n",
       "      <th>B_Orthodox</th>\n",
       "      <th>B_Southpaw</th>\n",
       "      <th>B_Switch</th>\n",
       "    </tr>\n",
       "  </thead>\n",
       "  <tbody>\n",
       "    <tr>\n",
       "      <th>3210</th>\n",
       "      <td>0.0</td>\n",
       "      <td>1.0</td>\n",
       "      <td>0.0</td>\n",
       "      <td>0.0</td>\n",
       "      <td>0.0</td>\n",
       "      <td>1.0</td>\n",
       "      <td>0.0</td>\n",
       "      <td>0.0</td>\n",
       "    </tr>\n",
       "    <tr>\n",
       "      <th>3211</th>\n",
       "      <td>0.0</td>\n",
       "      <td>1.0</td>\n",
       "      <td>0.0</td>\n",
       "      <td>0.0</td>\n",
       "      <td>0.0</td>\n",
       "      <td>1.0</td>\n",
       "      <td>0.0</td>\n",
       "      <td>0.0</td>\n",
       "    </tr>\n",
       "    <tr>\n",
       "      <th>3212</th>\n",
       "      <td>0.0</td>\n",
       "      <td>1.0</td>\n",
       "      <td>0.0</td>\n",
       "      <td>0.0</td>\n",
       "      <td>0.0</td>\n",
       "      <td>1.0</td>\n",
       "      <td>0.0</td>\n",
       "      <td>0.0</td>\n",
       "    </tr>\n",
       "    <tr>\n",
       "      <th>3213</th>\n",
       "      <td>0.0</td>\n",
       "      <td>1.0</td>\n",
       "      <td>0.0</td>\n",
       "      <td>0.0</td>\n",
       "      <td>0.0</td>\n",
       "      <td>1.0</td>\n",
       "      <td>0.0</td>\n",
       "      <td>0.0</td>\n",
       "    </tr>\n",
       "    <tr>\n",
       "      <th>3214</th>\n",
       "      <td>0.0</td>\n",
       "      <td>1.0</td>\n",
       "      <td>0.0</td>\n",
       "      <td>0.0</td>\n",
       "      <td>0.0</td>\n",
       "      <td>0.0</td>\n",
       "      <td>1.0</td>\n",
       "      <td>0.0</td>\n",
       "    </tr>\n",
       "  </tbody>\n",
       "</table>\n",
       "</div>"
      ],
      "text/plain": [
       "      R_Open Stance  R_Orthodox  R_Southpaw  R_Switch  B_Open Stance  \\\n",
       "3210            0.0         1.0         0.0       0.0            0.0   \n",
       "3211            0.0         1.0         0.0       0.0            0.0   \n",
       "3212            0.0         1.0         0.0       0.0            0.0   \n",
       "3213            0.0         1.0         0.0       0.0            0.0   \n",
       "3214            0.0         1.0         0.0       0.0            0.0   \n",
       "\n",
       "      B_Orthodox  B_Southpaw  B_Switch  \n",
       "3210         1.0         0.0       0.0  \n",
       "3211         1.0         0.0       0.0  \n",
       "3212         1.0         0.0       0.0  \n",
       "3213         1.0         0.0       0.0  \n",
       "3214         0.0         1.0       0.0  "
      ]
     },
     "execution_count": 6,
     "metadata": {},
     "output_type": "execute_result"
    }
   ],
   "source": [
    "# R_ and B_ Stance convert into one-hot\n",
    "df1 = pandas.DataFrame()\n",
    "for side in [\"R_\", \"B_\"]:\n",
    "    keys = list(sorted(df[side+\"Stance\"].unique()))\n",
    "    lis = list()\n",
    "    for i in df[side+\"Stance\"].tolist():\n",
    "        zero = np.zeros((1,len(keys)))\n",
    "        zero[0][keys.index(i)] = 1\n",
    "        lis.append(zero[0])\n",
    "    _keys = []\n",
    "    \n",
    "    for i in keys: # rename columns \n",
    "        _keys.append(side+i)\n",
    "        \n",
    "    df_temp = pandas.DataFrame(lis, columns = _keys)\n",
    "    \n",
    "    for i in df_temp.keys(): # append together\n",
    "        df1[i] = df_temp[i]\n",
    "df1.tail()"
   ]
  },
  {
   "cell_type": "code",
   "execution_count": 7,
   "metadata": {
    "scrolled": true
   },
   "outputs": [
    {
     "data": {
      "text/html": [
       "<div>\n",
       "<style scoped>\n",
       "    .dataframe tbody tr th:only-of-type {\n",
       "        vertical-align: middle;\n",
       "    }\n",
       "\n",
       "    .dataframe tbody tr th {\n",
       "        vertical-align: top;\n",
       "    }\n",
       "\n",
       "    .dataframe thead th {\n",
       "        text-align: right;\n",
       "    }\n",
       "</style>\n",
       "<table border=\"1\" class=\"dataframe\">\n",
       "  <thead>\n",
       "    <tr style=\"text-align: right;\">\n",
       "      <th></th>\n",
       "      <th>Bantamweight</th>\n",
       "      <th>Catch Weight</th>\n",
       "      <th>Featherweight</th>\n",
       "      <th>Flyweight</th>\n",
       "      <th>Heavyweight</th>\n",
       "      <th>Light Heavyweight</th>\n",
       "      <th>Lightweight</th>\n",
       "      <th>Middleweight</th>\n",
       "      <th>Welterweight</th>\n",
       "      <th>Women's Bantamweight</th>\n",
       "      <th>Women's Featherweight</th>\n",
       "      <th>Women's Flyweight</th>\n",
       "      <th>Women's Strawweight</th>\n",
       "    </tr>\n",
       "  </thead>\n",
       "  <tbody>\n",
       "    <tr>\n",
       "      <th>3210</th>\n",
       "      <td>0.0</td>\n",
       "      <td>0.0</td>\n",
       "      <td>0.0</td>\n",
       "      <td>0.0</td>\n",
       "      <td>0.0</td>\n",
       "      <td>1.0</td>\n",
       "      <td>0.0</td>\n",
       "      <td>0.0</td>\n",
       "      <td>0.0</td>\n",
       "      <td>0.0</td>\n",
       "      <td>0.0</td>\n",
       "      <td>0.0</td>\n",
       "      <td>0.0</td>\n",
       "    </tr>\n",
       "    <tr>\n",
       "      <th>3211</th>\n",
       "      <td>0.0</td>\n",
       "      <td>0.0</td>\n",
       "      <td>0.0</td>\n",
       "      <td>0.0</td>\n",
       "      <td>0.0</td>\n",
       "      <td>0.0</td>\n",
       "      <td>0.0</td>\n",
       "      <td>1.0</td>\n",
       "      <td>0.0</td>\n",
       "      <td>0.0</td>\n",
       "      <td>0.0</td>\n",
       "      <td>0.0</td>\n",
       "      <td>0.0</td>\n",
       "    </tr>\n",
       "    <tr>\n",
       "      <th>3212</th>\n",
       "      <td>0.0</td>\n",
       "      <td>0.0</td>\n",
       "      <td>0.0</td>\n",
       "      <td>0.0</td>\n",
       "      <td>0.0</td>\n",
       "      <td>1.0</td>\n",
       "      <td>0.0</td>\n",
       "      <td>0.0</td>\n",
       "      <td>0.0</td>\n",
       "      <td>0.0</td>\n",
       "      <td>0.0</td>\n",
       "      <td>0.0</td>\n",
       "      <td>0.0</td>\n",
       "    </tr>\n",
       "    <tr>\n",
       "      <th>3213</th>\n",
       "      <td>0.0</td>\n",
       "      <td>0.0</td>\n",
       "      <td>0.0</td>\n",
       "      <td>0.0</td>\n",
       "      <td>0.0</td>\n",
       "      <td>0.0</td>\n",
       "      <td>0.0</td>\n",
       "      <td>1.0</td>\n",
       "      <td>0.0</td>\n",
       "      <td>0.0</td>\n",
       "      <td>0.0</td>\n",
       "      <td>0.0</td>\n",
       "      <td>0.0</td>\n",
       "    </tr>\n",
       "    <tr>\n",
       "      <th>3214</th>\n",
       "      <td>0.0</td>\n",
       "      <td>0.0</td>\n",
       "      <td>0.0</td>\n",
       "      <td>0.0</td>\n",
       "      <td>1.0</td>\n",
       "      <td>0.0</td>\n",
       "      <td>0.0</td>\n",
       "      <td>0.0</td>\n",
       "      <td>0.0</td>\n",
       "      <td>0.0</td>\n",
       "      <td>0.0</td>\n",
       "      <td>0.0</td>\n",
       "      <td>0.0</td>\n",
       "    </tr>\n",
       "  </tbody>\n",
       "</table>\n",
       "</div>"
      ],
      "text/plain": [
       "      Bantamweight  Catch Weight  Featherweight  Flyweight  Heavyweight  \\\n",
       "3210           0.0           0.0            0.0        0.0          0.0   \n",
       "3211           0.0           0.0            0.0        0.0          0.0   \n",
       "3212           0.0           0.0            0.0        0.0          0.0   \n",
       "3213           0.0           0.0            0.0        0.0          0.0   \n",
       "3214           0.0           0.0            0.0        0.0          1.0   \n",
       "\n",
       "      Light Heavyweight  Lightweight  Middleweight  Welterweight  \\\n",
       "3210                1.0          0.0           0.0           0.0   \n",
       "3211                0.0          0.0           1.0           0.0   \n",
       "3212                1.0          0.0           0.0           0.0   \n",
       "3213                0.0          0.0           1.0           0.0   \n",
       "3214                0.0          0.0           0.0           0.0   \n",
       "\n",
       "      Women's Bantamweight  Women's Featherweight  Women's Flyweight  \\\n",
       "3210                   0.0                    0.0                0.0   \n",
       "3211                   0.0                    0.0                0.0   \n",
       "3212                   0.0                    0.0                0.0   \n",
       "3213                   0.0                    0.0                0.0   \n",
       "3214                   0.0                    0.0                0.0   \n",
       "\n",
       "      Women's Strawweight  \n",
       "3210                  0.0  \n",
       "3211                  0.0  \n",
       "3212                  0.0  \n",
       "3213                  0.0  \n",
       "3214                  0.0  "
      ]
     },
     "execution_count": 7,
     "metadata": {},
     "output_type": "execute_result"
    }
   ],
   "source": [
    "# Weight class feature to one-hot\n",
    "\n",
    "keys = list(sorted(df[\"weight_class\"].unique()))\n",
    "lis = list()\n",
    "\n",
    "for i in df[\"weight_class\"].tolist():\n",
    "    zero = np.zeros((1,len(keys)))\n",
    "    zero[0][keys.index(i)] = 1\n",
    "    lis.append(zero[0])\n",
    "\n",
    "df2 = pandas.DataFrame(lis, columns = keys).astype('float')\n",
    "\n",
    "df2.tail()"
   ]
  },
  {
   "cell_type": "code",
   "execution_count": 8,
   "metadata": {
    "scrolled": true
   },
   "outputs": [
    {
     "data": {
      "text/html": [
       "<div>\n",
       "<style scoped>\n",
       "    .dataframe tbody tr th:only-of-type {\n",
       "        vertical-align: middle;\n",
       "    }\n",
       "\n",
       "    .dataframe tbody tr th {\n",
       "        vertical-align: top;\n",
       "    }\n",
       "\n",
       "    .dataframe thead th {\n",
       "        text-align: right;\n",
       "    }\n",
       "</style>\n",
       "<table border=\"1\" class=\"dataframe\">\n",
       "  <thead>\n",
       "    <tr style=\"text-align: right;\">\n",
       "      <th></th>\n",
       "      <th>Winner</th>\n",
       "      <th>title_bout</th>\n",
       "      <th>no_of_rounds</th>\n",
       "      <th>B_current_lose_streak</th>\n",
       "      <th>B_current_win_streak</th>\n",
       "      <th>B_draw</th>\n",
       "      <th>B_avg_BODY_att</th>\n",
       "      <th>B_avg_BODY_landed</th>\n",
       "      <th>B_avg_CLINCH_att</th>\n",
       "      <th>B_avg_CLINCH_landed</th>\n",
       "      <th>...</th>\n",
       "      <th>Flyweight</th>\n",
       "      <th>Heavyweight</th>\n",
       "      <th>Light Heavyweight</th>\n",
       "      <th>Lightweight</th>\n",
       "      <th>Middleweight</th>\n",
       "      <th>Welterweight</th>\n",
       "      <th>Women's Bantamweight</th>\n",
       "      <th>Women's Featherweight</th>\n",
       "      <th>Women's Flyweight</th>\n",
       "      <th>Women's Strawweight</th>\n",
       "    </tr>\n",
       "  </thead>\n",
       "  <tbody>\n",
       "    <tr>\n",
       "      <th>0</th>\n",
       "      <td>1.0</td>\n",
       "      <td>1.0</td>\n",
       "      <td>5.0</td>\n",
       "      <td>0.0</td>\n",
       "      <td>4.0</td>\n",
       "      <td>0.0</td>\n",
       "      <td>9.200000</td>\n",
       "      <td>6.000000</td>\n",
       "      <td>0.200000</td>\n",
       "      <td>0.000000</td>\n",
       "      <td>...</td>\n",
       "      <td>0.0</td>\n",
       "      <td>0.0</td>\n",
       "      <td>0.0</td>\n",
       "      <td>0.0</td>\n",
       "      <td>0.0</td>\n",
       "      <td>0.0</td>\n",
       "      <td>0.0</td>\n",
       "      <td>0.0</td>\n",
       "      <td>0.0</td>\n",
       "      <td>0.0</td>\n",
       "    </tr>\n",
       "    <tr>\n",
       "      <th>1</th>\n",
       "      <td>1.0</td>\n",
       "      <td>1.0</td>\n",
       "      <td>5.0</td>\n",
       "      <td>0.0</td>\n",
       "      <td>3.0</td>\n",
       "      <td>0.0</td>\n",
       "      <td>14.600000</td>\n",
       "      <td>9.100000</td>\n",
       "      <td>11.800000</td>\n",
       "      <td>7.300000</td>\n",
       "      <td>...</td>\n",
       "      <td>0.0</td>\n",
       "      <td>0.0</td>\n",
       "      <td>0.0</td>\n",
       "      <td>0.0</td>\n",
       "      <td>0.0</td>\n",
       "      <td>0.0</td>\n",
       "      <td>0.0</td>\n",
       "      <td>0.0</td>\n",
       "      <td>1.0</td>\n",
       "      <td>0.0</td>\n",
       "    </tr>\n",
       "    <tr>\n",
       "      <th>2</th>\n",
       "      <td>1.0</td>\n",
       "      <td>0.0</td>\n",
       "      <td>3.0</td>\n",
       "      <td>0.0</td>\n",
       "      <td>3.0</td>\n",
       "      <td>0.0</td>\n",
       "      <td>15.354839</td>\n",
       "      <td>11.322581</td>\n",
       "      <td>6.741935</td>\n",
       "      <td>4.387097</td>\n",
       "      <td>...</td>\n",
       "      <td>0.0</td>\n",
       "      <td>0.0</td>\n",
       "      <td>0.0</td>\n",
       "      <td>1.0</td>\n",
       "      <td>0.0</td>\n",
       "      <td>0.0</td>\n",
       "      <td>0.0</td>\n",
       "      <td>0.0</td>\n",
       "      <td>0.0</td>\n",
       "      <td>0.0</td>\n",
       "    </tr>\n",
       "    <tr>\n",
       "      <th>3</th>\n",
       "      <td>2.0</td>\n",
       "      <td>0.0</td>\n",
       "      <td>3.0</td>\n",
       "      <td>0.0</td>\n",
       "      <td>4.0</td>\n",
       "      <td>0.0</td>\n",
       "      <td>17.000000</td>\n",
       "      <td>14.000000</td>\n",
       "      <td>13.750000</td>\n",
       "      <td>11.000000</td>\n",
       "      <td>...</td>\n",
       "      <td>0.0</td>\n",
       "      <td>0.0</td>\n",
       "      <td>0.0</td>\n",
       "      <td>0.0</td>\n",
       "      <td>0.0</td>\n",
       "      <td>0.0</td>\n",
       "      <td>0.0</td>\n",
       "      <td>0.0</td>\n",
       "      <td>0.0</td>\n",
       "      <td>0.0</td>\n",
       "    </tr>\n",
       "    <tr>\n",
       "      <th>4</th>\n",
       "      <td>2.0</td>\n",
       "      <td>0.0</td>\n",
       "      <td>3.0</td>\n",
       "      <td>0.0</td>\n",
       "      <td>1.0</td>\n",
       "      <td>0.0</td>\n",
       "      <td>17.000000</td>\n",
       "      <td>14.500000</td>\n",
       "      <td>2.500000</td>\n",
       "      <td>2.000000</td>\n",
       "      <td>...</td>\n",
       "      <td>0.0</td>\n",
       "      <td>1.0</td>\n",
       "      <td>0.0</td>\n",
       "      <td>0.0</td>\n",
       "      <td>0.0</td>\n",
       "      <td>0.0</td>\n",
       "      <td>0.0</td>\n",
       "      <td>0.0</td>\n",
       "      <td>0.0</td>\n",
       "      <td>0.0</td>\n",
       "    </tr>\n",
       "    <tr>\n",
       "      <th>5</th>\n",
       "      <td>1.0</td>\n",
       "      <td>0.0</td>\n",
       "      <td>3.0</td>\n",
       "      <td>0.0</td>\n",
       "      <td>3.0</td>\n",
       "      <td>0.0</td>\n",
       "      <td>15.000000</td>\n",
       "      <td>7.416667</td>\n",
       "      <td>6.083333</td>\n",
       "      <td>3.416667</td>\n",
       "      <td>...</td>\n",
       "      <td>0.0</td>\n",
       "      <td>0.0</td>\n",
       "      <td>0.0</td>\n",
       "      <td>0.0</td>\n",
       "      <td>0.0</td>\n",
       "      <td>0.0</td>\n",
       "      <td>0.0</td>\n",
       "      <td>0.0</td>\n",
       "      <td>0.0</td>\n",
       "      <td>0.0</td>\n",
       "    </tr>\n",
       "    <tr>\n",
       "      <th>6</th>\n",
       "      <td>2.0</td>\n",
       "      <td>0.0</td>\n",
       "      <td>3.0</td>\n",
       "      <td>1.0</td>\n",
       "      <td>0.0</td>\n",
       "      <td>0.0</td>\n",
       "      <td>16.250000</td>\n",
       "      <td>11.000000</td>\n",
       "      <td>17.500000</td>\n",
       "      <td>11.250000</td>\n",
       "      <td>...</td>\n",
       "      <td>0.0</td>\n",
       "      <td>0.0</td>\n",
       "      <td>0.0</td>\n",
       "      <td>0.0</td>\n",
       "      <td>0.0</td>\n",
       "      <td>0.0</td>\n",
       "      <td>0.0</td>\n",
       "      <td>0.0</td>\n",
       "      <td>0.0</td>\n",
       "      <td>1.0</td>\n",
       "    </tr>\n",
       "    <tr>\n",
       "      <th>7</th>\n",
       "      <td>2.0</td>\n",
       "      <td>0.0</td>\n",
       "      <td>3.0</td>\n",
       "      <td>0.0</td>\n",
       "      <td>1.0</td>\n",
       "      <td>0.0</td>\n",
       "      <td>7.250000</td>\n",
       "      <td>4.750000</td>\n",
       "      <td>1.750000</td>\n",
       "      <td>0.500000</td>\n",
       "      <td>...</td>\n",
       "      <td>0.0</td>\n",
       "      <td>0.0</td>\n",
       "      <td>0.0</td>\n",
       "      <td>0.0</td>\n",
       "      <td>0.0</td>\n",
       "      <td>0.0</td>\n",
       "      <td>0.0</td>\n",
       "      <td>0.0</td>\n",
       "      <td>0.0</td>\n",
       "      <td>0.0</td>\n",
       "    </tr>\n",
       "    <tr>\n",
       "      <th>8</th>\n",
       "      <td>1.0</td>\n",
       "      <td>0.0</td>\n",
       "      <td>3.0</td>\n",
       "      <td>0.0</td>\n",
       "      <td>1.0</td>\n",
       "      <td>0.0</td>\n",
       "      <td>25.400000</td>\n",
       "      <td>17.900000</td>\n",
       "      <td>22.500000</td>\n",
       "      <td>16.800000</td>\n",
       "      <td>...</td>\n",
       "      <td>0.0</td>\n",
       "      <td>0.0</td>\n",
       "      <td>0.0</td>\n",
       "      <td>0.0</td>\n",
       "      <td>0.0</td>\n",
       "      <td>0.0</td>\n",
       "      <td>0.0</td>\n",
       "      <td>0.0</td>\n",
       "      <td>0.0</td>\n",
       "      <td>1.0</td>\n",
       "    </tr>\n",
       "    <tr>\n",
       "      <th>9</th>\n",
       "      <td>2.0</td>\n",
       "      <td>0.0</td>\n",
       "      <td>3.0</td>\n",
       "      <td>1.0</td>\n",
       "      <td>0.0</td>\n",
       "      <td>0.0</td>\n",
       "      <td>5.428571</td>\n",
       "      <td>4.142857</td>\n",
       "      <td>12.285714</td>\n",
       "      <td>9.142857</td>\n",
       "      <td>...</td>\n",
       "      <td>0.0</td>\n",
       "      <td>0.0</td>\n",
       "      <td>0.0</td>\n",
       "      <td>0.0</td>\n",
       "      <td>1.0</td>\n",
       "      <td>0.0</td>\n",
       "      <td>0.0</td>\n",
       "      <td>0.0</td>\n",
       "      <td>0.0</td>\n",
       "      <td>0.0</td>\n",
       "    </tr>\n",
       "    <tr>\n",
       "      <th>10</th>\n",
       "      <td>1.0</td>\n",
       "      <td>0.0</td>\n",
       "      <td>3.0</td>\n",
       "      <td>0.0</td>\n",
       "      <td>2.0</td>\n",
       "      <td>0.0</td>\n",
       "      <td>21.875000</td>\n",
       "      <td>13.000000</td>\n",
       "      <td>14.875000</td>\n",
       "      <td>10.250000</td>\n",
       "      <td>...</td>\n",
       "      <td>0.0</td>\n",
       "      <td>0.0</td>\n",
       "      <td>0.0</td>\n",
       "      <td>0.0</td>\n",
       "      <td>0.0</td>\n",
       "      <td>0.0</td>\n",
       "      <td>0.0</td>\n",
       "      <td>0.0</td>\n",
       "      <td>1.0</td>\n",
       "      <td>0.0</td>\n",
       "    </tr>\n",
       "    <tr>\n",
       "      <th>11</th>\n",
       "      <td>2.0</td>\n",
       "      <td>0.0</td>\n",
       "      <td>5.0</td>\n",
       "      <td>1.0</td>\n",
       "      <td>0.0</td>\n",
       "      <td>0.0</td>\n",
       "      <td>9.272727</td>\n",
       "      <td>6.181818</td>\n",
       "      <td>6.818182</td>\n",
       "      <td>5.272727</td>\n",
       "      <td>...</td>\n",
       "      <td>0.0</td>\n",
       "      <td>0.0</td>\n",
       "      <td>1.0</td>\n",
       "      <td>0.0</td>\n",
       "      <td>0.0</td>\n",
       "      <td>0.0</td>\n",
       "      <td>0.0</td>\n",
       "      <td>0.0</td>\n",
       "      <td>0.0</td>\n",
       "      <td>0.0</td>\n",
       "    </tr>\n",
       "    <tr>\n",
       "      <th>12</th>\n",
       "      <td>2.0</td>\n",
       "      <td>0.0</td>\n",
       "      <td>3.0</td>\n",
       "      <td>0.0</td>\n",
       "      <td>3.0</td>\n",
       "      <td>0.0</td>\n",
       "      <td>10.333333</td>\n",
       "      <td>8.333333</td>\n",
       "      <td>6.666667</td>\n",
       "      <td>4.666667</td>\n",
       "      <td>...</td>\n",
       "      <td>0.0</td>\n",
       "      <td>0.0</td>\n",
       "      <td>1.0</td>\n",
       "      <td>0.0</td>\n",
       "      <td>0.0</td>\n",
       "      <td>0.0</td>\n",
       "      <td>0.0</td>\n",
       "      <td>0.0</td>\n",
       "      <td>0.0</td>\n",
       "      <td>0.0</td>\n",
       "    </tr>\n",
       "    <tr>\n",
       "      <th>13</th>\n",
       "      <td>1.0</td>\n",
       "      <td>0.0</td>\n",
       "      <td>3.0</td>\n",
       "      <td>0.0</td>\n",
       "      <td>1.0</td>\n",
       "      <td>0.0</td>\n",
       "      <td>2.500000</td>\n",
       "      <td>1.000000</td>\n",
       "      <td>5.000000</td>\n",
       "      <td>2.500000</td>\n",
       "      <td>...</td>\n",
       "      <td>0.0</td>\n",
       "      <td>0.0</td>\n",
       "      <td>0.0</td>\n",
       "      <td>0.0</td>\n",
       "      <td>0.0</td>\n",
       "      <td>0.0</td>\n",
       "      <td>0.0</td>\n",
       "      <td>0.0</td>\n",
       "      <td>0.0</td>\n",
       "      <td>0.0</td>\n",
       "    </tr>\n",
       "    <tr>\n",
       "      <th>14</th>\n",
       "      <td>2.0</td>\n",
       "      <td>0.0</td>\n",
       "      <td>3.0</td>\n",
       "      <td>0.0</td>\n",
       "      <td>1.0</td>\n",
       "      <td>0.0</td>\n",
       "      <td>7.000000</td>\n",
       "      <td>4.200000</td>\n",
       "      <td>4.600000</td>\n",
       "      <td>2.600000</td>\n",
       "      <td>...</td>\n",
       "      <td>0.0</td>\n",
       "      <td>0.0</td>\n",
       "      <td>0.0</td>\n",
       "      <td>1.0</td>\n",
       "      <td>0.0</td>\n",
       "      <td>0.0</td>\n",
       "      <td>0.0</td>\n",
       "      <td>0.0</td>\n",
       "      <td>0.0</td>\n",
       "      <td>0.0</td>\n",
       "    </tr>\n",
       "    <tr>\n",
       "      <th>15</th>\n",
       "      <td>2.0</td>\n",
       "      <td>0.0</td>\n",
       "      <td>3.0</td>\n",
       "      <td>1.0</td>\n",
       "      <td>0.0</td>\n",
       "      <td>0.0</td>\n",
       "      <td>26.000000</td>\n",
       "      <td>22.200000</td>\n",
       "      <td>30.200000</td>\n",
       "      <td>24.800000</td>\n",
       "      <td>...</td>\n",
       "      <td>0.0</td>\n",
       "      <td>0.0</td>\n",
       "      <td>0.0</td>\n",
       "      <td>0.0</td>\n",
       "      <td>0.0</td>\n",
       "      <td>0.0</td>\n",
       "      <td>1.0</td>\n",
       "      <td>0.0</td>\n",
       "      <td>0.0</td>\n",
       "      <td>0.0</td>\n",
       "    </tr>\n",
       "    <tr>\n",
       "      <th>16</th>\n",
       "      <td>2.0</td>\n",
       "      <td>0.0</td>\n",
       "      <td>3.0</td>\n",
       "      <td>0.0</td>\n",
       "      <td>4.0</td>\n",
       "      <td>0.0</td>\n",
       "      <td>9.666667</td>\n",
       "      <td>5.166667</td>\n",
       "      <td>2.000000</td>\n",
       "      <td>1.000000</td>\n",
       "      <td>...</td>\n",
       "      <td>0.0</td>\n",
       "      <td>0.0</td>\n",
       "      <td>0.0</td>\n",
       "      <td>1.0</td>\n",
       "      <td>0.0</td>\n",
       "      <td>0.0</td>\n",
       "      <td>0.0</td>\n",
       "      <td>0.0</td>\n",
       "      <td>0.0</td>\n",
       "      <td>0.0</td>\n",
       "    </tr>\n",
       "    <tr>\n",
       "      <th>17</th>\n",
       "      <td>2.0</td>\n",
       "      <td>0.0</td>\n",
       "      <td>3.0</td>\n",
       "      <td>2.0</td>\n",
       "      <td>0.0</td>\n",
       "      <td>0.0</td>\n",
       "      <td>21.666667</td>\n",
       "      <td>17.666667</td>\n",
       "      <td>13.333333</td>\n",
       "      <td>10.333333</td>\n",
       "      <td>...</td>\n",
       "      <td>0.0</td>\n",
       "      <td>0.0</td>\n",
       "      <td>0.0</td>\n",
       "      <td>1.0</td>\n",
       "      <td>0.0</td>\n",
       "      <td>0.0</td>\n",
       "      <td>0.0</td>\n",
       "      <td>0.0</td>\n",
       "      <td>0.0</td>\n",
       "      <td>0.0</td>\n",
       "    </tr>\n",
       "    <tr>\n",
       "      <th>18</th>\n",
       "      <td>2.0</td>\n",
       "      <td>0.0</td>\n",
       "      <td>3.0</td>\n",
       "      <td>1.0</td>\n",
       "      <td>0.0</td>\n",
       "      <td>0.0</td>\n",
       "      <td>9.500000</td>\n",
       "      <td>7.166667</td>\n",
       "      <td>12.166667</td>\n",
       "      <td>9.000000</td>\n",
       "      <td>...</td>\n",
       "      <td>0.0</td>\n",
       "      <td>0.0</td>\n",
       "      <td>1.0</td>\n",
       "      <td>0.0</td>\n",
       "      <td>0.0</td>\n",
       "      <td>0.0</td>\n",
       "      <td>0.0</td>\n",
       "      <td>0.0</td>\n",
       "      <td>0.0</td>\n",
       "      <td>0.0</td>\n",
       "    </tr>\n",
       "    <tr>\n",
       "      <th>19</th>\n",
       "      <td>1.0</td>\n",
       "      <td>0.0</td>\n",
       "      <td>5.0</td>\n",
       "      <td>1.0</td>\n",
       "      <td>0.0</td>\n",
       "      <td>0.0</td>\n",
       "      <td>12.714286</td>\n",
       "      <td>9.714286</td>\n",
       "      <td>6.142857</td>\n",
       "      <td>4.714286</td>\n",
       "      <td>...</td>\n",
       "      <td>0.0</td>\n",
       "      <td>0.0</td>\n",
       "      <td>0.0</td>\n",
       "      <td>0.0</td>\n",
       "      <td>0.0</td>\n",
       "      <td>1.0</td>\n",
       "      <td>0.0</td>\n",
       "      <td>0.0</td>\n",
       "      <td>0.0</td>\n",
       "      <td>0.0</td>\n",
       "    </tr>\n",
       "    <tr>\n",
       "      <th>20</th>\n",
       "      <td>2.0</td>\n",
       "      <td>0.0</td>\n",
       "      <td>3.0</td>\n",
       "      <td>0.0</td>\n",
       "      <td>1.0</td>\n",
       "      <td>0.0</td>\n",
       "      <td>10.000000</td>\n",
       "      <td>10.000000</td>\n",
       "      <td>21.000000</td>\n",
       "      <td>14.000000</td>\n",
       "      <td>...</td>\n",
       "      <td>0.0</td>\n",
       "      <td>0.0</td>\n",
       "      <td>0.0</td>\n",
       "      <td>0.0</td>\n",
       "      <td>1.0</td>\n",
       "      <td>0.0</td>\n",
       "      <td>0.0</td>\n",
       "      <td>0.0</td>\n",
       "      <td>0.0</td>\n",
       "      <td>0.0</td>\n",
       "    </tr>\n",
       "    <tr>\n",
       "      <th>21</th>\n",
       "      <td>1.0</td>\n",
       "      <td>0.0</td>\n",
       "      <td>3.0</td>\n",
       "      <td>0.0</td>\n",
       "      <td>2.0</td>\n",
       "      <td>0.0</td>\n",
       "      <td>13.181818</td>\n",
       "      <td>10.590909</td>\n",
       "      <td>13.227273</td>\n",
       "      <td>8.863636</td>\n",
       "      <td>...</td>\n",
       "      <td>0.0</td>\n",
       "      <td>0.0</td>\n",
       "      <td>0.0</td>\n",
       "      <td>1.0</td>\n",
       "      <td>0.0</td>\n",
       "      <td>0.0</td>\n",
       "      <td>0.0</td>\n",
       "      <td>0.0</td>\n",
       "      <td>0.0</td>\n",
       "      <td>0.0</td>\n",
       "    </tr>\n",
       "    <tr>\n",
       "      <th>22</th>\n",
       "      <td>2.0</td>\n",
       "      <td>0.0</td>\n",
       "      <td>3.0</td>\n",
       "      <td>0.0</td>\n",
       "      <td>1.0</td>\n",
       "      <td>0.0</td>\n",
       "      <td>5.000000</td>\n",
       "      <td>2.000000</td>\n",
       "      <td>12.000000</td>\n",
       "      <td>5.000000</td>\n",
       "      <td>...</td>\n",
       "      <td>0.0</td>\n",
       "      <td>0.0</td>\n",
       "      <td>0.0</td>\n",
       "      <td>0.0</td>\n",
       "      <td>0.0</td>\n",
       "      <td>0.0</td>\n",
       "      <td>0.0</td>\n",
       "      <td>0.0</td>\n",
       "      <td>0.0</td>\n",
       "      <td>0.0</td>\n",
       "    </tr>\n",
       "    <tr>\n",
       "      <th>23</th>\n",
       "      <td>2.0</td>\n",
       "      <td>0.0</td>\n",
       "      <td>3.0</td>\n",
       "      <td>3.0</td>\n",
       "      <td>0.0</td>\n",
       "      <td>0.0</td>\n",
       "      <td>9.666667</td>\n",
       "      <td>7.952381</td>\n",
       "      <td>10.952381</td>\n",
       "      <td>7.857143</td>\n",
       "      <td>...</td>\n",
       "      <td>0.0</td>\n",
       "      <td>0.0</td>\n",
       "      <td>1.0</td>\n",
       "      <td>0.0</td>\n",
       "      <td>0.0</td>\n",
       "      <td>0.0</td>\n",
       "      <td>0.0</td>\n",
       "      <td>0.0</td>\n",
       "      <td>0.0</td>\n",
       "      <td>0.0</td>\n",
       "    </tr>\n",
       "    <tr>\n",
       "      <th>24</th>\n",
       "      <td>1.0</td>\n",
       "      <td>0.0</td>\n",
       "      <td>3.0</td>\n",
       "      <td>0.0</td>\n",
       "      <td>2.0</td>\n",
       "      <td>0.0</td>\n",
       "      <td>7.000000</td>\n",
       "      <td>6.000000</td>\n",
       "      <td>2.500000</td>\n",
       "      <td>2.500000</td>\n",
       "      <td>...</td>\n",
       "      <td>0.0</td>\n",
       "      <td>0.0</td>\n",
       "      <td>0.0</td>\n",
       "      <td>0.0</td>\n",
       "      <td>1.0</td>\n",
       "      <td>0.0</td>\n",
       "      <td>0.0</td>\n",
       "      <td>0.0</td>\n",
       "      <td>0.0</td>\n",
       "      <td>0.0</td>\n",
       "    </tr>\n",
       "    <tr>\n",
       "      <th>25</th>\n",
       "      <td>1.0</td>\n",
       "      <td>0.0</td>\n",
       "      <td>3.0</td>\n",
       "      <td>3.0</td>\n",
       "      <td>0.0</td>\n",
       "      <td>0.0</td>\n",
       "      <td>15.750000</td>\n",
       "      <td>11.750000</td>\n",
       "      <td>11.250000</td>\n",
       "      <td>8.000000</td>\n",
       "      <td>...</td>\n",
       "      <td>0.0</td>\n",
       "      <td>0.0</td>\n",
       "      <td>0.0</td>\n",
       "      <td>0.0</td>\n",
       "      <td>0.0</td>\n",
       "      <td>0.0</td>\n",
       "      <td>0.0</td>\n",
       "      <td>0.0</td>\n",
       "      <td>0.0</td>\n",
       "      <td>0.0</td>\n",
       "    </tr>\n",
       "    <tr>\n",
       "      <th>26</th>\n",
       "      <td>2.0</td>\n",
       "      <td>1.0</td>\n",
       "      <td>5.0</td>\n",
       "      <td>0.0</td>\n",
       "      <td>3.0</td>\n",
       "      <td>0.0</td>\n",
       "      <td>24.285714</td>\n",
       "      <td>18.285714</td>\n",
       "      <td>26.642857</td>\n",
       "      <td>16.285714</td>\n",
       "      <td>...</td>\n",
       "      <td>0.0</td>\n",
       "      <td>0.0</td>\n",
       "      <td>0.0</td>\n",
       "      <td>0.0</td>\n",
       "      <td>0.0</td>\n",
       "      <td>0.0</td>\n",
       "      <td>0.0</td>\n",
       "      <td>0.0</td>\n",
       "      <td>0.0</td>\n",
       "      <td>1.0</td>\n",
       "    </tr>\n",
       "    <tr>\n",
       "      <th>27</th>\n",
       "      <td>1.0</td>\n",
       "      <td>0.0</td>\n",
       "      <td>3.0</td>\n",
       "      <td>1.0</td>\n",
       "      <td>0.0</td>\n",
       "      <td>0.0</td>\n",
       "      <td>8.652174</td>\n",
       "      <td>6.956522</td>\n",
       "      <td>6.217391</td>\n",
       "      <td>5.217391</td>\n",
       "      <td>...</td>\n",
       "      <td>0.0</td>\n",
       "      <td>0.0</td>\n",
       "      <td>0.0</td>\n",
       "      <td>0.0</td>\n",
       "      <td>1.0</td>\n",
       "      <td>0.0</td>\n",
       "      <td>0.0</td>\n",
       "      <td>0.0</td>\n",
       "      <td>0.0</td>\n",
       "      <td>0.0</td>\n",
       "    </tr>\n",
       "    <tr>\n",
       "      <th>28</th>\n",
       "      <td>2.0</td>\n",
       "      <td>0.0</td>\n",
       "      <td>3.0</td>\n",
       "      <td>0.0</td>\n",
       "      <td>6.0</td>\n",
       "      <td>0.0</td>\n",
       "      <td>11.833333</td>\n",
       "      <td>8.833333</td>\n",
       "      <td>14.833333</td>\n",
       "      <td>10.500000</td>\n",
       "      <td>...</td>\n",
       "      <td>0.0</td>\n",
       "      <td>0.0</td>\n",
       "      <td>0.0</td>\n",
       "      <td>0.0</td>\n",
       "      <td>0.0</td>\n",
       "      <td>0.0</td>\n",
       "      <td>0.0</td>\n",
       "      <td>0.0</td>\n",
       "      <td>0.0</td>\n",
       "      <td>0.0</td>\n",
       "    </tr>\n",
       "    <tr>\n",
       "      <th>29</th>\n",
       "      <td>2.0</td>\n",
       "      <td>0.0</td>\n",
       "      <td>3.0</td>\n",
       "      <td>0.0</td>\n",
       "      <td>1.0</td>\n",
       "      <td>0.0</td>\n",
       "      <td>29.000000</td>\n",
       "      <td>15.000000</td>\n",
       "      <td>5.000000</td>\n",
       "      <td>3.000000</td>\n",
       "      <td>...</td>\n",
       "      <td>0.0</td>\n",
       "      <td>0.0</td>\n",
       "      <td>0.0</td>\n",
       "      <td>0.0</td>\n",
       "      <td>0.0</td>\n",
       "      <td>1.0</td>\n",
       "      <td>0.0</td>\n",
       "      <td>0.0</td>\n",
       "      <td>0.0</td>\n",
       "      <td>0.0</td>\n",
       "    </tr>\n",
       "    <tr>\n",
       "      <th>...</th>\n",
       "      <td>...</td>\n",
       "      <td>...</td>\n",
       "      <td>...</td>\n",
       "      <td>...</td>\n",
       "      <td>...</td>\n",
       "      <td>...</td>\n",
       "      <td>...</td>\n",
       "      <td>...</td>\n",
       "      <td>...</td>\n",
       "      <td>...</td>\n",
       "      <td>...</td>\n",
       "      <td>...</td>\n",
       "      <td>...</td>\n",
       "      <td>...</td>\n",
       "      <td>...</td>\n",
       "      <td>...</td>\n",
       "      <td>...</td>\n",
       "      <td>...</td>\n",
       "      <td>...</td>\n",
       "      <td>...</td>\n",
       "      <td>...</td>\n",
       "    </tr>\n",
       "    <tr>\n",
       "      <th>3185</th>\n",
       "      <td>1.0</td>\n",
       "      <td>1.0</td>\n",
       "      <td>5.0</td>\n",
       "      <td>0.0</td>\n",
       "      <td>6.0</td>\n",
       "      <td>0.0</td>\n",
       "      <td>6.333333</td>\n",
       "      <td>6.222222</td>\n",
       "      <td>1.000000</td>\n",
       "      <td>0.666667</td>\n",
       "      <td>...</td>\n",
       "      <td>0.0</td>\n",
       "      <td>0.0</td>\n",
       "      <td>0.0</td>\n",
       "      <td>0.0</td>\n",
       "      <td>0.0</td>\n",
       "      <td>1.0</td>\n",
       "      <td>0.0</td>\n",
       "      <td>0.0</td>\n",
       "      <td>0.0</td>\n",
       "      <td>0.0</td>\n",
       "    </tr>\n",
       "    <tr>\n",
       "      <th>3186</th>\n",
       "      <td>1.0</td>\n",
       "      <td>0.0</td>\n",
       "      <td>3.0</td>\n",
       "      <td>0.0</td>\n",
       "      <td>2.0</td>\n",
       "      <td>0.0</td>\n",
       "      <td>2.500000</td>\n",
       "      <td>2.500000</td>\n",
       "      <td>10.000000</td>\n",
       "      <td>6.500000</td>\n",
       "      <td>...</td>\n",
       "      <td>0.0</td>\n",
       "      <td>0.0</td>\n",
       "      <td>0.0</td>\n",
       "      <td>1.0</td>\n",
       "      <td>0.0</td>\n",
       "      <td>0.0</td>\n",
       "      <td>0.0</td>\n",
       "      <td>0.0</td>\n",
       "      <td>0.0</td>\n",
       "      <td>0.0</td>\n",
       "    </tr>\n",
       "    <tr>\n",
       "      <th>3187</th>\n",
       "      <td>1.0</td>\n",
       "      <td>0.0</td>\n",
       "      <td>3.0</td>\n",
       "      <td>1.0</td>\n",
       "      <td>0.0</td>\n",
       "      <td>0.0</td>\n",
       "      <td>12.400000</td>\n",
       "      <td>12.200000</td>\n",
       "      <td>12.200000</td>\n",
       "      <td>8.200000</td>\n",
       "      <td>...</td>\n",
       "      <td>0.0</td>\n",
       "      <td>0.0</td>\n",
       "      <td>0.0</td>\n",
       "      <td>0.0</td>\n",
       "      <td>1.0</td>\n",
       "      <td>0.0</td>\n",
       "      <td>0.0</td>\n",
       "      <td>0.0</td>\n",
       "      <td>0.0</td>\n",
       "      <td>0.0</td>\n",
       "    </tr>\n",
       "    <tr>\n",
       "      <th>3188</th>\n",
       "      <td>1.0</td>\n",
       "      <td>0.0</td>\n",
       "      <td>3.0</td>\n",
       "      <td>1.0</td>\n",
       "      <td>0.0</td>\n",
       "      <td>0.0</td>\n",
       "      <td>2.000000</td>\n",
       "      <td>2.000000</td>\n",
       "      <td>0.000000</td>\n",
       "      <td>0.000000</td>\n",
       "      <td>...</td>\n",
       "      <td>0.0</td>\n",
       "      <td>0.0</td>\n",
       "      <td>0.0</td>\n",
       "      <td>0.0</td>\n",
       "      <td>0.0</td>\n",
       "      <td>1.0</td>\n",
       "      <td>0.0</td>\n",
       "      <td>0.0</td>\n",
       "      <td>0.0</td>\n",
       "      <td>0.0</td>\n",
       "    </tr>\n",
       "    <tr>\n",
       "      <th>3189</th>\n",
       "      <td>1.0</td>\n",
       "      <td>1.0</td>\n",
       "      <td>5.0</td>\n",
       "      <td>0.0</td>\n",
       "      <td>6.0</td>\n",
       "      <td>0.0</td>\n",
       "      <td>3.181818</td>\n",
       "      <td>2.636364</td>\n",
       "      <td>11.000000</td>\n",
       "      <td>7.727273</td>\n",
       "      <td>...</td>\n",
       "      <td>0.0</td>\n",
       "      <td>0.0</td>\n",
       "      <td>1.0</td>\n",
       "      <td>0.0</td>\n",
       "      <td>0.0</td>\n",
       "      <td>0.0</td>\n",
       "      <td>0.0</td>\n",
       "      <td>0.0</td>\n",
       "      <td>0.0</td>\n",
       "      <td>0.0</td>\n",
       "    </tr>\n",
       "    <tr>\n",
       "      <th>3190</th>\n",
       "      <td>1.0</td>\n",
       "      <td>0.0</td>\n",
       "      <td>3.0</td>\n",
       "      <td>0.0</td>\n",
       "      <td>2.0</td>\n",
       "      <td>0.0</td>\n",
       "      <td>4.500000</td>\n",
       "      <td>3.500000</td>\n",
       "      <td>6.750000</td>\n",
       "      <td>5.750000</td>\n",
       "      <td>...</td>\n",
       "      <td>0.0</td>\n",
       "      <td>1.0</td>\n",
       "      <td>0.0</td>\n",
       "      <td>0.0</td>\n",
       "      <td>0.0</td>\n",
       "      <td>0.0</td>\n",
       "      <td>0.0</td>\n",
       "      <td>0.0</td>\n",
       "      <td>0.0</td>\n",
       "      <td>0.0</td>\n",
       "    </tr>\n",
       "    <tr>\n",
       "      <th>3191</th>\n",
       "      <td>1.0</td>\n",
       "      <td>0.0</td>\n",
       "      <td>3.0</td>\n",
       "      <td>1.0</td>\n",
       "      <td>0.0</td>\n",
       "      <td>0.0</td>\n",
       "      <td>5.000000</td>\n",
       "      <td>4.000000</td>\n",
       "      <td>7.166667</td>\n",
       "      <td>5.666667</td>\n",
       "      <td>...</td>\n",
       "      <td>0.0</td>\n",
       "      <td>0.0</td>\n",
       "      <td>0.0</td>\n",
       "      <td>1.0</td>\n",
       "      <td>0.0</td>\n",
       "      <td>0.0</td>\n",
       "      <td>0.0</td>\n",
       "      <td>0.0</td>\n",
       "      <td>0.0</td>\n",
       "      <td>0.0</td>\n",
       "    </tr>\n",
       "    <tr>\n",
       "      <th>3192</th>\n",
       "      <td>1.0</td>\n",
       "      <td>1.0</td>\n",
       "      <td>5.0</td>\n",
       "      <td>0.0</td>\n",
       "      <td>7.0</td>\n",
       "      <td>0.0</td>\n",
       "      <td>3.333333</td>\n",
       "      <td>2.111111</td>\n",
       "      <td>9.222222</td>\n",
       "      <td>6.111111</td>\n",
       "      <td>...</td>\n",
       "      <td>0.0</td>\n",
       "      <td>0.0</td>\n",
       "      <td>1.0</td>\n",
       "      <td>0.0</td>\n",
       "      <td>0.0</td>\n",
       "      <td>0.0</td>\n",
       "      <td>0.0</td>\n",
       "      <td>0.0</td>\n",
       "      <td>0.0</td>\n",
       "      <td>0.0</td>\n",
       "    </tr>\n",
       "    <tr>\n",
       "      <th>3193</th>\n",
       "      <td>1.0</td>\n",
       "      <td>1.0</td>\n",
       "      <td>5.0</td>\n",
       "      <td>0.0</td>\n",
       "      <td>3.0</td>\n",
       "      <td>0.0</td>\n",
       "      <td>0.333333</td>\n",
       "      <td>0.333333</td>\n",
       "      <td>2.333333</td>\n",
       "      <td>2.000000</td>\n",
       "      <td>...</td>\n",
       "      <td>0.0</td>\n",
       "      <td>0.0</td>\n",
       "      <td>0.0</td>\n",
       "      <td>0.0</td>\n",
       "      <td>0.0</td>\n",
       "      <td>1.0</td>\n",
       "      <td>0.0</td>\n",
       "      <td>0.0</td>\n",
       "      <td>0.0</td>\n",
       "      <td>0.0</td>\n",
       "    </tr>\n",
       "    <tr>\n",
       "      <th>3194</th>\n",
       "      <td>3.0</td>\n",
       "      <td>1.0</td>\n",
       "      <td>5.0</td>\n",
       "      <td>0.0</td>\n",
       "      <td>2.0</td>\n",
       "      <td>0.0</td>\n",
       "      <td>2.800000</td>\n",
       "      <td>2.400000</td>\n",
       "      <td>5.600000</td>\n",
       "      <td>4.000000</td>\n",
       "      <td>...</td>\n",
       "      <td>0.0</td>\n",
       "      <td>0.0</td>\n",
       "      <td>0.0</td>\n",
       "      <td>1.0</td>\n",
       "      <td>0.0</td>\n",
       "      <td>0.0</td>\n",
       "      <td>0.0</td>\n",
       "      <td>0.0</td>\n",
       "      <td>0.0</td>\n",
       "      <td>0.0</td>\n",
       "    </tr>\n",
       "    <tr>\n",
       "      <th>3195</th>\n",
       "      <td>1.0</td>\n",
       "      <td>0.0</td>\n",
       "      <td>3.0</td>\n",
       "      <td>0.0</td>\n",
       "      <td>2.0</td>\n",
       "      <td>0.0</td>\n",
       "      <td>8.250000</td>\n",
       "      <td>8.000000</td>\n",
       "      <td>6.750000</td>\n",
       "      <td>4.750000</td>\n",
       "      <td>...</td>\n",
       "      <td>0.0</td>\n",
       "      <td>0.0</td>\n",
       "      <td>0.0</td>\n",
       "      <td>0.0</td>\n",
       "      <td>1.0</td>\n",
       "      <td>0.0</td>\n",
       "      <td>0.0</td>\n",
       "      <td>0.0</td>\n",
       "      <td>0.0</td>\n",
       "      <td>0.0</td>\n",
       "    </tr>\n",
       "    <tr>\n",
       "      <th>3196</th>\n",
       "      <td>1.0</td>\n",
       "      <td>1.0</td>\n",
       "      <td>5.0</td>\n",
       "      <td>0.0</td>\n",
       "      <td>1.0</td>\n",
       "      <td>0.0</td>\n",
       "      <td>2.100000</td>\n",
       "      <td>1.800000</td>\n",
       "      <td>1.100000</td>\n",
       "      <td>0.900000</td>\n",
       "      <td>...</td>\n",
       "      <td>0.0</td>\n",
       "      <td>0.0</td>\n",
       "      <td>1.0</td>\n",
       "      <td>0.0</td>\n",
       "      <td>0.0</td>\n",
       "      <td>0.0</td>\n",
       "      <td>0.0</td>\n",
       "      <td>0.0</td>\n",
       "      <td>0.0</td>\n",
       "      <td>0.0</td>\n",
       "    </tr>\n",
       "    <tr>\n",
       "      <th>3197</th>\n",
       "      <td>1.0</td>\n",
       "      <td>0.0</td>\n",
       "      <td>3.0</td>\n",
       "      <td>0.0</td>\n",
       "      <td>1.0</td>\n",
       "      <td>0.0</td>\n",
       "      <td>1.000000</td>\n",
       "      <td>1.000000</td>\n",
       "      <td>0.333333</td>\n",
       "      <td>0.333333</td>\n",
       "      <td>...</td>\n",
       "      <td>0.0</td>\n",
       "      <td>0.0</td>\n",
       "      <td>1.0</td>\n",
       "      <td>0.0</td>\n",
       "      <td>0.0</td>\n",
       "      <td>0.0</td>\n",
       "      <td>0.0</td>\n",
       "      <td>0.0</td>\n",
       "      <td>0.0</td>\n",
       "      <td>0.0</td>\n",
       "    </tr>\n",
       "    <tr>\n",
       "      <th>3198</th>\n",
       "      <td>1.0</td>\n",
       "      <td>0.0</td>\n",
       "      <td>3.0</td>\n",
       "      <td>0.0</td>\n",
       "      <td>2.0</td>\n",
       "      <td>0.0</td>\n",
       "      <td>2.333333</td>\n",
       "      <td>2.000000</td>\n",
       "      <td>1.333333</td>\n",
       "      <td>1.000000</td>\n",
       "      <td>...</td>\n",
       "      <td>0.0</td>\n",
       "      <td>0.0</td>\n",
       "      <td>0.0</td>\n",
       "      <td>1.0</td>\n",
       "      <td>0.0</td>\n",
       "      <td>0.0</td>\n",
       "      <td>0.0</td>\n",
       "      <td>0.0</td>\n",
       "      <td>0.0</td>\n",
       "      <td>0.0</td>\n",
       "    </tr>\n",
       "    <tr>\n",
       "      <th>3199</th>\n",
       "      <td>1.0</td>\n",
       "      <td>0.0</td>\n",
       "      <td>3.0</td>\n",
       "      <td>2.0</td>\n",
       "      <td>0.0</td>\n",
       "      <td>0.0</td>\n",
       "      <td>1.333333</td>\n",
       "      <td>1.000000</td>\n",
       "      <td>1.000000</td>\n",
       "      <td>0.666667</td>\n",
       "      <td>...</td>\n",
       "      <td>0.0</td>\n",
       "      <td>0.0</td>\n",
       "      <td>1.0</td>\n",
       "      <td>0.0</td>\n",
       "      <td>0.0</td>\n",
       "      <td>0.0</td>\n",
       "      <td>0.0</td>\n",
       "      <td>0.0</td>\n",
       "      <td>0.0</td>\n",
       "      <td>0.0</td>\n",
       "    </tr>\n",
       "    <tr>\n",
       "      <th>3200</th>\n",
       "      <td>1.0</td>\n",
       "      <td>0.0</td>\n",
       "      <td>3.0</td>\n",
       "      <td>0.0</td>\n",
       "      <td>2.0</td>\n",
       "      <td>0.0</td>\n",
       "      <td>0.333333</td>\n",
       "      <td>0.333333</td>\n",
       "      <td>5.666667</td>\n",
       "      <td>2.833333</td>\n",
       "      <td>...</td>\n",
       "      <td>0.0</td>\n",
       "      <td>0.0</td>\n",
       "      <td>1.0</td>\n",
       "      <td>0.0</td>\n",
       "      <td>0.0</td>\n",
       "      <td>0.0</td>\n",
       "      <td>0.0</td>\n",
       "      <td>0.0</td>\n",
       "      <td>0.0</td>\n",
       "      <td>0.0</td>\n",
       "    </tr>\n",
       "    <tr>\n",
       "      <th>3201</th>\n",
       "      <td>1.0</td>\n",
       "      <td>0.0</td>\n",
       "      <td>3.0</td>\n",
       "      <td>1.0</td>\n",
       "      <td>0.0</td>\n",
       "      <td>0.0</td>\n",
       "      <td>4.000000</td>\n",
       "      <td>4.000000</td>\n",
       "      <td>6.000000</td>\n",
       "      <td>6.000000</td>\n",
       "      <td>...</td>\n",
       "      <td>0.0</td>\n",
       "      <td>0.0</td>\n",
       "      <td>0.0</td>\n",
       "      <td>1.0</td>\n",
       "      <td>0.0</td>\n",
       "      <td>0.0</td>\n",
       "      <td>0.0</td>\n",
       "      <td>0.0</td>\n",
       "      <td>0.0</td>\n",
       "      <td>0.0</td>\n",
       "    </tr>\n",
       "    <tr>\n",
       "      <th>3202</th>\n",
       "      <td>1.0</td>\n",
       "      <td>1.0</td>\n",
       "      <td>5.0</td>\n",
       "      <td>0.0</td>\n",
       "      <td>7.0</td>\n",
       "      <td>0.0</td>\n",
       "      <td>2.571429</td>\n",
       "      <td>2.285714</td>\n",
       "      <td>10.285714</td>\n",
       "      <td>8.571429</td>\n",
       "      <td>...</td>\n",
       "      <td>0.0</td>\n",
       "      <td>1.0</td>\n",
       "      <td>0.0</td>\n",
       "      <td>0.0</td>\n",
       "      <td>0.0</td>\n",
       "      <td>0.0</td>\n",
       "      <td>0.0</td>\n",
       "      <td>0.0</td>\n",
       "      <td>0.0</td>\n",
       "      <td>0.0</td>\n",
       "    </tr>\n",
       "    <tr>\n",
       "      <th>3203</th>\n",
       "      <td>1.0</td>\n",
       "      <td>0.0</td>\n",
       "      <td>3.0</td>\n",
       "      <td>1.0</td>\n",
       "      <td>0.0</td>\n",
       "      <td>0.0</td>\n",
       "      <td>1.000000</td>\n",
       "      <td>0.500000</td>\n",
       "      <td>0.000000</td>\n",
       "      <td>0.000000</td>\n",
       "      <td>...</td>\n",
       "      <td>0.0</td>\n",
       "      <td>0.0</td>\n",
       "      <td>1.0</td>\n",
       "      <td>0.0</td>\n",
       "      <td>0.0</td>\n",
       "      <td>0.0</td>\n",
       "      <td>0.0</td>\n",
       "      <td>0.0</td>\n",
       "      <td>0.0</td>\n",
       "      <td>0.0</td>\n",
       "    </tr>\n",
       "    <tr>\n",
       "      <th>3204</th>\n",
       "      <td>1.0</td>\n",
       "      <td>1.0</td>\n",
       "      <td>5.0</td>\n",
       "      <td>0.0</td>\n",
       "      <td>3.0</td>\n",
       "      <td>0.0</td>\n",
       "      <td>2.333333</td>\n",
       "      <td>2.333333</td>\n",
       "      <td>2.333333</td>\n",
       "      <td>2.333333</td>\n",
       "      <td>...</td>\n",
       "      <td>0.0</td>\n",
       "      <td>0.0</td>\n",
       "      <td>0.0</td>\n",
       "      <td>1.0</td>\n",
       "      <td>0.0</td>\n",
       "      <td>0.0</td>\n",
       "      <td>0.0</td>\n",
       "      <td>0.0</td>\n",
       "      <td>0.0</td>\n",
       "      <td>0.0</td>\n",
       "    </tr>\n",
       "    <tr>\n",
       "      <th>3205</th>\n",
       "      <td>1.0</td>\n",
       "      <td>0.0</td>\n",
       "      <td>3.0</td>\n",
       "      <td>0.0</td>\n",
       "      <td>1.0</td>\n",
       "      <td>0.0</td>\n",
       "      <td>2.500000</td>\n",
       "      <td>2.000000</td>\n",
       "      <td>5.500000</td>\n",
       "      <td>3.500000</td>\n",
       "      <td>...</td>\n",
       "      <td>0.0</td>\n",
       "      <td>0.0</td>\n",
       "      <td>0.0</td>\n",
       "      <td>1.0</td>\n",
       "      <td>0.0</td>\n",
       "      <td>0.0</td>\n",
       "      <td>0.0</td>\n",
       "      <td>0.0</td>\n",
       "      <td>0.0</td>\n",
       "      <td>0.0</td>\n",
       "    </tr>\n",
       "    <tr>\n",
       "      <th>3206</th>\n",
       "      <td>1.0</td>\n",
       "      <td>0.0</td>\n",
       "      <td>3.0</td>\n",
       "      <td>0.0</td>\n",
       "      <td>1.0</td>\n",
       "      <td>0.0</td>\n",
       "      <td>26.000000</td>\n",
       "      <td>26.000000</td>\n",
       "      <td>0.000000</td>\n",
       "      <td>0.000000</td>\n",
       "      <td>...</td>\n",
       "      <td>0.0</td>\n",
       "      <td>0.0</td>\n",
       "      <td>0.0</td>\n",
       "      <td>0.0</td>\n",
       "      <td>1.0</td>\n",
       "      <td>0.0</td>\n",
       "      <td>0.0</td>\n",
       "      <td>0.0</td>\n",
       "      <td>0.0</td>\n",
       "      <td>0.0</td>\n",
       "    </tr>\n",
       "    <tr>\n",
       "      <th>3207</th>\n",
       "      <td>1.0</td>\n",
       "      <td>1.0</td>\n",
       "      <td>5.0</td>\n",
       "      <td>0.0</td>\n",
       "      <td>1.0</td>\n",
       "      <td>0.0</td>\n",
       "      <td>6.000000</td>\n",
       "      <td>5.000000</td>\n",
       "      <td>1.000000</td>\n",
       "      <td>1.000000</td>\n",
       "      <td>...</td>\n",
       "      <td>0.0</td>\n",
       "      <td>0.0</td>\n",
       "      <td>1.0</td>\n",
       "      <td>0.0</td>\n",
       "      <td>0.0</td>\n",
       "      <td>0.0</td>\n",
       "      <td>0.0</td>\n",
       "      <td>0.0</td>\n",
       "      <td>0.0</td>\n",
       "      <td>0.0</td>\n",
       "    </tr>\n",
       "    <tr>\n",
       "      <th>3208</th>\n",
       "      <td>1.0</td>\n",
       "      <td>1.0</td>\n",
       "      <td>5.0</td>\n",
       "      <td>0.0</td>\n",
       "      <td>1.0</td>\n",
       "      <td>0.0</td>\n",
       "      <td>0.000000</td>\n",
       "      <td>0.000000</td>\n",
       "      <td>0.000000</td>\n",
       "      <td>0.000000</td>\n",
       "      <td>...</td>\n",
       "      <td>0.0</td>\n",
       "      <td>0.0</td>\n",
       "      <td>0.0</td>\n",
       "      <td>1.0</td>\n",
       "      <td>0.0</td>\n",
       "      <td>0.0</td>\n",
       "      <td>0.0</td>\n",
       "      <td>0.0</td>\n",
       "      <td>0.0</td>\n",
       "      <td>0.0</td>\n",
       "    </tr>\n",
       "    <tr>\n",
       "      <th>3209</th>\n",
       "      <td>1.0</td>\n",
       "      <td>1.0</td>\n",
       "      <td>5.0</td>\n",
       "      <td>0.0</td>\n",
       "      <td>1.0</td>\n",
       "      <td>0.0</td>\n",
       "      <td>1.000000</td>\n",
       "      <td>1.000000</td>\n",
       "      <td>0.000000</td>\n",
       "      <td>0.000000</td>\n",
       "      <td>...</td>\n",
       "      <td>0.0</td>\n",
       "      <td>0.0</td>\n",
       "      <td>1.0</td>\n",
       "      <td>0.0</td>\n",
       "      <td>0.0</td>\n",
       "      <td>0.0</td>\n",
       "      <td>0.0</td>\n",
       "      <td>0.0</td>\n",
       "      <td>0.0</td>\n",
       "      <td>0.0</td>\n",
       "    </tr>\n",
       "    <tr>\n",
       "      <th>3210</th>\n",
       "      <td>1.0</td>\n",
       "      <td>1.0</td>\n",
       "      <td>5.0</td>\n",
       "      <td>0.0</td>\n",
       "      <td>3.0</td>\n",
       "      <td>0.0</td>\n",
       "      <td>7.666667</td>\n",
       "      <td>6.666667</td>\n",
       "      <td>10.000000</td>\n",
       "      <td>7.000000</td>\n",
       "      <td>...</td>\n",
       "      <td>0.0</td>\n",
       "      <td>0.0</td>\n",
       "      <td>1.0</td>\n",
       "      <td>0.0</td>\n",
       "      <td>0.0</td>\n",
       "      <td>0.0</td>\n",
       "      <td>0.0</td>\n",
       "      <td>0.0</td>\n",
       "      <td>0.0</td>\n",
       "      <td>0.0</td>\n",
       "    </tr>\n",
       "    <tr>\n",
       "      <th>3211</th>\n",
       "      <td>1.0</td>\n",
       "      <td>0.0</td>\n",
       "      <td>3.0</td>\n",
       "      <td>0.0</td>\n",
       "      <td>1.0</td>\n",
       "      <td>0.0</td>\n",
       "      <td>12.000000</td>\n",
       "      <td>10.000000</td>\n",
       "      <td>6.000000</td>\n",
       "      <td>3.000000</td>\n",
       "      <td>...</td>\n",
       "      <td>0.0</td>\n",
       "      <td>0.0</td>\n",
       "      <td>0.0</td>\n",
       "      <td>0.0</td>\n",
       "      <td>1.0</td>\n",
       "      <td>0.0</td>\n",
       "      <td>0.0</td>\n",
       "      <td>0.0</td>\n",
       "      <td>0.0</td>\n",
       "      <td>0.0</td>\n",
       "    </tr>\n",
       "    <tr>\n",
       "      <th>3212</th>\n",
       "      <td>1.0</td>\n",
       "      <td>1.0</td>\n",
       "      <td>5.0</td>\n",
       "      <td>0.0</td>\n",
       "      <td>1.0</td>\n",
       "      <td>0.0</td>\n",
       "      <td>7.000000</td>\n",
       "      <td>6.500000</td>\n",
       "      <td>14.500000</td>\n",
       "      <td>12.000000</td>\n",
       "      <td>...</td>\n",
       "      <td>0.0</td>\n",
       "      <td>0.0</td>\n",
       "      <td>1.0</td>\n",
       "      <td>0.0</td>\n",
       "      <td>0.0</td>\n",
       "      <td>0.0</td>\n",
       "      <td>0.0</td>\n",
       "      <td>0.0</td>\n",
       "      <td>0.0</td>\n",
       "      <td>0.0</td>\n",
       "    </tr>\n",
       "    <tr>\n",
       "      <th>3213</th>\n",
       "      <td>1.0</td>\n",
       "      <td>0.0</td>\n",
       "      <td>2.0</td>\n",
       "      <td>0.0</td>\n",
       "      <td>1.0</td>\n",
       "      <td>0.0</td>\n",
       "      <td>9.000000</td>\n",
       "      <td>6.000000</td>\n",
       "      <td>36.000000</td>\n",
       "      <td>21.000000</td>\n",
       "      <td>...</td>\n",
       "      <td>0.0</td>\n",
       "      <td>0.0</td>\n",
       "      <td>0.0</td>\n",
       "      <td>0.0</td>\n",
       "      <td>1.0</td>\n",
       "      <td>0.0</td>\n",
       "      <td>0.0</td>\n",
       "      <td>0.0</td>\n",
       "      <td>0.0</td>\n",
       "      <td>0.0</td>\n",
       "    </tr>\n",
       "    <tr>\n",
       "      <th>3214</th>\n",
       "      <td>1.0</td>\n",
       "      <td>0.0</td>\n",
       "      <td>2.0</td>\n",
       "      <td>0.0</td>\n",
       "      <td>3.0</td>\n",
       "      <td>0.0</td>\n",
       "      <td>0.666667</td>\n",
       "      <td>0.666667</td>\n",
       "      <td>8.666667</td>\n",
       "      <td>4.000000</td>\n",
       "      <td>...</td>\n",
       "      <td>0.0</td>\n",
       "      <td>1.0</td>\n",
       "      <td>0.0</td>\n",
       "      <td>0.0</td>\n",
       "      <td>0.0</td>\n",
       "      <td>0.0</td>\n",
       "      <td>0.0</td>\n",
       "      <td>0.0</td>\n",
       "      <td>0.0</td>\n",
       "      <td>0.0</td>\n",
       "    </tr>\n",
       "  </tbody>\n",
       "</table>\n",
       "<p>3215 rows × 158 columns</p>\n",
       "</div>"
      ],
      "text/plain": [
       "      Winner  title_bout  no_of_rounds  B_current_lose_streak  \\\n",
       "0        1.0         1.0           5.0                    0.0   \n",
       "1        1.0         1.0           5.0                    0.0   \n",
       "2        1.0         0.0           3.0                    0.0   \n",
       "3        2.0         0.0           3.0                    0.0   \n",
       "4        2.0         0.0           3.0                    0.0   \n",
       "5        1.0         0.0           3.0                    0.0   \n",
       "6        2.0         0.0           3.0                    1.0   \n",
       "7        2.0         0.0           3.0                    0.0   \n",
       "8        1.0         0.0           3.0                    0.0   \n",
       "9        2.0         0.0           3.0                    1.0   \n",
       "10       1.0         0.0           3.0                    0.0   \n",
       "11       2.0         0.0           5.0                    1.0   \n",
       "12       2.0         0.0           3.0                    0.0   \n",
       "13       1.0         0.0           3.0                    0.0   \n",
       "14       2.0         0.0           3.0                    0.0   \n",
       "15       2.0         0.0           3.0                    1.0   \n",
       "16       2.0         0.0           3.0                    0.0   \n",
       "17       2.0         0.0           3.0                    2.0   \n",
       "18       2.0         0.0           3.0                    1.0   \n",
       "19       1.0         0.0           5.0                    1.0   \n",
       "20       2.0         0.0           3.0                    0.0   \n",
       "21       1.0         0.0           3.0                    0.0   \n",
       "22       2.0         0.0           3.0                    0.0   \n",
       "23       2.0         0.0           3.0                    3.0   \n",
       "24       1.0         0.0           3.0                    0.0   \n",
       "25       1.0         0.0           3.0                    3.0   \n",
       "26       2.0         1.0           5.0                    0.0   \n",
       "27       1.0         0.0           3.0                    1.0   \n",
       "28       2.0         0.0           3.0                    0.0   \n",
       "29       2.0         0.0           3.0                    0.0   \n",
       "...      ...         ...           ...                    ...   \n",
       "3185     1.0         1.0           5.0                    0.0   \n",
       "3186     1.0         0.0           3.0                    0.0   \n",
       "3187     1.0         0.0           3.0                    1.0   \n",
       "3188     1.0         0.0           3.0                    1.0   \n",
       "3189     1.0         1.0           5.0                    0.0   \n",
       "3190     1.0         0.0           3.0                    0.0   \n",
       "3191     1.0         0.0           3.0                    1.0   \n",
       "3192     1.0         1.0           5.0                    0.0   \n",
       "3193     1.0         1.0           5.0                    0.0   \n",
       "3194     3.0         1.0           5.0                    0.0   \n",
       "3195     1.0         0.0           3.0                    0.0   \n",
       "3196     1.0         1.0           5.0                    0.0   \n",
       "3197     1.0         0.0           3.0                    0.0   \n",
       "3198     1.0         0.0           3.0                    0.0   \n",
       "3199     1.0         0.0           3.0                    2.0   \n",
       "3200     1.0         0.0           3.0                    0.0   \n",
       "3201     1.0         0.0           3.0                    1.0   \n",
       "3202     1.0         1.0           5.0                    0.0   \n",
       "3203     1.0         0.0           3.0                    1.0   \n",
       "3204     1.0         1.0           5.0                    0.0   \n",
       "3205     1.0         0.0           3.0                    0.0   \n",
       "3206     1.0         0.0           3.0                    0.0   \n",
       "3207     1.0         1.0           5.0                    0.0   \n",
       "3208     1.0         1.0           5.0                    0.0   \n",
       "3209     1.0         1.0           5.0                    0.0   \n",
       "3210     1.0         1.0           5.0                    0.0   \n",
       "3211     1.0         0.0           3.0                    0.0   \n",
       "3212     1.0         1.0           5.0                    0.0   \n",
       "3213     1.0         0.0           2.0                    0.0   \n",
       "3214     1.0         0.0           2.0                    0.0   \n",
       "\n",
       "      B_current_win_streak  B_draw  B_avg_BODY_att  B_avg_BODY_landed  \\\n",
       "0                      4.0     0.0        9.200000           6.000000   \n",
       "1                      3.0     0.0       14.600000           9.100000   \n",
       "2                      3.0     0.0       15.354839          11.322581   \n",
       "3                      4.0     0.0       17.000000          14.000000   \n",
       "4                      1.0     0.0       17.000000          14.500000   \n",
       "5                      3.0     0.0       15.000000           7.416667   \n",
       "6                      0.0     0.0       16.250000          11.000000   \n",
       "7                      1.0     0.0        7.250000           4.750000   \n",
       "8                      1.0     0.0       25.400000          17.900000   \n",
       "9                      0.0     0.0        5.428571           4.142857   \n",
       "10                     2.0     0.0       21.875000          13.000000   \n",
       "11                     0.0     0.0        9.272727           6.181818   \n",
       "12                     3.0     0.0       10.333333           8.333333   \n",
       "13                     1.0     0.0        2.500000           1.000000   \n",
       "14                     1.0     0.0        7.000000           4.200000   \n",
       "15                     0.0     0.0       26.000000          22.200000   \n",
       "16                     4.0     0.0        9.666667           5.166667   \n",
       "17                     0.0     0.0       21.666667          17.666667   \n",
       "18                     0.0     0.0        9.500000           7.166667   \n",
       "19                     0.0     0.0       12.714286           9.714286   \n",
       "20                     1.0     0.0       10.000000          10.000000   \n",
       "21                     2.0     0.0       13.181818          10.590909   \n",
       "22                     1.0     0.0        5.000000           2.000000   \n",
       "23                     0.0     0.0        9.666667           7.952381   \n",
       "24                     2.0     0.0        7.000000           6.000000   \n",
       "25                     0.0     0.0       15.750000          11.750000   \n",
       "26                     3.0     0.0       24.285714          18.285714   \n",
       "27                     0.0     0.0        8.652174           6.956522   \n",
       "28                     6.0     0.0       11.833333           8.833333   \n",
       "29                     1.0     0.0       29.000000          15.000000   \n",
       "...                    ...     ...             ...                ...   \n",
       "3185                   6.0     0.0        6.333333           6.222222   \n",
       "3186                   2.0     0.0        2.500000           2.500000   \n",
       "3187                   0.0     0.0       12.400000          12.200000   \n",
       "3188                   0.0     0.0        2.000000           2.000000   \n",
       "3189                   6.0     0.0        3.181818           2.636364   \n",
       "3190                   2.0     0.0        4.500000           3.500000   \n",
       "3191                   0.0     0.0        5.000000           4.000000   \n",
       "3192                   7.0     0.0        3.333333           2.111111   \n",
       "3193                   3.0     0.0        0.333333           0.333333   \n",
       "3194                   2.0     0.0        2.800000           2.400000   \n",
       "3195                   2.0     0.0        8.250000           8.000000   \n",
       "3196                   1.0     0.0        2.100000           1.800000   \n",
       "3197                   1.0     0.0        1.000000           1.000000   \n",
       "3198                   2.0     0.0        2.333333           2.000000   \n",
       "3199                   0.0     0.0        1.333333           1.000000   \n",
       "3200                   2.0     0.0        0.333333           0.333333   \n",
       "3201                   0.0     0.0        4.000000           4.000000   \n",
       "3202                   7.0     0.0        2.571429           2.285714   \n",
       "3203                   0.0     0.0        1.000000           0.500000   \n",
       "3204                   3.0     0.0        2.333333           2.333333   \n",
       "3205                   1.0     0.0        2.500000           2.000000   \n",
       "3206                   1.0     0.0       26.000000          26.000000   \n",
       "3207                   1.0     0.0        6.000000           5.000000   \n",
       "3208                   1.0     0.0        0.000000           0.000000   \n",
       "3209                   1.0     0.0        1.000000           1.000000   \n",
       "3210                   3.0     0.0        7.666667           6.666667   \n",
       "3211                   1.0     0.0       12.000000          10.000000   \n",
       "3212                   1.0     0.0        7.000000           6.500000   \n",
       "3213                   1.0     0.0        9.000000           6.000000   \n",
       "3214                   3.0     0.0        0.666667           0.666667   \n",
       "\n",
       "      B_avg_CLINCH_att  B_avg_CLINCH_landed  ...  Flyweight  Heavyweight  \\\n",
       "0             0.200000             0.000000  ...        0.0          0.0   \n",
       "1            11.800000             7.300000  ...        0.0          0.0   \n",
       "2             6.741935             4.387097  ...        0.0          0.0   \n",
       "3            13.750000            11.000000  ...        0.0          0.0   \n",
       "4             2.500000             2.000000  ...        0.0          1.0   \n",
       "5             6.083333             3.416667  ...        0.0          0.0   \n",
       "6            17.500000            11.250000  ...        0.0          0.0   \n",
       "7             1.750000             0.500000  ...        0.0          0.0   \n",
       "8            22.500000            16.800000  ...        0.0          0.0   \n",
       "9            12.285714             9.142857  ...        0.0          0.0   \n",
       "10           14.875000            10.250000  ...        0.0          0.0   \n",
       "11            6.818182             5.272727  ...        0.0          0.0   \n",
       "12            6.666667             4.666667  ...        0.0          0.0   \n",
       "13            5.000000             2.500000  ...        0.0          0.0   \n",
       "14            4.600000             2.600000  ...        0.0          0.0   \n",
       "15           30.200000            24.800000  ...        0.0          0.0   \n",
       "16            2.000000             1.000000  ...        0.0          0.0   \n",
       "17           13.333333            10.333333  ...        0.0          0.0   \n",
       "18           12.166667             9.000000  ...        0.0          0.0   \n",
       "19            6.142857             4.714286  ...        0.0          0.0   \n",
       "20           21.000000            14.000000  ...        0.0          0.0   \n",
       "21           13.227273             8.863636  ...        0.0          0.0   \n",
       "22           12.000000             5.000000  ...        0.0          0.0   \n",
       "23           10.952381             7.857143  ...        0.0          0.0   \n",
       "24            2.500000             2.500000  ...        0.0          0.0   \n",
       "25           11.250000             8.000000  ...        0.0          0.0   \n",
       "26           26.642857            16.285714  ...        0.0          0.0   \n",
       "27            6.217391             5.217391  ...        0.0          0.0   \n",
       "28           14.833333            10.500000  ...        0.0          0.0   \n",
       "29            5.000000             3.000000  ...        0.0          0.0   \n",
       "...                ...                  ...  ...        ...          ...   \n",
       "3185          1.000000             0.666667  ...        0.0          0.0   \n",
       "3186         10.000000             6.500000  ...        0.0          0.0   \n",
       "3187         12.200000             8.200000  ...        0.0          0.0   \n",
       "3188          0.000000             0.000000  ...        0.0          0.0   \n",
       "3189         11.000000             7.727273  ...        0.0          0.0   \n",
       "3190          6.750000             5.750000  ...        0.0          1.0   \n",
       "3191          7.166667             5.666667  ...        0.0          0.0   \n",
       "3192          9.222222             6.111111  ...        0.0          0.0   \n",
       "3193          2.333333             2.000000  ...        0.0          0.0   \n",
       "3194          5.600000             4.000000  ...        0.0          0.0   \n",
       "3195          6.750000             4.750000  ...        0.0          0.0   \n",
       "3196          1.100000             0.900000  ...        0.0          0.0   \n",
       "3197          0.333333             0.333333  ...        0.0          0.0   \n",
       "3198          1.333333             1.000000  ...        0.0          0.0   \n",
       "3199          1.000000             0.666667  ...        0.0          0.0   \n",
       "3200          5.666667             2.833333  ...        0.0          0.0   \n",
       "3201          6.000000             6.000000  ...        0.0          0.0   \n",
       "3202         10.285714             8.571429  ...        0.0          1.0   \n",
       "3203          0.000000             0.000000  ...        0.0          0.0   \n",
       "3204          2.333333             2.333333  ...        0.0          0.0   \n",
       "3205          5.500000             3.500000  ...        0.0          0.0   \n",
       "3206          0.000000             0.000000  ...        0.0          0.0   \n",
       "3207          1.000000             1.000000  ...        0.0          0.0   \n",
       "3208          0.000000             0.000000  ...        0.0          0.0   \n",
       "3209          0.000000             0.000000  ...        0.0          0.0   \n",
       "3210         10.000000             7.000000  ...        0.0          0.0   \n",
       "3211          6.000000             3.000000  ...        0.0          0.0   \n",
       "3212         14.500000            12.000000  ...        0.0          0.0   \n",
       "3213         36.000000            21.000000  ...        0.0          0.0   \n",
       "3214          8.666667             4.000000  ...        0.0          1.0   \n",
       "\n",
       "      Light Heavyweight  Lightweight  Middleweight  Welterweight  \\\n",
       "0                   0.0          0.0           0.0           0.0   \n",
       "1                   0.0          0.0           0.0           0.0   \n",
       "2                   0.0          1.0           0.0           0.0   \n",
       "3                   0.0          0.0           0.0           0.0   \n",
       "4                   0.0          0.0           0.0           0.0   \n",
       "5                   0.0          0.0           0.0           0.0   \n",
       "6                   0.0          0.0           0.0           0.0   \n",
       "7                   0.0          0.0           0.0           0.0   \n",
       "8                   0.0          0.0           0.0           0.0   \n",
       "9                   0.0          0.0           1.0           0.0   \n",
       "10                  0.0          0.0           0.0           0.0   \n",
       "11                  1.0          0.0           0.0           0.0   \n",
       "12                  1.0          0.0           0.0           0.0   \n",
       "13                  0.0          0.0           0.0           0.0   \n",
       "14                  0.0          1.0           0.0           0.0   \n",
       "15                  0.0          0.0           0.0           0.0   \n",
       "16                  0.0          1.0           0.0           0.0   \n",
       "17                  0.0          1.0           0.0           0.0   \n",
       "18                  1.0          0.0           0.0           0.0   \n",
       "19                  0.0          0.0           0.0           1.0   \n",
       "20                  0.0          0.0           1.0           0.0   \n",
       "21                  0.0          1.0           0.0           0.0   \n",
       "22                  0.0          0.0           0.0           0.0   \n",
       "23                  1.0          0.0           0.0           0.0   \n",
       "24                  0.0          0.0           1.0           0.0   \n",
       "25                  0.0          0.0           0.0           0.0   \n",
       "26                  0.0          0.0           0.0           0.0   \n",
       "27                  0.0          0.0           1.0           0.0   \n",
       "28                  0.0          0.0           0.0           0.0   \n",
       "29                  0.0          0.0           0.0           1.0   \n",
       "...                 ...          ...           ...           ...   \n",
       "3185                0.0          0.0           0.0           1.0   \n",
       "3186                0.0          1.0           0.0           0.0   \n",
       "3187                0.0          0.0           1.0           0.0   \n",
       "3188                0.0          0.0           0.0           1.0   \n",
       "3189                1.0          0.0           0.0           0.0   \n",
       "3190                0.0          0.0           0.0           0.0   \n",
       "3191                0.0          1.0           0.0           0.0   \n",
       "3192                1.0          0.0           0.0           0.0   \n",
       "3193                0.0          0.0           0.0           1.0   \n",
       "3194                0.0          1.0           0.0           0.0   \n",
       "3195                0.0          0.0           1.0           0.0   \n",
       "3196                1.0          0.0           0.0           0.0   \n",
       "3197                1.0          0.0           0.0           0.0   \n",
       "3198                0.0          1.0           0.0           0.0   \n",
       "3199                1.0          0.0           0.0           0.0   \n",
       "3200                1.0          0.0           0.0           0.0   \n",
       "3201                0.0          1.0           0.0           0.0   \n",
       "3202                0.0          0.0           0.0           0.0   \n",
       "3203                1.0          0.0           0.0           0.0   \n",
       "3204                0.0          1.0           0.0           0.0   \n",
       "3205                0.0          1.0           0.0           0.0   \n",
       "3206                0.0          0.0           1.0           0.0   \n",
       "3207                1.0          0.0           0.0           0.0   \n",
       "3208                0.0          1.0           0.0           0.0   \n",
       "3209                1.0          0.0           0.0           0.0   \n",
       "3210                1.0          0.0           0.0           0.0   \n",
       "3211                0.0          0.0           1.0           0.0   \n",
       "3212                1.0          0.0           0.0           0.0   \n",
       "3213                0.0          0.0           1.0           0.0   \n",
       "3214                0.0          0.0           0.0           0.0   \n",
       "\n",
       "      Women's Bantamweight  Women's Featherweight  Women's Flyweight  \\\n",
       "0                      0.0                    0.0                0.0   \n",
       "1                      0.0                    0.0                1.0   \n",
       "2                      0.0                    0.0                0.0   \n",
       "3                      0.0                    0.0                0.0   \n",
       "4                      0.0                    0.0                0.0   \n",
       "5                      0.0                    0.0                0.0   \n",
       "6                      0.0                    0.0                0.0   \n",
       "7                      0.0                    0.0                0.0   \n",
       "8                      0.0                    0.0                0.0   \n",
       "9                      0.0                    0.0                0.0   \n",
       "10                     0.0                    0.0                1.0   \n",
       "11                     0.0                    0.0                0.0   \n",
       "12                     0.0                    0.0                0.0   \n",
       "13                     0.0                    0.0                0.0   \n",
       "14                     0.0                    0.0                0.0   \n",
       "15                     1.0                    0.0                0.0   \n",
       "16                     0.0                    0.0                0.0   \n",
       "17                     0.0                    0.0                0.0   \n",
       "18                     0.0                    0.0                0.0   \n",
       "19                     0.0                    0.0                0.0   \n",
       "20                     0.0                    0.0                0.0   \n",
       "21                     0.0                    0.0                0.0   \n",
       "22                     0.0                    0.0                0.0   \n",
       "23                     0.0                    0.0                0.0   \n",
       "24                     0.0                    0.0                0.0   \n",
       "25                     0.0                    0.0                0.0   \n",
       "26                     0.0                    0.0                0.0   \n",
       "27                     0.0                    0.0                0.0   \n",
       "28                     0.0                    0.0                0.0   \n",
       "29                     0.0                    0.0                0.0   \n",
       "...                    ...                    ...                ...   \n",
       "3185                   0.0                    0.0                0.0   \n",
       "3186                   0.0                    0.0                0.0   \n",
       "3187                   0.0                    0.0                0.0   \n",
       "3188                   0.0                    0.0                0.0   \n",
       "3189                   0.0                    0.0                0.0   \n",
       "3190                   0.0                    0.0                0.0   \n",
       "3191                   0.0                    0.0                0.0   \n",
       "3192                   0.0                    0.0                0.0   \n",
       "3193                   0.0                    0.0                0.0   \n",
       "3194                   0.0                    0.0                0.0   \n",
       "3195                   0.0                    0.0                0.0   \n",
       "3196                   0.0                    0.0                0.0   \n",
       "3197                   0.0                    0.0                0.0   \n",
       "3198                   0.0                    0.0                0.0   \n",
       "3199                   0.0                    0.0                0.0   \n",
       "3200                   0.0                    0.0                0.0   \n",
       "3201                   0.0                    0.0                0.0   \n",
       "3202                   0.0                    0.0                0.0   \n",
       "3203                   0.0                    0.0                0.0   \n",
       "3204                   0.0                    0.0                0.0   \n",
       "3205                   0.0                    0.0                0.0   \n",
       "3206                   0.0                    0.0                0.0   \n",
       "3207                   0.0                    0.0                0.0   \n",
       "3208                   0.0                    0.0                0.0   \n",
       "3209                   0.0                    0.0                0.0   \n",
       "3210                   0.0                    0.0                0.0   \n",
       "3211                   0.0                    0.0                0.0   \n",
       "3212                   0.0                    0.0                0.0   \n",
       "3213                   0.0                    0.0                0.0   \n",
       "3214                   0.0                    0.0                0.0   \n",
       "\n",
       "      Women's Strawweight  \n",
       "0                     0.0  \n",
       "1                     0.0  \n",
       "2                     0.0  \n",
       "3                     0.0  \n",
       "4                     0.0  \n",
       "5                     0.0  \n",
       "6                     1.0  \n",
       "7                     0.0  \n",
       "8                     1.0  \n",
       "9                     0.0  \n",
       "10                    0.0  \n",
       "11                    0.0  \n",
       "12                    0.0  \n",
       "13                    0.0  \n",
       "14                    0.0  \n",
       "15                    0.0  \n",
       "16                    0.0  \n",
       "17                    0.0  \n",
       "18                    0.0  \n",
       "19                    0.0  \n",
       "20                    0.0  \n",
       "21                    0.0  \n",
       "22                    0.0  \n",
       "23                    0.0  \n",
       "24                    0.0  \n",
       "25                    0.0  \n",
       "26                    1.0  \n",
       "27                    0.0  \n",
       "28                    0.0  \n",
       "29                    0.0  \n",
       "...                   ...  \n",
       "3185                  0.0  \n",
       "3186                  0.0  \n",
       "3187                  0.0  \n",
       "3188                  0.0  \n",
       "3189                  0.0  \n",
       "3190                  0.0  \n",
       "3191                  0.0  \n",
       "3192                  0.0  \n",
       "3193                  0.0  \n",
       "3194                  0.0  \n",
       "3195                  0.0  \n",
       "3196                  0.0  \n",
       "3197                  0.0  \n",
       "3198                  0.0  \n",
       "3199                  0.0  \n",
       "3200                  0.0  \n",
       "3201                  0.0  \n",
       "3202                  0.0  \n",
       "3203                  0.0  \n",
       "3204                  0.0  \n",
       "3205                  0.0  \n",
       "3206                  0.0  \n",
       "3207                  0.0  \n",
       "3208                  0.0  \n",
       "3209                  0.0  \n",
       "3210                  0.0  \n",
       "3211                  0.0  \n",
       "3212                  0.0  \n",
       "3213                  0.0  \n",
       "3214                  0.0  \n",
       "\n",
       "[3215 rows x 158 columns]"
      ]
     },
     "execution_count": 8,
     "metadata": {},
     "output_type": "execute_result"
    }
   ],
   "source": [
    "# Combine three dataframe\n",
    "temp_df = df\n",
    "\n",
    "drop_list = [\"R_Stance\", \"B_Stance\", \"weight_class\"]\n",
    "df = (pandas.concat([df, df1,df2], axis=1)).drop(columns = drop_list)\n",
    "df = df.astype('float')\n",
    "df\n"
   ]
  },
  {
   "cell_type": "code",
   "execution_count": 9,
   "metadata": {
    "scrolled": true
   },
   "outputs": [
    {
     "data": {
      "text/html": [
       "<div>\n",
       "<style scoped>\n",
       "    .dataframe tbody tr th:only-of-type {\n",
       "        vertical-align: middle;\n",
       "    }\n",
       "\n",
       "    .dataframe tbody tr th {\n",
       "        vertical-align: top;\n",
       "    }\n",
       "\n",
       "    .dataframe thead th {\n",
       "        text-align: right;\n",
       "    }\n",
       "</style>\n",
       "<table border=\"1\" class=\"dataframe\">\n",
       "  <thead>\n",
       "    <tr style=\"text-align: right;\">\n",
       "      <th></th>\n",
       "      <th>Differencecurrent_lose_streak</th>\n",
       "      <th>Differencecurrent_win_streak</th>\n",
       "      <th>Differencedraw</th>\n",
       "      <th>Differenceavg_BODY_att</th>\n",
       "      <th>Differenceavg_BODY_landed</th>\n",
       "      <th>Differenceavg_CLINCH_att</th>\n",
       "      <th>Differenceavg_CLINCH_landed</th>\n",
       "      <th>Differenceavg_DISTANCE_att</th>\n",
       "      <th>Differenceavg_DISTANCE_landed</th>\n",
       "      <th>Differenceavg_GROUND_att</th>\n",
       "      <th>...</th>\n",
       "      <th>Differencewin_by_Decision_Split</th>\n",
       "      <th>Differencewin_by_Decision_Unanimous</th>\n",
       "      <th>Differencewin_by_KO/TKO</th>\n",
       "      <th>Differencewin_by_Submission</th>\n",
       "      <th>Differencewin_by_TKO_Doctor_Stoppage</th>\n",
       "      <th>Differencewins</th>\n",
       "      <th>DifferenceHeight_cms</th>\n",
       "      <th>DifferenceReach_cms</th>\n",
       "      <th>DifferenceWeight_lbs</th>\n",
       "      <th>Differenceage</th>\n",
       "    </tr>\n",
       "  </thead>\n",
       "  <tbody>\n",
       "    <tr>\n",
       "      <th>3210</th>\n",
       "      <td>0.0</td>\n",
       "      <td>1.0</td>\n",
       "      <td>0.0</td>\n",
       "      <td>5.523810</td>\n",
       "      <td>5.238095</td>\n",
       "      <td>5.714286</td>\n",
       "      <td>5.714286</td>\n",
       "      <td>-1.619048</td>\n",
       "      <td>2.285714</td>\n",
       "      <td>-10.619048</td>\n",
       "      <td>...</td>\n",
       "      <td>0.0</td>\n",
       "      <td>-1.0</td>\n",
       "      <td>0.0</td>\n",
       "      <td>0.0</td>\n",
       "      <td>-1.0</td>\n",
       "      <td>-2.0</td>\n",
       "      <td>-7.62</td>\n",
       "      <td>0.00</td>\n",
       "      <td>-20.0</td>\n",
       "      <td>4.0</td>\n",
       "    </tr>\n",
       "    <tr>\n",
       "      <th>3211</th>\n",
       "      <td>0.0</td>\n",
       "      <td>0.0</td>\n",
       "      <td>0.0</td>\n",
       "      <td>8.333333</td>\n",
       "      <td>8.000000</td>\n",
       "      <td>-10.666667</td>\n",
       "      <td>-6.333333</td>\n",
       "      <td>-22.000000</td>\n",
       "      <td>-8.666667</td>\n",
       "      <td>44.666667</td>\n",
       "      <td>...</td>\n",
       "      <td>0.0</td>\n",
       "      <td>0.0</td>\n",
       "      <td>0.0</td>\n",
       "      <td>0.0</td>\n",
       "      <td>-1.0</td>\n",
       "      <td>-1.0</td>\n",
       "      <td>-12.70</td>\n",
       "      <td>-5.08</td>\n",
       "      <td>42.0</td>\n",
       "      <td>-1.0</td>\n",
       "    </tr>\n",
       "    <tr>\n",
       "      <th>3212</th>\n",
       "      <td>-1.0</td>\n",
       "      <td>1.0</td>\n",
       "      <td>0.0</td>\n",
       "      <td>4.400000</td>\n",
       "      <td>4.900000</td>\n",
       "      <td>8.700000</td>\n",
       "      <td>10.200000</td>\n",
       "      <td>-11.600000</td>\n",
       "      <td>-2.900000</td>\n",
       "      <td>-27.100000</td>\n",
       "      <td>...</td>\n",
       "      <td>0.0</td>\n",
       "      <td>0.0</td>\n",
       "      <td>-1.0</td>\n",
       "      <td>0.0</td>\n",
       "      <td>-1.0</td>\n",
       "      <td>-2.0</td>\n",
       "      <td>-10.16</td>\n",
       "      <td>0.00</td>\n",
       "      <td>0.0</td>\n",
       "      <td>-2.0</td>\n",
       "    </tr>\n",
       "    <tr>\n",
       "      <th>3213</th>\n",
       "      <td>-2.0</td>\n",
       "      <td>1.0</td>\n",
       "      <td>0.0</td>\n",
       "      <td>6.500000</td>\n",
       "      <td>4.000000</td>\n",
       "      <td>33.500000</td>\n",
       "      <td>19.500000</td>\n",
       "      <td>45.500000</td>\n",
       "      <td>18.000000</td>\n",
       "      <td>4.000000</td>\n",
       "      <td>...</td>\n",
       "      <td>0.0</td>\n",
       "      <td>1.0</td>\n",
       "      <td>0.0</td>\n",
       "      <td>0.0</td>\n",
       "      <td>0.0</td>\n",
       "      <td>1.0</td>\n",
       "      <td>2.54</td>\n",
       "      <td>5.08</td>\n",
       "      <td>20.0</td>\n",
       "      <td>6.0</td>\n",
       "    </tr>\n",
       "    <tr>\n",
       "      <th>3214</th>\n",
       "      <td>0.0</td>\n",
       "      <td>1.0</td>\n",
       "      <td>0.0</td>\n",
       "      <td>0.166667</td>\n",
       "      <td>0.166667</td>\n",
       "      <td>8.666667</td>\n",
       "      <td>4.000000</td>\n",
       "      <td>2.666667</td>\n",
       "      <td>1.666667</td>\n",
       "      <td>0.333333</td>\n",
       "      <td>...</td>\n",
       "      <td>0.0</td>\n",
       "      <td>0.0</td>\n",
       "      <td>2.0</td>\n",
       "      <td>-1.0</td>\n",
       "      <td>0.0</td>\n",
       "      <td>1.0</td>\n",
       "      <td>-2.54</td>\n",
       "      <td>-2.54</td>\n",
       "      <td>-20.0</td>\n",
       "      <td>-14.0</td>\n",
       "    </tr>\n",
       "  </tbody>\n",
       "</table>\n",
       "<p>5 rows × 67 columns</p>\n",
       "</div>"
      ],
      "text/plain": [
       "      Differencecurrent_lose_streak  Differencecurrent_win_streak  \\\n",
       "3210                            0.0                           1.0   \n",
       "3211                            0.0                           0.0   \n",
       "3212                           -1.0                           1.0   \n",
       "3213                           -2.0                           1.0   \n",
       "3214                            0.0                           1.0   \n",
       "\n",
       "      Differencedraw  Differenceavg_BODY_att  Differenceavg_BODY_landed  \\\n",
       "3210             0.0                5.523810                   5.238095   \n",
       "3211             0.0                8.333333                   8.000000   \n",
       "3212             0.0                4.400000                   4.900000   \n",
       "3213             0.0                6.500000                   4.000000   \n",
       "3214             0.0                0.166667                   0.166667   \n",
       "\n",
       "      Differenceavg_CLINCH_att  Differenceavg_CLINCH_landed  \\\n",
       "3210                  5.714286                     5.714286   \n",
       "3211                -10.666667                    -6.333333   \n",
       "3212                  8.700000                    10.200000   \n",
       "3213                 33.500000                    19.500000   \n",
       "3214                  8.666667                     4.000000   \n",
       "\n",
       "      Differenceavg_DISTANCE_att  Differenceavg_DISTANCE_landed  \\\n",
       "3210                   -1.619048                       2.285714   \n",
       "3211                  -22.000000                      -8.666667   \n",
       "3212                  -11.600000                      -2.900000   \n",
       "3213                   45.500000                      18.000000   \n",
       "3214                    2.666667                       1.666667   \n",
       "\n",
       "      Differenceavg_GROUND_att  ...  Differencewin_by_Decision_Split  \\\n",
       "3210                -10.619048  ...                              0.0   \n",
       "3211                 44.666667  ...                              0.0   \n",
       "3212                -27.100000  ...                              0.0   \n",
       "3213                  4.000000  ...                              0.0   \n",
       "3214                  0.333333  ...                              0.0   \n",
       "\n",
       "      Differencewin_by_Decision_Unanimous  Differencewin_by_KO/TKO  \\\n",
       "3210                                 -1.0                      0.0   \n",
       "3211                                  0.0                      0.0   \n",
       "3212                                  0.0                     -1.0   \n",
       "3213                                  1.0                      0.0   \n",
       "3214                                  0.0                      2.0   \n",
       "\n",
       "      Differencewin_by_Submission  Differencewin_by_TKO_Doctor_Stoppage  \\\n",
       "3210                          0.0                                  -1.0   \n",
       "3211                          0.0                                  -1.0   \n",
       "3212                          0.0                                  -1.0   \n",
       "3213                          0.0                                   0.0   \n",
       "3214                         -1.0                                   0.0   \n",
       "\n",
       "      Differencewins  DifferenceHeight_cms  DifferenceReach_cms  \\\n",
       "3210            -2.0                 -7.62                 0.00   \n",
       "3211            -1.0                -12.70                -5.08   \n",
       "3212            -2.0                -10.16                 0.00   \n",
       "3213             1.0                  2.54                 5.08   \n",
       "3214             1.0                 -2.54                -2.54   \n",
       "\n",
       "      DifferenceWeight_lbs  Differenceage  \n",
       "3210                 -20.0            4.0  \n",
       "3211                  42.0           -1.0  \n",
       "3212                   0.0           -2.0  \n",
       "3213                  20.0            6.0  \n",
       "3214                 -20.0          -14.0  \n",
       "\n",
       "[5 rows x 67 columns]"
      ]
     },
     "execution_count": 9,
     "metadata": {},
     "output_type": "execute_result"
    }
   ],
   "source": [
    "# The differeance between two fighter\n",
    "new_key = []\n",
    "for i in B_status:\n",
    "    new_key.append(i.replace(\"B_\", \"Difference\"))\n",
    "\n",
    "df3 = pandas.DataFrame(df[B_status].to_numpy() - df[R_status].to_numpy(), columns = new_key)\n",
    "df3.tail()\n"
   ]
  },
  {
   "cell_type": "code",
   "execution_count": 10,
   "metadata": {
    "scrolled": true
   },
   "outputs": [
    {
     "data": {
      "text/html": [
       "<div>\n",
       "<style scoped>\n",
       "    .dataframe tbody tr th:only-of-type {\n",
       "        vertical-align: middle;\n",
       "    }\n",
       "\n",
       "    .dataframe tbody tr th {\n",
       "        vertical-align: top;\n",
       "    }\n",
       "\n",
       "    .dataframe thead th {\n",
       "        text-align: right;\n",
       "    }\n",
       "</style>\n",
       "<table border=\"1\" class=\"dataframe\">\n",
       "  <thead>\n",
       "    <tr style=\"text-align: right;\">\n",
       "      <th></th>\n",
       "      <th>Winner</th>\n",
       "      <th>title_bout</th>\n",
       "      <th>no_of_rounds</th>\n",
       "      <th>B_current_lose_streak</th>\n",
       "      <th>B_current_win_streak</th>\n",
       "      <th>B_draw</th>\n",
       "      <th>B_avg_BODY_att</th>\n",
       "      <th>B_avg_BODY_landed</th>\n",
       "      <th>B_avg_CLINCH_att</th>\n",
       "      <th>B_avg_CLINCH_landed</th>\n",
       "      <th>...</th>\n",
       "      <th>Differencewin_by_Decision_Split</th>\n",
       "      <th>Differencewin_by_Decision_Unanimous</th>\n",
       "      <th>Differencewin_by_KO/TKO</th>\n",
       "      <th>Differencewin_by_Submission</th>\n",
       "      <th>Differencewin_by_TKO_Doctor_Stoppage</th>\n",
       "      <th>Differencewins</th>\n",
       "      <th>DifferenceHeight_cms</th>\n",
       "      <th>DifferenceReach_cms</th>\n",
       "      <th>DifferenceWeight_lbs</th>\n",
       "      <th>Differenceage</th>\n",
       "    </tr>\n",
       "  </thead>\n",
       "  <tbody>\n",
       "    <tr>\n",
       "      <th>3210</th>\n",
       "      <td>1.0</td>\n",
       "      <td>1.0</td>\n",
       "      <td>5.0</td>\n",
       "      <td>0.0</td>\n",
       "      <td>3.0</td>\n",
       "      <td>0.0</td>\n",
       "      <td>7.666667</td>\n",
       "      <td>6.666667</td>\n",
       "      <td>10.000000</td>\n",
       "      <td>7.0</td>\n",
       "      <td>...</td>\n",
       "      <td>0.0</td>\n",
       "      <td>-1.0</td>\n",
       "      <td>0.0</td>\n",
       "      <td>0.0</td>\n",
       "      <td>-1.0</td>\n",
       "      <td>-2.0</td>\n",
       "      <td>-7.62</td>\n",
       "      <td>0.00</td>\n",
       "      <td>-20.0</td>\n",
       "      <td>4.0</td>\n",
       "    </tr>\n",
       "    <tr>\n",
       "      <th>3211</th>\n",
       "      <td>1.0</td>\n",
       "      <td>0.0</td>\n",
       "      <td>3.0</td>\n",
       "      <td>0.0</td>\n",
       "      <td>1.0</td>\n",
       "      <td>0.0</td>\n",
       "      <td>12.000000</td>\n",
       "      <td>10.000000</td>\n",
       "      <td>6.000000</td>\n",
       "      <td>3.0</td>\n",
       "      <td>...</td>\n",
       "      <td>0.0</td>\n",
       "      <td>0.0</td>\n",
       "      <td>0.0</td>\n",
       "      <td>0.0</td>\n",
       "      <td>-1.0</td>\n",
       "      <td>-1.0</td>\n",
       "      <td>-12.70</td>\n",
       "      <td>-5.08</td>\n",
       "      <td>42.0</td>\n",
       "      <td>-1.0</td>\n",
       "    </tr>\n",
       "    <tr>\n",
       "      <th>3212</th>\n",
       "      <td>1.0</td>\n",
       "      <td>1.0</td>\n",
       "      <td>5.0</td>\n",
       "      <td>0.0</td>\n",
       "      <td>1.0</td>\n",
       "      <td>0.0</td>\n",
       "      <td>7.000000</td>\n",
       "      <td>6.500000</td>\n",
       "      <td>14.500000</td>\n",
       "      <td>12.0</td>\n",
       "      <td>...</td>\n",
       "      <td>0.0</td>\n",
       "      <td>0.0</td>\n",
       "      <td>-1.0</td>\n",
       "      <td>0.0</td>\n",
       "      <td>-1.0</td>\n",
       "      <td>-2.0</td>\n",
       "      <td>-10.16</td>\n",
       "      <td>0.00</td>\n",
       "      <td>0.0</td>\n",
       "      <td>-2.0</td>\n",
       "    </tr>\n",
       "    <tr>\n",
       "      <th>3213</th>\n",
       "      <td>1.0</td>\n",
       "      <td>0.0</td>\n",
       "      <td>2.0</td>\n",
       "      <td>0.0</td>\n",
       "      <td>1.0</td>\n",
       "      <td>0.0</td>\n",
       "      <td>9.000000</td>\n",
       "      <td>6.000000</td>\n",
       "      <td>36.000000</td>\n",
       "      <td>21.0</td>\n",
       "      <td>...</td>\n",
       "      <td>0.0</td>\n",
       "      <td>1.0</td>\n",
       "      <td>0.0</td>\n",
       "      <td>0.0</td>\n",
       "      <td>0.0</td>\n",
       "      <td>1.0</td>\n",
       "      <td>2.54</td>\n",
       "      <td>5.08</td>\n",
       "      <td>20.0</td>\n",
       "      <td>6.0</td>\n",
       "    </tr>\n",
       "    <tr>\n",
       "      <th>3214</th>\n",
       "      <td>1.0</td>\n",
       "      <td>0.0</td>\n",
       "      <td>2.0</td>\n",
       "      <td>0.0</td>\n",
       "      <td>3.0</td>\n",
       "      <td>0.0</td>\n",
       "      <td>0.666667</td>\n",
       "      <td>0.666667</td>\n",
       "      <td>8.666667</td>\n",
       "      <td>4.0</td>\n",
       "      <td>...</td>\n",
       "      <td>0.0</td>\n",
       "      <td>0.0</td>\n",
       "      <td>2.0</td>\n",
       "      <td>-1.0</td>\n",
       "      <td>0.0</td>\n",
       "      <td>1.0</td>\n",
       "      <td>-2.54</td>\n",
       "      <td>-2.54</td>\n",
       "      <td>-20.0</td>\n",
       "      <td>-14.0</td>\n",
       "    </tr>\n",
       "  </tbody>\n",
       "</table>\n",
       "<p>5 rows × 225 columns</p>\n",
       "</div>"
      ],
      "text/plain": [
       "      Winner  title_bout  no_of_rounds  B_current_lose_streak  \\\n",
       "3210     1.0         1.0           5.0                    0.0   \n",
       "3211     1.0         0.0           3.0                    0.0   \n",
       "3212     1.0         1.0           5.0                    0.0   \n",
       "3213     1.0         0.0           2.0                    0.0   \n",
       "3214     1.0         0.0           2.0                    0.0   \n",
       "\n",
       "      B_current_win_streak  B_draw  B_avg_BODY_att  B_avg_BODY_landed  \\\n",
       "3210                   3.0     0.0        7.666667           6.666667   \n",
       "3211                   1.0     0.0       12.000000          10.000000   \n",
       "3212                   1.0     0.0        7.000000           6.500000   \n",
       "3213                   1.0     0.0        9.000000           6.000000   \n",
       "3214                   3.0     0.0        0.666667           0.666667   \n",
       "\n",
       "      B_avg_CLINCH_att  B_avg_CLINCH_landed  ...  \\\n",
       "3210         10.000000                  7.0  ...   \n",
       "3211          6.000000                  3.0  ...   \n",
       "3212         14.500000                 12.0  ...   \n",
       "3213         36.000000                 21.0  ...   \n",
       "3214          8.666667                  4.0  ...   \n",
       "\n",
       "      Differencewin_by_Decision_Split  Differencewin_by_Decision_Unanimous  \\\n",
       "3210                              0.0                                 -1.0   \n",
       "3211                              0.0                                  0.0   \n",
       "3212                              0.0                                  0.0   \n",
       "3213                              0.0                                  1.0   \n",
       "3214                              0.0                                  0.0   \n",
       "\n",
       "      Differencewin_by_KO/TKO  Differencewin_by_Submission  \\\n",
       "3210                      0.0                          0.0   \n",
       "3211                      0.0                          0.0   \n",
       "3212                     -1.0                          0.0   \n",
       "3213                      0.0                          0.0   \n",
       "3214                      2.0                         -1.0   \n",
       "\n",
       "      Differencewin_by_TKO_Doctor_Stoppage  Differencewins  \\\n",
       "3210                                  -1.0            -2.0   \n",
       "3211                                  -1.0            -1.0   \n",
       "3212                                  -1.0            -2.0   \n",
       "3213                                   0.0             1.0   \n",
       "3214                                   0.0             1.0   \n",
       "\n",
       "      DifferenceHeight_cms  DifferenceReach_cms  DifferenceWeight_lbs  \\\n",
       "3210                 -7.62                 0.00                 -20.0   \n",
       "3211                -12.70                -5.08                  42.0   \n",
       "3212                -10.16                 0.00                   0.0   \n",
       "3213                  2.54                 5.08                  20.0   \n",
       "3214                 -2.54                -2.54                 -20.0   \n",
       "\n",
       "      Differenceage  \n",
       "3210            4.0  \n",
       "3211           -1.0  \n",
       "3212           -2.0  \n",
       "3213            6.0  \n",
       "3214          -14.0  \n",
       "\n",
       "[5 rows x 225 columns]"
      ]
     },
     "execution_count": 10,
     "metadata": {},
     "output_type": "execute_result"
    }
   ],
   "source": [
    "# Combine df3 as well\n",
    "df = pandas.concat([df, df3], axis=1)\n",
    "df.tail()"
   ]
  },
  {
   "cell_type": "code",
   "execution_count": 11,
   "metadata": {},
   "outputs": [],
   "source": [
    "Y = df[\"Winner\"].tolist()"
   ]
  },
  {
   "cell_type": "code",
   "execution_count": 12,
   "metadata": {},
   "outputs": [],
   "source": [
    "# scale data \n",
    "scale_df = df.drop(columns = [\"Winner\"])\n",
    "keys = list(scale_df.keys())\n",
    "\n",
    "scaler = MinMaxScaler()\n",
    "MinMaxScaler(copy=True, feature_range=(0, 1))\n",
    "scaler.fit(scale_df)\n",
    "scale_df = scaler.transform(scale_df)\n",
    "scale_df = pandas.DataFrame(scale_df, columns = keys)\n",
    "df = scale_df\n"
   ]
  },
  {
   "cell_type": "code",
   "execution_count": 13,
   "metadata": {
    "scrolled": true
   },
   "outputs": [],
   "source": [
    "df[\"Winner\"] = Y"
   ]
  },
  {
   "cell_type": "code",
   "execution_count": 14,
   "metadata": {},
   "outputs": [
    {
     "data": {
      "text/plain": [
       "1.0    2023\n",
       "2.0    1141\n",
       "3.0      51\n",
       "Name: Winner, dtype: int64"
      ]
     },
     "execution_count": 14,
     "metadata": {},
     "output_type": "execute_result"
    }
   ],
   "source": [
    "df[\"Winner\"].value_counts()"
   ]
  },
  {
   "cell_type": "markdown",
   "metadata": {},
   "source": [
    "### Sampling the dataset"
   ]
  },
  {
   "cell_type": "code",
   "execution_count": 15,
   "metadata": {},
   "outputs": [
    {
     "name": "stdout",
     "output_type": "stream",
     "text": [
      "Counter({1.0: 2023, 2.0: 1141, 3.0: 300})\n"
     ]
    }
   ],
   "source": [
    "# over_sampling for \"draw / 3\".\n",
    "X = df.drop(columns = [\"Winner\"])\n",
    "\n",
    "rus = imblearn.over_sampling.ADASYN(ratio={3:300 }, random_state=1)\n",
    "\n",
    "X_rus, Y_rus = rus.fit_sample(X, Y)\n",
    "\n",
    "print(Counter(Y_rus))\n"
   ]
  },
  {
   "cell_type": "code",
   "execution_count": 16,
   "metadata": {},
   "outputs": [],
   "source": [
    "sampled_df = pandas.DataFrame(X_rus, dtype = float, columns = df.drop(columns = [\"Winner\"]).keys())\n",
    "sampled_df[\"Winner\"] = Y_rus\n",
    "df = sampled_df"
   ]
  },
  {
   "cell_type": "markdown",
   "metadata": {},
   "source": [
    "### Dataset "
   ]
  },
  {
   "cell_type": "code",
   "execution_count": 17,
   "metadata": {},
   "outputs": [
    {
     "data": {
      "text/plain": [
       "(1    118\n",
       " 2     64\n",
       " 3     18\n",
       " Name: Y, dtype: int64,)"
      ]
     },
     "execution_count": 17,
     "metadata": {},
     "output_type": "execute_result"
    }
   ],
   "source": [
    "# dataset = shuffle(sampled_df)\n",
    "dataset = shuffle(df)\n",
    "\n",
    "\n",
    "Train_dataset = dataset[100:-200] \n",
    "Valid_dataset = dataset[:100] # 100 dataset for valid\n",
    "Test_dataset = dataset[-200:] # 200 dataset for test\n",
    "\n",
    "Train_X = Train_dataset.drop(columns = [\"Winner\"]).to_numpy(dtype = float)\n",
    "Train_Y = Train_dataset[\"Winner\"].to_numpy(dtype = int)\n",
    "\n",
    "\n",
    "Valid_X = Valid_dataset.drop(columns = [\"Winner\"]).to_numpy(dtype = float)\n",
    "Valid_Y = Valid_dataset[\"Winner\"].to_numpy(dtype = int)\n",
    "\n",
    "\n",
    "Test_X = Test_dataset.drop(columns = [\"Winner\"]).to_numpy(dtype = float)\n",
    "Test_Y = Test_dataset[\"Winner\"].to_numpy(dtype = int)\n",
    "pandas.DataFrame(Test_Y, columns = [\"Y\"])[\"Y\"].value_counts(), \n"
   ]
  },
  {
   "cell_type": "code",
   "execution_count": 18,
   "metadata": {},
   "outputs": [
    {
     "data": {
      "text/plain": [
       "1    1846\n",
       "2    1046\n",
       "3     272\n",
       "Name: Y, dtype: int64"
      ]
     },
     "execution_count": 18,
     "metadata": {},
     "output_type": "execute_result"
    }
   ],
   "source": [
    "pandas.DataFrame(Train_Y, columns = [\"Y\"])[\"Y\"].value_counts()"
   ]
  },
  {
   "cell_type": "code",
   "execution_count": 19,
   "metadata": {},
   "outputs": [
    {
     "data": {
      "text/plain": [
       "1    59\n",
       "2    31\n",
       "3    10\n",
       "Name: Y, dtype: int64"
      ]
     },
     "execution_count": 19,
     "metadata": {},
     "output_type": "execute_result"
    }
   ],
   "source": [
    "pandas.DataFrame(Valid_Y, columns = [\"Y\"])[\"Y\"].value_counts()"
   ]
  },
  {
   "cell_type": "markdown",
   "metadata": {},
   "source": [
    "# ML Models"
   ]
  },
  {
   "cell_type": "markdown",
   "metadata": {},
   "source": [
    "### Ensembling learning method"
   ]
  },
  {
   "cell_type": "code",
   "execution_count": 20,
   "metadata": {},
   "outputs": [],
   "source": [
    "# Bagging for the model and return the best selection via given datasets\n",
    "rng = np.random.RandomState(1)\n",
    "\n",
    "def Bagging(model, Train_X, Train_Y, Vail_X, Vail_Y):  \n",
    "    highest = 0\n",
    "    coeff = 0\n",
    "    rng = np.random.RandomState(1)\n",
    "    for i in range(1, 20):\n",
    "        Bagging_Model = BaggingClassifier(base_estimator= model, n_estimators = i, bootstrap=True, warm_start=False) #\n",
    "        Bagging_Model.fit(Train_X, Train_Y)\n",
    "        curr_score = Bagging_Model.score(Vail_X, Vail_Y)\n",
    "        if(highest < curr_score):\n",
    "            highest = curr_score\n",
    "            coeff = i\n",
    "    return coeff, highest\n",
    "\n"
   ]
  },
  {
   "cell_type": "code",
   "execution_count": 21,
   "metadata": {},
   "outputs": [],
   "source": [
    "# Adam boost for the model and return the best selection via given datasets\n",
    "def Ada_Model(model, Train_X, Train_Y, Vail_X, Vail_Y):\n",
    "    highest = 0\n",
    "    coeff = 0\n",
    "    rng = np.random.RandomState(1)\n",
    "    for i in range(1, 20):\n",
    "        AdaBoost_model = AdaBoostClassifier(base_estimator=model, n_estimators=i, random_state=rng)\n",
    "        AdaBoost_model.fit(Train_X, Train_Y)\n",
    "        curr_score = AdaBoost_model.score(Vail_X, Vail_Y)\n",
    "        if(highest < curr_score):\n",
    "            highest = curr_score\n",
    "            coeff = i\n",
    "    return coeff, highest\n",
    "\n"
   ]
  },
  {
   "cell_type": "code",
   "execution_count": 22,
   "metadata": {},
   "outputs": [],
   "source": [
    "# GBDT(Gradient Boosting Decision Tree) for the model and return the best selection via given datasets\n",
    "\n",
    "\n",
    "def GBDT(model, Train_X, Train_Y, Vail_X, Vail_Y):\n",
    "    coeff = 0\n",
    "    highest = 0\n",
    "    _range = np.arange(0.01, 1, 0.05)\n",
    "    for i in (_range):\n",
    "        GBDT = GradientBoostingClassifier(init = model, learning_rate = i)\n",
    "        GBDT.fit(Train_X, Train_Y)\n",
    "        curr_score = GBDT.score(Vail_X, Vail_Y)\n",
    "        if(highest < curr_score):\n",
    "            highest = curr_score\n",
    "            coeff = i\n",
    "    return coeff, highest"
   ]
  },
  {
   "cell_type": "markdown",
   "metadata": {},
   "source": [
    "### Naive Bayes Classifier"
   ]
  },
  {
   "cell_type": "code",
   "execution_count": 23,
   "metadata": {},
   "outputs": [
    {
     "data": {
      "text/plain": [
       "0.4993678887484197"
      ]
     },
     "execution_count": 23,
     "metadata": {},
     "output_type": "execute_result"
    }
   ],
   "source": [
    "NB = MultinomialNB(class_prior = [0.9,0.95,0.75], alpha = 1)\n",
    "NB.fit(Train_X, Train_Y)\n",
    "NB.score(Train_X, Train_Y)"
   ]
  },
  {
   "cell_type": "code",
   "execution_count": 24,
   "metadata": {},
   "outputs": [
    {
     "name": "stdout",
     "output_type": "stream",
     "text": [
      "              precision    recall  f1-score   support\n",
      "\n",
      "           1       0.70      0.48      0.57      1846\n",
      "           2       0.42      0.56      0.48      1046\n",
      "           3       0.20      0.38      0.26       272\n",
      "\n",
      "    accuracy                           0.50      3164\n",
      "   macro avg       0.44      0.47      0.44      3164\n",
      "weighted avg       0.57      0.50      0.52      3164\n",
      "\n"
     ]
    }
   ],
   "source": [
    "print(sklearn.metrics.classification_report(Train_Y, NB.predict(Train_X)) )"
   ]
  },
  {
   "cell_type": "code",
   "execution_count": 25,
   "metadata": {},
   "outputs": [
    {
     "data": {
      "text/plain": [
       "0.5"
      ]
     },
     "execution_count": 25,
     "metadata": {},
     "output_type": "execute_result"
    }
   ],
   "source": [
    "NB.score(Test_X, Test_Y)"
   ]
  },
  {
   "cell_type": "code",
   "execution_count": 26,
   "metadata": {},
   "outputs": [
    {
     "name": "stdout",
     "output_type": "stream",
     "text": [
      "              precision    recall  f1-score   support\n",
      "\n",
      "           1       0.77      0.48      0.59       118\n",
      "           2       0.39      0.61      0.48        64\n",
      "           3       0.15      0.22      0.18        18\n",
      "\n",
      "    accuracy                           0.50       200\n",
      "   macro avg       0.44      0.44      0.42       200\n",
      "weighted avg       0.59      0.50      0.52       200\n",
      "\n"
     ]
    }
   ],
   "source": [
    "print(sklearn.metrics.classification_report(Test_Y, NB.predict(Test_X)) )"
   ]
  },
  {
   "cell_type": "code",
   "execution_count": 27,
   "metadata": {},
   "outputs": [
    {
     "data": {
      "text/plain": [
       "(3, 0.5)"
      ]
     },
     "execution_count": 27,
     "metadata": {},
     "output_type": "execute_result"
    }
   ],
   "source": [
    "# Bagging Naive Bayes model\n",
    "coeff, highest = Bagging(NB, Train_X, Train_Y, Valid_X, Valid_Y)\n",
    "coeff, highest"
   ]
  },
  {
   "cell_type": "code",
   "execution_count": 28,
   "metadata": {},
   "outputs": [
    {
     "data": {
      "text/plain": [
       "0.48988621997471554"
      ]
     },
     "execution_count": 28,
     "metadata": {},
     "output_type": "execute_result"
    }
   ],
   "source": [
    "Bagging_NB = BaggingClassifier(base_estimator=NB, n_estimators=coeff, random_state=rng)\n",
    "Bagging_NB.fit(Train_X, Train_Y)\n",
    "Bagging_NB.score(Train_X,Train_Y)"
   ]
  },
  {
   "cell_type": "code",
   "execution_count": 29,
   "metadata": {},
   "outputs": [
    {
     "name": "stdout",
     "output_type": "stream",
     "text": [
      "              precision    recall  f1-score   support\n",
      "\n",
      "           1       0.70      0.48      0.57      1846\n",
      "           2       0.41      0.54      0.47      1046\n",
      "           3       0.20      0.38      0.26       272\n",
      "\n",
      "    accuracy                           0.49      3164\n",
      "   macro avg       0.44      0.47      0.43      3164\n",
      "weighted avg       0.56      0.49      0.51      3164\n",
      "\n"
     ]
    }
   ],
   "source": [
    "print(sklearn.metrics.classification_report(Train_Y, Bagging_NB.predict(Train_X)) )"
   ]
  },
  {
   "cell_type": "code",
   "execution_count": 30,
   "metadata": {},
   "outputs": [
    {
     "data": {
      "text/plain": [
       "0.485"
      ]
     },
     "execution_count": 30,
     "metadata": {},
     "output_type": "execute_result"
    }
   ],
   "source": [
    "Bagging_NB.score(Test_X, Test_Y)"
   ]
  },
  {
   "cell_type": "code",
   "execution_count": 31,
   "metadata": {},
   "outputs": [
    {
     "name": "stdout",
     "output_type": "stream",
     "text": [
      "              precision    recall  f1-score   support\n",
      "\n",
      "           1       0.74      0.47      0.58       118\n",
      "           2       0.38      0.58      0.46        64\n",
      "           3       0.15      0.22      0.18        18\n",
      "\n",
      "    accuracy                           0.48       200\n",
      "   macro avg       0.42      0.42      0.40       200\n",
      "weighted avg       0.57      0.48      0.50       200\n",
      "\n"
     ]
    }
   ],
   "source": [
    "print(sklearn.metrics.classification_report(Test_Y, Bagging_NB.predict(Test_X)) )"
   ]
  },
  {
   "cell_type": "code",
   "execution_count": 32,
   "metadata": {},
   "outputs": [
    {
     "data": {
      "text/plain": [
       "(0.21000000000000002, 0.7)"
      ]
     },
     "execution_count": 32,
     "metadata": {},
     "output_type": "execute_result"
    }
   ],
   "source": [
    "# Gradient Boosting Decision Tree Naive Bayes model \n",
    "coeff, highest = GBDT(Bagging_NB, Train_X, Train_Y, Valid_X, Valid_Y)\n",
    "coeff, highest"
   ]
  },
  {
   "cell_type": "code",
   "execution_count": 33,
   "metadata": {},
   "outputs": [
    {
     "data": {
      "text/plain": [
       "0.9516434892541087"
      ]
     },
     "execution_count": 33,
     "metadata": {},
     "output_type": "execute_result"
    }
   ],
   "source": [
    "GBDT_NB = GradientBoostingClassifier(init = Bagging_NB, learning_rate = coeff)\n",
    "GBDT_NB.fit(Train_X, Train_Y)\n",
    "GBDT_NB.score(Train_X,Train_Y)"
   ]
  },
  {
   "cell_type": "code",
   "execution_count": 34,
   "metadata": {},
   "outputs": [
    {
     "name": "stdout",
     "output_type": "stream",
     "text": [
      "              precision    recall  f1-score   support\n",
      "\n",
      "           1       0.93      0.99      0.96      1846\n",
      "           2       0.98      0.88      0.92      1046\n",
      "           3       1.00      0.99      1.00       272\n",
      "\n",
      "    accuracy                           0.95      3164\n",
      "   macro avg       0.97      0.95      0.96      3164\n",
      "weighted avg       0.95      0.95      0.95      3164\n",
      "\n"
     ]
    }
   ],
   "source": [
    "print(sklearn.metrics.classification_report(Train_Y, GBDT_NB.predict(Train_X)) )"
   ]
  },
  {
   "cell_type": "code",
   "execution_count": 35,
   "metadata": {},
   "outputs": [
    {
     "data": {
      "text/plain": [
       "0.69"
      ]
     },
     "execution_count": 35,
     "metadata": {},
     "output_type": "execute_result"
    }
   ],
   "source": [
    "GBDT_NB.score(Test_X,Test_Y)"
   ]
  },
  {
   "cell_type": "code",
   "execution_count": 36,
   "metadata": {},
   "outputs": [
    {
     "name": "stdout",
     "output_type": "stream",
     "text": [
      "              precision    recall  f1-score   support\n",
      "\n",
      "           1       0.72      0.78      0.75       118\n",
      "           2       0.53      0.45      0.49        64\n",
      "           3       1.00      0.94      0.97        18\n",
      "\n",
      "    accuracy                           0.69       200\n",
      "   macro avg       0.75      0.73      0.74       200\n",
      "weighted avg       0.68      0.69      0.68       200\n",
      "\n"
     ]
    }
   ],
   "source": [
    "print(sklearn.metrics.classification_report(Test_Y, GBDT_NB.predict(Test_X)) )"
   ]
  },
  {
   "cell_type": "markdown",
   "metadata": {},
   "source": [
    "### KNN Classifier"
   ]
  },
  {
   "cell_type": "code",
   "execution_count": 37,
   "metadata": {},
   "outputs": [
    {
     "data": {
      "text/plain": [
       "1.0"
      ]
     },
     "execution_count": 37,
     "metadata": {},
     "output_type": "execute_result"
    }
   ],
   "source": [
    "KNN = KNeighborsClassifier(weights= \"distance\")\n",
    "\n",
    "\n",
    "KNN.fit(Train_X, Train_Y)\n",
    "KNN.score(Train_X, Train_Y)"
   ]
  },
  {
   "cell_type": "code",
   "execution_count": 38,
   "metadata": {},
   "outputs": [
    {
     "name": "stdout",
     "output_type": "stream",
     "text": [
      "              precision    recall  f1-score   support\n",
      "\n",
      "           1       1.00      1.00      1.00      1846\n",
      "           2       1.00      1.00      1.00      1046\n",
      "           3       1.00      1.00      1.00       272\n",
      "\n",
      "    accuracy                           1.00      3164\n",
      "   macro avg       1.00      1.00      1.00      3164\n",
      "weighted avg       1.00      1.00      1.00      3164\n",
      "\n"
     ]
    }
   ],
   "source": [
    "print(sklearn.metrics.classification_report(Train_Y, KNN.predict(Train_X)) )"
   ]
  },
  {
   "cell_type": "code",
   "execution_count": 39,
   "metadata": {},
   "outputs": [
    {
     "data": {
      "text/plain": [
       "0.635"
      ]
     },
     "execution_count": 39,
     "metadata": {},
     "output_type": "execute_result"
    }
   ],
   "source": [
    "KNN.score(Test_X, Test_Y)"
   ]
  },
  {
   "cell_type": "code",
   "execution_count": 40,
   "metadata": {},
   "outputs": [
    {
     "name": "stdout",
     "output_type": "stream",
     "text": [
      "              precision    recall  f1-score   support\n",
      "\n",
      "           1       0.69      0.76      0.73       118\n",
      "           2       0.46      0.30      0.36        64\n",
      "           3       0.62      1.00      0.77        18\n",
      "\n",
      "    accuracy                           0.64       200\n",
      "   macro avg       0.59      0.69      0.62       200\n",
      "weighted avg       0.61      0.64      0.61       200\n",
      "\n"
     ]
    }
   ],
   "source": [
    "print(sklearn.metrics.classification_report(Test_Y, KNN.predict(Test_X)) )"
   ]
  },
  {
   "cell_type": "code",
   "execution_count": 41,
   "metadata": {},
   "outputs": [
    {
     "data": {
      "text/plain": [
       "(1, 0.64)"
      ]
     },
     "execution_count": 41,
     "metadata": {},
     "output_type": "execute_result"
    }
   ],
   "source": [
    "# Bagging KNN model\n",
    "coeff, highest = Bagging(KNN, Train_X, Train_Y, Valid_X, Valid_Y)\n",
    "coeff, highest"
   ]
  },
  {
   "cell_type": "code",
   "execution_count": 42,
   "metadata": {},
   "outputs": [
    {
     "data": {
      "text/plain": [
       "0.8410240202275601"
      ]
     },
     "execution_count": 42,
     "metadata": {},
     "output_type": "execute_result"
    }
   ],
   "source": [
    "Bagging_KNN = BaggingClassifier(base_estimator=KNN, n_estimators=coeff, random_state=rng)\n",
    "Bagging_KNN.fit(Train_X, Train_Y)\n",
    "Bagging_KNN.score(Train_X,Train_Y)"
   ]
  },
  {
   "cell_type": "code",
   "execution_count": 43,
   "metadata": {},
   "outputs": [
    {
     "data": {
      "text/plain": [
       "0.565"
      ]
     },
     "execution_count": 43,
     "metadata": {},
     "output_type": "execute_result"
    }
   ],
   "source": [
    "Bagging_KNN.score(Test_X, Test_Y)"
   ]
  },
  {
   "cell_type": "code",
   "execution_count": 44,
   "metadata": {},
   "outputs": [
    {
     "name": "stdout",
     "output_type": "stream",
     "text": [
      "              precision    recall  f1-score   support\n",
      "\n",
      "           1       0.67      0.64      0.66       118\n",
      "           2       0.37      0.33      0.35        64\n",
      "           3       0.55      0.89      0.68        18\n",
      "\n",
      "    accuracy                           0.56       200\n",
      "   macro avg       0.53      0.62      0.56       200\n",
      "weighted avg       0.56      0.56      0.56       200\n",
      "\n"
     ]
    }
   ],
   "source": [
    "print(sklearn.metrics.classification_report(Test_Y, Bagging_KNN.predict(Test_X)) )"
   ]
  },
  {
   "cell_type": "code",
   "execution_count": 45,
   "metadata": {},
   "outputs": [
    {
     "data": {
      "text/plain": [
       "(0.56, 0.66)"
      ]
     },
     "execution_count": 45,
     "metadata": {},
     "output_type": "execute_result"
    }
   ],
   "source": [
    "# Gradient Boosting Decision Tree KNN model \n",
    "\n",
    "coeff, highest = GBDT(Bagging_KNN, Train_X, Train_Y, Valid_X, Valid_Y)\n",
    "coeff, highest"
   ]
  },
  {
   "cell_type": "code",
   "execution_count": 46,
   "metadata": {},
   "outputs": [
    {
     "data": {
      "text/plain": [
       "0.9102402022756005"
      ]
     },
     "execution_count": 46,
     "metadata": {},
     "output_type": "execute_result"
    }
   ],
   "source": [
    "GBDT_KNN = GradientBoostingClassifier(init = Bagging_KNN, learning_rate = coeff)\n",
    "GBDT_KNN.fit(Train_X, Train_Y)\n",
    "GBDT_KNN.score(Train_X,Train_Y)"
   ]
  },
  {
   "cell_type": "code",
   "execution_count": 47,
   "metadata": {},
   "outputs": [
    {
     "name": "stdout",
     "output_type": "stream",
     "text": [
      "              precision    recall  f1-score   support\n",
      "\n",
      "           1       0.92      0.93      0.92      1846\n",
      "           2       0.87      0.85      0.86      1046\n",
      "           3       0.99      1.00      0.99       272\n",
      "\n",
      "    accuracy                           0.91      3164\n",
      "   macro avg       0.93      0.93      0.93      3164\n",
      "weighted avg       0.91      0.91      0.91      3164\n",
      "\n"
     ]
    }
   ],
   "source": [
    "print(sklearn.metrics.classification_report(Train_Y, GBDT_KNN.predict(Train_X)) )"
   ]
  },
  {
   "cell_type": "code",
   "execution_count": 48,
   "metadata": {},
   "outputs": [
    {
     "data": {
      "text/plain": [
       "0.575"
      ]
     },
     "execution_count": 48,
     "metadata": {},
     "output_type": "execute_result"
    }
   ],
   "source": [
    "GBDT_KNN.score(Test_X,Test_Y)"
   ]
  },
  {
   "cell_type": "code",
   "execution_count": 49,
   "metadata": {},
   "outputs": [
    {
     "name": "stdout",
     "output_type": "stream",
     "text": [
      "              precision    recall  f1-score   support\n",
      "\n",
      "           1       0.66      0.64      0.65       118\n",
      "           2       0.37      0.39      0.38        64\n",
      "           3       0.79      0.83      0.81        18\n",
      "\n",
      "    accuracy                           0.57       200\n",
      "   macro avg       0.61      0.62      0.61       200\n",
      "weighted avg       0.58      0.57      0.58       200\n",
      "\n"
     ]
    }
   ],
   "source": [
    "print(sklearn.metrics.classification_report(Test_Y, GBDT_KNN.predict(Test_X)) )"
   ]
  },
  {
   "cell_type": "markdown",
   "metadata": {},
   "source": [
    "### SVC Classifier"
   ]
  },
  {
   "cell_type": "code",
   "execution_count": 50,
   "metadata": {},
   "outputs": [
    {
     "data": {
      "text/plain": [
       "0.8647281921618205"
      ]
     },
     "execution_count": 50,
     "metadata": {},
     "output_type": "execute_result"
    }
   ],
   "source": [
    "svc = SVC(gamma='scale', kernel = \"rbf\", degree = 225, C = 10)\n",
    "\n",
    "\n",
    "svc.fit(Train_X, Train_Y)\n",
    "svc.score(Train_X,Train_Y)"
   ]
  },
  {
   "cell_type": "code",
   "execution_count": 51,
   "metadata": {},
   "outputs": [
    {
     "name": "stdout",
     "output_type": "stream",
     "text": [
      "              precision    recall  f1-score   support\n",
      "\n",
      "           1       0.84      0.95      0.89      1846\n",
      "           2       0.89      0.68      0.77      1046\n",
      "           3       0.98      0.98      0.98       272\n",
      "\n",
      "    accuracy                           0.86      3164\n",
      "   macro avg       0.90      0.87      0.88      3164\n",
      "weighted avg       0.87      0.86      0.86      3164\n",
      "\n"
     ]
    }
   ],
   "source": [
    "print(sklearn.metrics.classification_report(Train_Y, svc.predict(Train_X)) )"
   ]
  },
  {
   "cell_type": "code",
   "execution_count": 52,
   "metadata": {},
   "outputs": [
    {
     "data": {
      "text/plain": [
       "0.705"
      ]
     },
     "execution_count": 52,
     "metadata": {},
     "output_type": "execute_result"
    }
   ],
   "source": [
    "svc.score(Test_X,Test_Y)"
   ]
  },
  {
   "cell_type": "code",
   "execution_count": 53,
   "metadata": {},
   "outputs": [
    {
     "name": "stdout",
     "output_type": "stream",
     "text": [
      "              precision    recall  f1-score   support\n",
      "\n",
      "           1       0.73      0.80      0.76       118\n",
      "           2       0.55      0.45      0.50        64\n",
      "           3       1.00      1.00      1.00        18\n",
      "\n",
      "    accuracy                           0.70       200\n",
      "   macro avg       0.76      0.75      0.75       200\n",
      "weighted avg       0.70      0.70      0.70       200\n",
      "\n"
     ]
    }
   ],
   "source": [
    "print(sklearn.metrics.classification_report(Test_Y, svc.predict(Test_X)) )"
   ]
  },
  {
   "cell_type": "code",
   "execution_count": 54,
   "metadata": {},
   "outputs": [
    {
     "data": {
      "text/plain": [
       "(13, 0.74)"
      ]
     },
     "execution_count": 54,
     "metadata": {},
     "output_type": "execute_result"
    }
   ],
   "source": [
    "# Bagging Support Vector Classifier model\n",
    "coeff, highest = Bagging(svc, Train_X, Train_Y, Valid_X, Valid_Y)\n",
    "coeff, highest"
   ]
  },
  {
   "cell_type": "code",
   "execution_count": 55,
   "metadata": {},
   "outputs": [
    {
     "data": {
      "text/plain": [
       "0.856826801517067"
      ]
     },
     "execution_count": 55,
     "metadata": {},
     "output_type": "execute_result"
    }
   ],
   "source": [
    "Bagging_SVC = BaggingClassifier(base_estimator=svc, n_estimators=coeff, random_state=rng)\n",
    "Bagging_SVC.fit(Train_X, Train_Y)\n",
    "Bagging_SVC.score(Train_X,Train_Y)"
   ]
  },
  {
   "cell_type": "code",
   "execution_count": 56,
   "metadata": {},
   "outputs": [
    {
     "name": "stdout",
     "output_type": "stream",
     "text": [
      "              precision    recall  f1-score   support\n",
      "\n",
      "           1       0.84      0.94      0.89      1846\n",
      "           2       0.87      0.68      0.76      1046\n",
      "           3       0.96      0.99      0.97       272\n",
      "\n",
      "    accuracy                           0.86      3164\n",
      "   macro avg       0.89      0.87      0.87      3164\n",
      "weighted avg       0.86      0.86      0.85      3164\n",
      "\n"
     ]
    }
   ],
   "source": [
    "print(sklearn.metrics.classification_report(Train_Y, Bagging_SVC.predict(Train_X)) )"
   ]
  },
  {
   "cell_type": "code",
   "execution_count": 57,
   "metadata": {},
   "outputs": [
    {
     "data": {
      "text/plain": [
       "0.695"
      ]
     },
     "execution_count": 57,
     "metadata": {},
     "output_type": "execute_result"
    }
   ],
   "source": [
    "Bagging_SVC.score(Test_X,Test_Y)"
   ]
  },
  {
   "cell_type": "code",
   "execution_count": 58,
   "metadata": {},
   "outputs": [
    {
     "name": "stdout",
     "output_type": "stream",
     "text": [
      "              precision    recall  f1-score   support\n",
      "\n",
      "           1       0.73      0.77      0.75       118\n",
      "           2       0.53      0.47      0.50        64\n",
      "           3       1.00      1.00      1.00        18\n",
      "\n",
      "    accuracy                           0.69       200\n",
      "   macro avg       0.75      0.75      0.75       200\n",
      "weighted avg       0.69      0.69      0.69       200\n",
      "\n"
     ]
    }
   ],
   "source": [
    "print(sklearn.metrics.classification_report(Test_Y, Bagging_SVC.predict(Test_X)) )"
   ]
  },
  {
   "cell_type": "code",
   "execution_count": 59,
   "metadata": {},
   "outputs": [
    {
     "data": {
      "text/plain": [
       "(0.6100000000000001, 0.73)"
      ]
     },
     "execution_count": 59,
     "metadata": {},
     "output_type": "execute_result"
    }
   ],
   "source": [
    "# Gradient Boosting Decision Tree Support Vector Classifier model \n",
    "\n",
    "coeff, highest = GBDT(Bagging_SVC, Train_X, Train_Y, Valid_X, Valid_Y)\n",
    "coeff, highest"
   ]
  },
  {
   "cell_type": "code",
   "execution_count": 60,
   "metadata": {},
   "outputs": [
    {
     "data": {
      "text/plain": [
       "0.9939949431099874"
      ]
     },
     "execution_count": 60,
     "metadata": {},
     "output_type": "execute_result"
    }
   ],
   "source": [
    "GBDT_SVC = GradientBoostingClassifier(init = Bagging_SVC, learning_rate = coeff)\n",
    "GBDT_SVC.fit(Train_X, Train_Y)\n",
    "GBDT_SVC.score(Train_X,Train_Y)"
   ]
  },
  {
   "cell_type": "code",
   "execution_count": 61,
   "metadata": {},
   "outputs": [
    {
     "name": "stdout",
     "output_type": "stream",
     "text": [
      "              precision    recall  f1-score   support\n",
      "\n",
      "           1       0.99      1.00      0.99      1846\n",
      "           2       1.00      0.99      0.99      1046\n",
      "           3       1.00      1.00      1.00       272\n",
      "\n",
      "    accuracy                           0.99      3164\n",
      "   macro avg       1.00      0.99      1.00      3164\n",
      "weighted avg       0.99      0.99      0.99      3164\n",
      "\n"
     ]
    }
   ],
   "source": [
    "print(sklearn.metrics.classification_report(Train_Y, GBDT_SVC.predict(Train_X)) )"
   ]
  },
  {
   "cell_type": "code",
   "execution_count": 62,
   "metadata": {},
   "outputs": [
    {
     "data": {
      "text/plain": [
       "0.665"
      ]
     },
     "execution_count": 62,
     "metadata": {},
     "output_type": "execute_result"
    }
   ],
   "source": [
    "GBDT_SVC.score(Test_X,Test_Y)"
   ]
  },
  {
   "cell_type": "code",
   "execution_count": 63,
   "metadata": {},
   "outputs": [
    {
     "name": "stdout",
     "output_type": "stream",
     "text": [
      "              precision    recall  f1-score   support\n",
      "\n",
      "           1       0.73      0.68      0.70       118\n",
      "           2       0.48      0.55      0.51        64\n",
      "           3       1.00      1.00      1.00        18\n",
      "\n",
      "    accuracy                           0.67       200\n",
      "   macro avg       0.74      0.74      0.74       200\n",
      "weighted avg       0.68      0.67      0.67       200\n",
      "\n"
     ]
    }
   ],
   "source": [
    "print(sklearn.metrics.classification_report(Test_Y, GBDT_SVC.predict(Test_X)) )"
   ]
  },
  {
   "cell_type": "markdown",
   "metadata": {},
   "source": [
    "### Random Forest"
   ]
  },
  {
   "cell_type": "code",
   "execution_count": 64,
   "metadata": {},
   "outputs": [
    {
     "name": "stderr",
     "output_type": "stream",
     "text": [
      "//anaconda3/lib/python3.7/site-packages/sklearn/ensemble/forest.py:245: FutureWarning: The default value of n_estimators will change from 10 in version 0.20 to 100 in 0.22.\n",
      "  \"10 in version 0.20 to 100 in 0.22.\", FutureWarning)\n"
     ]
    },
    {
     "data": {
      "text/plain": [
       "0.9823008849557522"
      ]
     },
     "execution_count": 64,
     "metadata": {},
     "output_type": "execute_result"
    }
   ],
   "source": [
    "RF = RandomForestClassifier(random_state=0)\n",
    "RF.fit(Train_X, Train_Y)\n",
    "RF.score(Train_X, Train_Y)"
   ]
  },
  {
   "cell_type": "code",
   "execution_count": 65,
   "metadata": {},
   "outputs": [
    {
     "name": "stdout",
     "output_type": "stream",
     "text": [
      "              precision    recall  f1-score   support\n",
      "\n",
      "           1       0.97      1.00      0.99      1846\n",
      "           2       1.00      0.95      0.97      1046\n",
      "           3       1.00      0.99      1.00       272\n",
      "\n",
      "    accuracy                           0.98      3164\n",
      "   macro avg       0.99      0.98      0.98      3164\n",
      "weighted avg       0.98      0.98      0.98      3164\n",
      "\n"
     ]
    }
   ],
   "source": [
    "print(sklearn.metrics.classification_report(Train_Y, RF.predict(Train_X)) )"
   ]
  },
  {
   "cell_type": "code",
   "execution_count": 66,
   "metadata": {},
   "outputs": [
    {
     "data": {
      "text/plain": [
       "0.67"
      ]
     },
     "execution_count": 66,
     "metadata": {},
     "output_type": "execute_result"
    }
   ],
   "source": [
    "RF.score(Test_X, Test_Y)"
   ]
  },
  {
   "cell_type": "code",
   "execution_count": 67,
   "metadata": {},
   "outputs": [
    {
     "name": "stdout",
     "output_type": "stream",
     "text": [
      "              precision    recall  f1-score   support\n",
      "\n",
      "           1       0.69      0.84      0.76       118\n",
      "           2       0.54      0.39      0.45        64\n",
      "           3       1.00      0.56      0.71        18\n",
      "\n",
      "    accuracy                           0.67       200\n",
      "   macro avg       0.74      0.60      0.64       200\n",
      "weighted avg       0.67      0.67      0.66       200\n",
      "\n"
     ]
    }
   ],
   "source": [
    "print(sklearn.metrics.classification_report(Test_Y, RF.predict(Test_X)) )"
   ]
  },
  {
   "cell_type": "code",
   "execution_count": 68,
   "metadata": {},
   "outputs": [
    {
     "data": {
      "text/plain": [
       "(16, 0.7)"
      ]
     },
     "execution_count": 68,
     "metadata": {},
     "output_type": "execute_result"
    }
   ],
   "source": [
    "# Bagging Random Forest \n",
    "coeff, highest = Bagging(RF, Train_X, Train_Y, Valid_X, Valid_Y)\n",
    "coeff, highest"
   ]
  },
  {
   "cell_type": "code",
   "execution_count": 69,
   "metadata": {},
   "outputs": [
    {
     "data": {
      "text/plain": [
       "0.9876738305941846"
      ]
     },
     "execution_count": 69,
     "metadata": {},
     "output_type": "execute_result"
    }
   ],
   "source": [
    "Bagging_RF = BaggingClassifier(base_estimator=RF, n_estimators=coeff, random_state=rng)\n",
    "Bagging_RF.fit(Train_X, Train_Y)\n",
    "Bagging_RF.score(Train_X,Train_Y)"
   ]
  },
  {
   "cell_type": "code",
   "execution_count": 70,
   "metadata": {},
   "outputs": [
    {
     "name": "stdout",
     "output_type": "stream",
     "text": [
      "              precision    recall  f1-score   support\n",
      "\n",
      "           1       0.98      1.00      0.99      1846\n",
      "           2       1.00      0.97      0.98      1046\n",
      "           3       1.00      0.99      0.99       272\n",
      "\n",
      "    accuracy                           0.99      3164\n",
      "   macro avg       0.99      0.98      0.99      3164\n",
      "weighted avg       0.99      0.99      0.99      3164\n",
      "\n"
     ]
    }
   ],
   "source": [
    "print(sklearn.metrics.classification_report(Train_Y, Bagging_RF.predict(Train_X)) )"
   ]
  },
  {
   "cell_type": "code",
   "execution_count": 71,
   "metadata": {},
   "outputs": [
    {
     "data": {
      "text/plain": [
       "0.9876738305941846"
      ]
     },
     "execution_count": 71,
     "metadata": {},
     "output_type": "execute_result"
    }
   ],
   "source": [
    "Bagging_RF.score(Train_X,Train_Y)"
   ]
  },
  {
   "cell_type": "code",
   "execution_count": 72,
   "metadata": {},
   "outputs": [
    {
     "name": "stdout",
     "output_type": "stream",
     "text": [
      "              precision    recall  f1-score   support\n",
      "\n",
      "           1       0.67      0.90      0.77       118\n",
      "           2       0.61      0.31      0.41        64\n",
      "           3       1.00      0.44      0.62        18\n",
      "\n",
      "    accuracy                           0.67       200\n",
      "   macro avg       0.76      0.55      0.60       200\n",
      "weighted avg       0.68      0.67      0.64       200\n",
      "\n"
     ]
    }
   ],
   "source": [
    "print(sklearn.metrics.classification_report(Test_Y, Bagging_RF.predict(Test_X)) )"
   ]
  },
  {
   "cell_type": "code",
   "execution_count": 73,
   "metadata": {},
   "outputs": [
    {
     "data": {
      "text/plain": [
       "(0.46, 0.71)"
      ]
     },
     "execution_count": 73,
     "metadata": {},
     "output_type": "execute_result"
    }
   ],
   "source": [
    "# Gradient Boosting Decision Tree Random Forest model \n",
    "\n",
    "coeff, highest = GBDT(Bagging_RF, Train_X, Train_Y, Valid_X, Valid_Y)\n",
    "coeff, highest"
   ]
  },
  {
   "cell_type": "code",
   "execution_count": 74,
   "metadata": {},
   "outputs": [
    {
     "data": {
      "text/plain": [
       "1.0"
      ]
     },
     "execution_count": 74,
     "metadata": {},
     "output_type": "execute_result"
    }
   ],
   "source": [
    "GBDT_RF = GradientBoostingClassifier(init = Bagging_RF, learning_rate = coeff)\n",
    "GBDT_RF.fit(Train_X, Train_Y)\n",
    "GBDT_RF.score(Train_X,Train_Y)"
   ]
  },
  {
   "cell_type": "code",
   "execution_count": 78,
   "metadata": {},
   "outputs": [
    {
     "name": "stdout",
     "output_type": "stream",
     "text": [
      "              precision    recall  f1-score   support\n",
      "\n",
      "           1       1.00      1.00      1.00      1846\n",
      "           2       1.00      1.00      1.00      1046\n",
      "           3       1.00      1.00      1.00       272\n",
      "\n",
      "    accuracy                           1.00      3164\n",
      "   macro avg       1.00      1.00      1.00      3164\n",
      "weighted avg       1.00      1.00      1.00      3164\n",
      "\n"
     ]
    }
   ],
   "source": [
    "print(sklearn.metrics.classification_report(Train_Y, GBDT_RF.predict(Train_X)) )"
   ]
  },
  {
   "cell_type": "code",
   "execution_count": 76,
   "metadata": {},
   "outputs": [
    {
     "data": {
      "text/plain": [
       "0.705"
      ]
     },
     "execution_count": 76,
     "metadata": {},
     "output_type": "execute_result"
    }
   ],
   "source": [
    "GBDT_RF.score(Test_X,Test_Y)"
   ]
  },
  {
   "cell_type": "code",
   "execution_count": 77,
   "metadata": {},
   "outputs": [
    {
     "name": "stdout",
     "output_type": "stream",
     "text": [
      "              precision    recall  f1-score   support\n",
      "\n",
      "           1       0.75      0.75      0.75       118\n",
      "           2       0.54      0.53      0.54        64\n",
      "           3       1.00      1.00      1.00        18\n",
      "\n",
      "    accuracy                           0.70       200\n",
      "   macro avg       0.76      0.76      0.76       200\n",
      "weighted avg       0.70      0.70      0.70       200\n",
      "\n"
     ]
    }
   ],
   "source": [
    "print(sklearn.metrics.classification_report(Test_Y, GBDT_RF.predict(Test_X)) )"
   ]
  },
  {
   "cell_type": "markdown",
   "metadata": {},
   "source": [
    "### Ensembling Learning"
   ]
  },
  {
   "cell_type": "markdown",
   "metadata": {},
   "source": [
    "### Voting "
   ]
  },
  {
   "cell_type": "code",
   "execution_count": 254,
   "metadata": {},
   "outputs": [],
   "source": [
    "model_list = [GBDT_RF, GBDT_SVC, GBDT_NB, KNN]\n",
    "model_list_labels = [\"GBDT_RF\", \"GBDT_SVC\", \"GBDT_NB\", \"KNN\"]\n",
    "\n",
    "\n",
    "lists = []\n",
    "for i in zip(model_list_labels,model_list):\n",
    "    lists.append(i)"
   ]
  },
  {
   "cell_type": "code",
   "execution_count": 255,
   "metadata": {},
   "outputs": [
    {
     "data": {
      "text/plain": [
       "0.9981036662452591"
      ]
     },
     "execution_count": 255,
     "metadata": {},
     "output_type": "execute_result"
    }
   ],
   "source": [
    "VC_models = VotingClassifier(estimators=lists)\n",
    "VC_models.fit(Train_X, Train_Y)\n",
    "VC_models.score(Train_X, Train_Y)"
   ]
  },
  {
   "cell_type": "code",
   "execution_count": 256,
   "metadata": {},
   "outputs": [
    {
     "name": "stdout",
     "output_type": "stream",
     "text": [
      "              precision    recall  f1-score   support\n",
      "\n",
      "           1       1.00      1.00      1.00      1846\n",
      "           2       1.00      0.99      1.00      1046\n",
      "           3       1.00      1.00      1.00       272\n",
      "\n",
      "    accuracy                           1.00      3164\n",
      "   macro avg       1.00      1.00      1.00      3164\n",
      "weighted avg       1.00      1.00      1.00      3164\n",
      "\n"
     ]
    }
   ],
   "source": [
    "print(sklearn.metrics.classification_report(Train_Y, VC_models.predict(Train_X)) )"
   ]
  },
  {
   "cell_type": "code",
   "execution_count": 257,
   "metadata": {},
   "outputs": [
    {
     "data": {
      "text/plain": [
       "0.73"
      ]
     },
     "execution_count": 257,
     "metadata": {},
     "output_type": "execute_result"
    }
   ],
   "source": [
    "VC_models.score(Test_X, Test_Y)"
   ]
  },
  {
   "cell_type": "code",
   "execution_count": 258,
   "metadata": {},
   "outputs": [
    {
     "name": "stdout",
     "output_type": "stream",
     "text": [
      "              precision    recall  f1-score   support\n",
      "\n",
      "           1       0.72      0.90      0.80       118\n",
      "           2       0.66      0.36      0.46        64\n",
      "           3       1.00      0.94      0.97        18\n",
      "\n",
      "    accuracy                           0.73       200\n",
      "   macro avg       0.79      0.73      0.74       200\n",
      "weighted avg       0.72      0.73      0.71       200\n",
      "\n"
     ]
    }
   ],
   "source": [
    "print(sklearn.metrics.classification_report(Test_Y, VC_models.predict(Test_X)) )"
   ]
  },
  {
   "cell_type": "markdown",
   "metadata": {},
   "source": [
    "### Stacking "
   ]
  },
  {
   "cell_type": "code",
   "execution_count": 168,
   "metadata": {},
   "outputs": [],
   "source": [
    "Stacking_X = np.append(Train_X, Valid_X,  axis=0)\n",
    "Stacking_Y = np.append(Train_Y, Valid_Y)"
   ]
  },
  {
   "cell_type": "code",
   "execution_count": 265,
   "metadata": {},
   "outputs": [
    {
     "data": {
      "text/plain": [
       "0.9947916666666666"
      ]
     },
     "execution_count": 265,
     "metadata": {},
     "output_type": "execute_result"
    }
   ],
   "source": [
    "meta = MLPClassifier(alpha = 25, solver = \"adam\", activation = \"relu\", max_iter = 1000) # early stop\n",
    "model_list = [GBDT_RF, GBDT_SVC, GBDT_NB, KNN]\n",
    "\n",
    "\n",
    "SC_models = StackingClassifier(classifiers=model_list, meta_classifier=meta)\n",
    "SC_models.fit(Stacking_X, Stacking_Y)\n",
    "SC_models.score(Stacking_X, Stacking_Y)"
   ]
  },
  {
   "cell_type": "code",
   "execution_count": 266,
   "metadata": {},
   "outputs": [
    {
     "name": "stdout",
     "output_type": "stream",
     "text": [
      "              precision    recall  f1-score   support\n",
      "\n",
      "           1       0.99      1.00      1.00      1905\n",
      "           2       1.00      0.99      0.99      1077\n",
      "           3       1.00      0.98      0.99       282\n",
      "\n",
      "    accuracy                           0.99      3264\n",
      "   macro avg       1.00      0.99      0.99      3264\n",
      "weighted avg       0.99      0.99      0.99      3264\n",
      "\n"
     ]
    }
   ],
   "source": [
    "print(sklearn.metrics.classification_report(Stacking_Y, SC_models.predict(Stacking_X)))"
   ]
  },
  {
   "cell_type": "code",
   "execution_count": 267,
   "metadata": {},
   "outputs": [
    {
     "data": {
      "text/plain": [
       "0.715"
      ]
     },
     "execution_count": 267,
     "metadata": {},
     "output_type": "execute_result"
    }
   ],
   "source": [
    "SC_models.score(Test_X, Test_Y)"
   ]
  },
  {
   "cell_type": "code",
   "execution_count": 268,
   "metadata": {},
   "outputs": [
    {
     "name": "stdout",
     "output_type": "stream",
     "text": [
      "              precision    recall  f1-score   support\n",
      "\n",
      "           1       0.71      0.88      0.79       118\n",
      "           2       0.59      0.34      0.44        64\n",
      "           3       1.00      0.94      0.97        18\n",
      "\n",
      "    accuracy                           0.71       200\n",
      "   macro avg       0.77      0.72      0.73       200\n",
      "weighted avg       0.70      0.71      0.69       200\n",
      "\n"
     ]
    }
   ],
   "source": [
    "print(sklearn.metrics.classification_report(Test_Y, SC_models.predict(Test_X)) )"
   ]
  },
  {
   "cell_type": "markdown",
   "metadata": {},
   "source": [
    "### Visualisation "
   ]
  },
  {
   "cell_type": "code",
   "execution_count": 269,
   "metadata": {},
   "outputs": [
    {
     "data": {
      "image/png": "[encoded data removed]",
      "text/plain": [
       "<Figure size 1296x648 with 1 Axes>"
      ]
     },
     "metadata": {
      "needs_background": "light"
     },
     "output_type": "display_data"
    }
   ],
   "source": [
    "# model_list = [GBDT_RF, Bagging_SVC, GBDT_NB, KNN]\n",
    "# model_list_labels = [\"GBDT_RF\", \"Bagging_SVC\", \"GBDT_NB\", \"KNN\"]\n",
    "\n",
    "\n",
    "num = 50\n",
    "xt = Test_X[:num]\n",
    "\n",
    "alpha = 0.6\n",
    "plt.figure(figsize=(18,9))\n",
    "plt.plot(GBDT_RF.predict(xt), 'gd',alpha = alpha, label='GBDT_RF')\n",
    "plt.plot(GBDT_SVC.predict(xt), 'ko',alpha = alpha, label='GBDT_SVC')\n",
    "plt.plot(GBDT_NB.predict(xt), 'b^',alpha = alpha, label='GBDT_NB')\n",
    "plt.plot(KNN.predict(xt), 'r+',alpha = alpha, label='KNN')\n",
    "plt.plot(VC_models.predict(xt), 'cs',alpha = alpha, label='Voting Models')\n",
    "plt.plot(SC_models.predict(xt), 'yp',alpha = alpha, label='Stacking Models')\n",
    "plt.plot(Test_Y[:num], 'black', label='Y_Real')\n",
    "\n",
    "\n",
    "plt.tick_params(axis='x', which='both', bottom=False, top=False,\n",
    "                labelbottom=False)\n",
    "plt.ylabel('predicted')\n",
    "plt.xlabel('training samples')\n",
    "plt.legend(loc=\"best\")\n",
    "plt.title('Comparison of individual predictions with averaged')\n",
    "plt.savefig('result.pdf')\n",
    "plt.show()\n",
    "\n",
    "\n"
   ]
  }
 ],
 "metadata": {
  "kernelspec": {
   "display_name": "Python 3",
   "language": "python",
   "name": "python3"
  },
  "language_info": {
   "codemirror_mode": {
    "name": "ipython",
    "version": 3
   },
   "file_extension": ".py",
   "mimetype": "text/x-python",
   "name": "python",
   "nbconvert_exporter": "python",
   "pygments_lexer": "ipython3",
   "version": "3.7.3"
  }
 },
 "nbformat": 4,
 "nbformat_minor": 2
}
