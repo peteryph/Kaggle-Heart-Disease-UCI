{
 "cells": [
  {
   "cell_type": "code",
   "execution_count": 1,
   "metadata": {},
   "outputs": [],
   "source": [
    "import sys\n",
    "import pandas\n",
    "import sklearn\n",
    "import imblearn\n",
    "import numpy as np\n",
    "import seaborn as sns\n",
    "from collections import Counter\n",
    "import matplotlib.pyplot as plt\n",
    "from matplotlib import pyplot\n",
    "\n",
    "#sklearn pre-processing \n",
    "from sklearn.utils import shuffle\n",
    "from sklearn.preprocessing import MinMaxScaler\n",
    "\n",
    "# sklearn classifier model\n",
    "from sklearn.svm import SVC\n",
    "from sklearn.naive_bayes import MultinomialNB\n",
    "from sklearn.neighbors import KNeighborsClassifier\n",
    "from sklearn.ensemble import RandomForestClassifier\n",
    "from sklearn.neural_network import MLPClassifier\n",
    "from sklearn.ensemble import ExtraTreesClassifier\n",
    "\n",
    "# sklearn bagging and boosting \n",
    "from sklearn.ensemble import BaggingClassifier\n",
    "from sklearn.ensemble import AdaBoostClassifier\n",
    "from sklearn.ensemble import GradientBoostingClassifier\n",
    "\n",
    "# model ensemble learning \n",
    "from sklearn.ensemble import VotingClassifier\n",
    "from mlxtend.classifier import StackingClassifier\n",
    "from sklearn.model_selection import validation_curve\n",
    "\n",
    "\n",
    "# xgboost\n",
    "from xgboost import XGBClassifier\n",
    "from xgboost import plot_importance\n",
    "\n",
    "# pandas.set_option('display.max_columns', None)\n",
    "# pandas.set_option('display.max_rows', None)"
   ]
  },
  {
   "cell_type": "markdown",
   "metadata": {},
   "source": [
    "### Read CSV"
   ]
  },
  {
   "cell_type": "code",
   "execution_count": 2,
   "metadata": {
    "scrolled": true
   },
   "outputs": [
    {
     "name": "stderr",
     "output_type": "stream",
     "text": [
      "//anaconda3/lib/python3.7/site-packages/ipykernel_launcher.py:6: SettingWithCopyWarning: \n",
      "A value is trying to be set on a copy of a slice from a DataFrame\n",
      "\n",
      "See the caveats in the documentation: http://pandas.pydata.org/pandas-docs/stable/indexing.html#indexing-view-versus-copy\n",
      "  \n",
      "//anaconda3/lib/python3.7/site-packages/ipykernel_launcher.py:7: SettingWithCopyWarning: \n",
      "A value is trying to be set on a copy of a slice from a DataFrame\n",
      "\n",
      "See the caveats in the documentation: http://pandas.pydata.org/pandas-docs/stable/indexing.html#indexing-view-versus-copy\n",
      "  import sys\n",
      "//anaconda3/lib/python3.7/site-packages/ipykernel_launcher.py:8: SettingWithCopyWarning: \n",
      "A value is trying to be set on a copy of a slice from a DataFrame\n",
      "\n",
      "See the caveats in the documentation: http://pandas.pydata.org/pandas-docs/stable/indexing.html#indexing-view-versus-copy\n",
      "  \n"
     ]
    }
   ],
   "source": [
    "df = pandas.read_csv(\"ufcdata/data.csv\").drop(columns = [\"Referee\", \"R_fighter\", \"B_fighter\", \"location\", \"date\"]).dropna().reset_index()\n",
    "df = df.drop(columns = [\"index\"])\n",
    "df.title_bout = df.title_bout.astype(int)\n",
    "\n",
    "# conver the winner into int\n",
    "df[\"Winner\"][df[\"Winner\"] == \"Red\"] = 1\n",
    "df[\"Winner\"][df[\"Winner\"] == \"Blue\"] = 2\n",
    "df[\"Winner\"][df[\"Winner\"] == \"Draw\"] = 3\n",
    "\n",
    "\n",
    "df = df[df[\"Winner\"] != \"Draw\"].reset_index(drop=True)"
   ]
  },
  {
   "cell_type": "code",
   "execution_count": 3,
   "metadata": {},
   "outputs": [
    {
     "data": {
      "text/plain": [
       "1    2023\n",
       "2    1141\n",
       "3      51\n",
       "Name: Winner, dtype: int64"
      ]
     },
     "execution_count": 3,
     "metadata": {},
     "output_type": "execute_result"
    }
   ],
   "source": [
    "# Count the Y distribtion \n",
    "df[\"Winner\"].value_counts()"
   ]
  },
  {
   "cell_type": "markdown",
   "metadata": {},
   "source": [
    "### EDA Work"
   ]
  },
  {
   "cell_type": "code",
   "execution_count": 4,
   "metadata": {
    "scrolled": true
   },
   "outputs": [
    {
     "data": {
      "text/plain": [
       "(67, 67)"
      ]
     },
     "execution_count": 4,
     "metadata": {},
     "output_type": "execute_result"
    }
   ],
   "source": [
    "# Get both player status \n",
    "R_status = []\n",
    "B_status = []\n",
    "\n",
    "# global status (referee, weight classes...etc)\n",
    "global_status = []\n",
    "for i in list(df.keys()):\n",
    "    if(\"R_\" in i[:3]):\n",
    "        R_status.append(i)\n",
    "    elif(\"B_\" in i):\n",
    "        B_status.append(i)\n",
    "    else:\n",
    "        global_status.append(i)\n",
    "B_status.remove(\"B_Stance\")\n",
    "R_status.remove(\"R_Stance\")\n",
    "\n",
    "len(R_status), len(B_status)"
   ]
  },
  {
   "cell_type": "code",
   "execution_count": 5,
   "metadata": {},
   "outputs": [
    {
     "data": {
      "text/plain": [
       "['Winner', 'title_bout', 'weight_class', 'no_of_rounds']"
      ]
     },
     "execution_count": 5,
     "metadata": {},
     "output_type": "execute_result"
    }
   ],
   "source": [
    "len(global_status)\n",
    "global_status"
   ]
  },
  {
   "cell_type": "code",
   "execution_count": 6,
   "metadata": {},
   "outputs": [
    {
     "data": {
      "text/html": [
       "<div>\n",
       "<style scoped>\n",
       "    .dataframe tbody tr th:only-of-type {\n",
       "        vertical-align: middle;\n",
       "    }\n",
       "\n",
       "    .dataframe tbody tr th {\n",
       "        vertical-align: top;\n",
       "    }\n",
       "\n",
       "    .dataframe thead th {\n",
       "        text-align: right;\n",
       "    }\n",
       "</style>\n",
       "<table border=\"1\" class=\"dataframe\">\n",
       "  <thead>\n",
       "    <tr style=\"text-align: right;\">\n",
       "      <th></th>\n",
       "      <th>R_Open Stance</th>\n",
       "      <th>R_Orthodox</th>\n",
       "      <th>R_Southpaw</th>\n",
       "      <th>R_Switch</th>\n",
       "      <th>B_Open Stance</th>\n",
       "      <th>B_Orthodox</th>\n",
       "      <th>B_Southpaw</th>\n",
       "      <th>B_Switch</th>\n",
       "    </tr>\n",
       "  </thead>\n",
       "  <tbody>\n",
       "    <tr>\n",
       "      <th>3210</th>\n",
       "      <td>0.0</td>\n",
       "      <td>1.0</td>\n",
       "      <td>0.0</td>\n",
       "      <td>0.0</td>\n",
       "      <td>0.0</td>\n",
       "      <td>1.0</td>\n",
       "      <td>0.0</td>\n",
       "      <td>0.0</td>\n",
       "    </tr>\n",
       "    <tr>\n",
       "      <th>3211</th>\n",
       "      <td>0.0</td>\n",
       "      <td>1.0</td>\n",
       "      <td>0.0</td>\n",
       "      <td>0.0</td>\n",
       "      <td>0.0</td>\n",
       "      <td>1.0</td>\n",
       "      <td>0.0</td>\n",
       "      <td>0.0</td>\n",
       "    </tr>\n",
       "    <tr>\n",
       "      <th>3212</th>\n",
       "      <td>0.0</td>\n",
       "      <td>1.0</td>\n",
       "      <td>0.0</td>\n",
       "      <td>0.0</td>\n",
       "      <td>0.0</td>\n",
       "      <td>1.0</td>\n",
       "      <td>0.0</td>\n",
       "      <td>0.0</td>\n",
       "    </tr>\n",
       "    <tr>\n",
       "      <th>3213</th>\n",
       "      <td>0.0</td>\n",
       "      <td>1.0</td>\n",
       "      <td>0.0</td>\n",
       "      <td>0.0</td>\n",
       "      <td>0.0</td>\n",
       "      <td>1.0</td>\n",
       "      <td>0.0</td>\n",
       "      <td>0.0</td>\n",
       "    </tr>\n",
       "    <tr>\n",
       "      <th>3214</th>\n",
       "      <td>0.0</td>\n",
       "      <td>1.0</td>\n",
       "      <td>0.0</td>\n",
       "      <td>0.0</td>\n",
       "      <td>0.0</td>\n",
       "      <td>0.0</td>\n",
       "      <td>1.0</td>\n",
       "      <td>0.0</td>\n",
       "    </tr>\n",
       "  </tbody>\n",
       "</table>\n",
       "</div>"
      ],
      "text/plain": [
       "      R_Open Stance  R_Orthodox  R_Southpaw  R_Switch  B_Open Stance  \\\n",
       "3210            0.0         1.0         0.0       0.0            0.0   \n",
       "3211            0.0         1.0         0.0       0.0            0.0   \n",
       "3212            0.0         1.0         0.0       0.0            0.0   \n",
       "3213            0.0         1.0         0.0       0.0            0.0   \n",
       "3214            0.0         1.0         0.0       0.0            0.0   \n",
       "\n",
       "      B_Orthodox  B_Southpaw  B_Switch  \n",
       "3210         1.0         0.0       0.0  \n",
       "3211         1.0         0.0       0.0  \n",
       "3212         1.0         0.0       0.0  \n",
       "3213         1.0         0.0       0.0  \n",
       "3214         0.0         1.0       0.0  "
      ]
     },
     "execution_count": 6,
     "metadata": {},
     "output_type": "execute_result"
    }
   ],
   "source": [
    "# R_ and B_ Stance convert into one-hot\n",
    "df1 = pandas.DataFrame()\n",
    "for side in [\"R_\", \"B_\"]:\n",
    "    keys = list(sorted(df[side+\"Stance\"].unique()))\n",
    "    lis = list()\n",
    "    for i in df[side+\"Stance\"].tolist():\n",
    "        zero = np.zeros((1,len(keys)))\n",
    "        zero[0][keys.index(i)] = 1\n",
    "        lis.append(zero[0])\n",
    "    _keys = []\n",
    "    \n",
    "    for i in keys: # rename columns \n",
    "        _keys.append(side+i)\n",
    "        \n",
    "    df_temp = pandas.DataFrame(lis, columns = _keys)\n",
    "    \n",
    "    for i in df_temp.keys(): # append together\n",
    "        df1[i] = df_temp[i]\n",
    "df1.tail()"
   ]
  },
  {
   "cell_type": "code",
   "execution_count": 7,
   "metadata": {
    "scrolled": true
   },
   "outputs": [
    {
     "data": {
      "text/html": [
       "<div>\n",
       "<style scoped>\n",
       "    .dataframe tbody tr th:only-of-type {\n",
       "        vertical-align: middle;\n",
       "    }\n",
       "\n",
       "    .dataframe tbody tr th {\n",
       "        vertical-align: top;\n",
       "    }\n",
       "\n",
       "    .dataframe thead th {\n",
       "        text-align: right;\n",
       "    }\n",
       "</style>\n",
       "<table border=\"1\" class=\"dataframe\">\n",
       "  <thead>\n",
       "    <tr style=\"text-align: right;\">\n",
       "      <th></th>\n",
       "      <th>Bantamweight</th>\n",
       "      <th>Catch Weight</th>\n",
       "      <th>Featherweight</th>\n",
       "      <th>Flyweight</th>\n",
       "      <th>Heavyweight</th>\n",
       "      <th>Light Heavyweight</th>\n",
       "      <th>Lightweight</th>\n",
       "      <th>Middleweight</th>\n",
       "      <th>Welterweight</th>\n",
       "      <th>Women's Bantamweight</th>\n",
       "      <th>Women's Featherweight</th>\n",
       "      <th>Women's Flyweight</th>\n",
       "      <th>Women's Strawweight</th>\n",
       "    </tr>\n",
       "  </thead>\n",
       "  <tbody>\n",
       "    <tr>\n",
       "      <th>3210</th>\n",
       "      <td>0.0</td>\n",
       "      <td>0.0</td>\n",
       "      <td>0.0</td>\n",
       "      <td>0.0</td>\n",
       "      <td>0.0</td>\n",
       "      <td>1.0</td>\n",
       "      <td>0.0</td>\n",
       "      <td>0.0</td>\n",
       "      <td>0.0</td>\n",
       "      <td>0.0</td>\n",
       "      <td>0.0</td>\n",
       "      <td>0.0</td>\n",
       "      <td>0.0</td>\n",
       "    </tr>\n",
       "    <tr>\n",
       "      <th>3211</th>\n",
       "      <td>0.0</td>\n",
       "      <td>0.0</td>\n",
       "      <td>0.0</td>\n",
       "      <td>0.0</td>\n",
       "      <td>0.0</td>\n",
       "      <td>0.0</td>\n",
       "      <td>0.0</td>\n",
       "      <td>1.0</td>\n",
       "      <td>0.0</td>\n",
       "      <td>0.0</td>\n",
       "      <td>0.0</td>\n",
       "      <td>0.0</td>\n",
       "      <td>0.0</td>\n",
       "    </tr>\n",
       "    <tr>\n",
       "      <th>3212</th>\n",
       "      <td>0.0</td>\n",
       "      <td>0.0</td>\n",
       "      <td>0.0</td>\n",
       "      <td>0.0</td>\n",
       "      <td>0.0</td>\n",
       "      <td>1.0</td>\n",
       "      <td>0.0</td>\n",
       "      <td>0.0</td>\n",
       "      <td>0.0</td>\n",
       "      <td>0.0</td>\n",
       "      <td>0.0</td>\n",
       "      <td>0.0</td>\n",
       "      <td>0.0</td>\n",
       "    </tr>\n",
       "    <tr>\n",
       "      <th>3213</th>\n",
       "      <td>0.0</td>\n",
       "      <td>0.0</td>\n",
       "      <td>0.0</td>\n",
       "      <td>0.0</td>\n",
       "      <td>0.0</td>\n",
       "      <td>0.0</td>\n",
       "      <td>0.0</td>\n",
       "      <td>1.0</td>\n",
       "      <td>0.0</td>\n",
       "      <td>0.0</td>\n",
       "      <td>0.0</td>\n",
       "      <td>0.0</td>\n",
       "      <td>0.0</td>\n",
       "    </tr>\n",
       "    <tr>\n",
       "      <th>3214</th>\n",
       "      <td>0.0</td>\n",
       "      <td>0.0</td>\n",
       "      <td>0.0</td>\n",
       "      <td>0.0</td>\n",
       "      <td>1.0</td>\n",
       "      <td>0.0</td>\n",
       "      <td>0.0</td>\n",
       "      <td>0.0</td>\n",
       "      <td>0.0</td>\n",
       "      <td>0.0</td>\n",
       "      <td>0.0</td>\n",
       "      <td>0.0</td>\n",
       "      <td>0.0</td>\n",
       "    </tr>\n",
       "  </tbody>\n",
       "</table>\n",
       "</div>"
      ],
      "text/plain": [
       "      Bantamweight  Catch Weight  Featherweight  Flyweight  Heavyweight  \\\n",
       "3210           0.0           0.0            0.0        0.0          0.0   \n",
       "3211           0.0           0.0            0.0        0.0          0.0   \n",
       "3212           0.0           0.0            0.0        0.0          0.0   \n",
       "3213           0.0           0.0            0.0        0.0          0.0   \n",
       "3214           0.0           0.0            0.0        0.0          1.0   \n",
       "\n",
       "      Light Heavyweight  Lightweight  Middleweight  Welterweight  \\\n",
       "3210                1.0          0.0           0.0           0.0   \n",
       "3211                0.0          0.0           1.0           0.0   \n",
       "3212                1.0          0.0           0.0           0.0   \n",
       "3213                0.0          0.0           1.0           0.0   \n",
       "3214                0.0          0.0           0.0           0.0   \n",
       "\n",
       "      Women's Bantamweight  Women's Featherweight  Women's Flyweight  \\\n",
       "3210                   0.0                    0.0                0.0   \n",
       "3211                   0.0                    0.0                0.0   \n",
       "3212                   0.0                    0.0                0.0   \n",
       "3213                   0.0                    0.0                0.0   \n",
       "3214                   0.0                    0.0                0.0   \n",
       "\n",
       "      Women's Strawweight  \n",
       "3210                  0.0  \n",
       "3211                  0.0  \n",
       "3212                  0.0  \n",
       "3213                  0.0  \n",
       "3214                  0.0  "
      ]
     },
     "execution_count": 7,
     "metadata": {},
     "output_type": "execute_result"
    }
   ],
   "source": [
    "# Weight class feature to one-hot\n",
    "\n",
    "keys = list(sorted(df[\"weight_class\"].unique()))\n",
    "lis = list()\n",
    "\n",
    "for i in df[\"weight_class\"].tolist():\n",
    "    zero = np.zeros((1,len(keys)))\n",
    "    zero[0][keys.index(i)] = 1\n",
    "    lis.append(zero[0])\n",
    "\n",
    "df2 = pandas.DataFrame(lis, columns = keys).astype('float')\n",
    "\n",
    "df2.tail()"
   ]
  },
  {
   "cell_type": "code",
   "execution_count": 8,
   "metadata": {
    "scrolled": true
   },
   "outputs": [
    {
     "data": {
      "text/html": [
       "<div>\n",
       "<style scoped>\n",
       "    .dataframe tbody tr th:only-of-type {\n",
       "        vertical-align: middle;\n",
       "    }\n",
       "\n",
       "    .dataframe tbody tr th {\n",
       "        vertical-align: top;\n",
       "    }\n",
       "\n",
       "    .dataframe thead th {\n",
       "        text-align: right;\n",
       "    }\n",
       "</style>\n",
       "<table border=\"1\" class=\"dataframe\">\n",
       "  <thead>\n",
       "    <tr style=\"text-align: right;\">\n",
       "      <th></th>\n",
       "      <th>Winner</th>\n",
       "      <th>title_bout</th>\n",
       "      <th>no_of_rounds</th>\n",
       "      <th>B_current_lose_streak</th>\n",
       "      <th>B_current_win_streak</th>\n",
       "      <th>B_draw</th>\n",
       "      <th>B_avg_BODY_att</th>\n",
       "      <th>B_avg_BODY_landed</th>\n",
       "      <th>B_avg_CLINCH_att</th>\n",
       "      <th>B_avg_CLINCH_landed</th>\n",
       "      <th>...</th>\n",
       "      <th>Flyweight</th>\n",
       "      <th>Heavyweight</th>\n",
       "      <th>Light Heavyweight</th>\n",
       "      <th>Lightweight</th>\n",
       "      <th>Middleweight</th>\n",
       "      <th>Welterweight</th>\n",
       "      <th>Women's Bantamweight</th>\n",
       "      <th>Women's Featherweight</th>\n",
       "      <th>Women's Flyweight</th>\n",
       "      <th>Women's Strawweight</th>\n",
       "    </tr>\n",
       "  </thead>\n",
       "  <tbody>\n",
       "    <tr>\n",
       "      <th>0</th>\n",
       "      <td>1.0</td>\n",
       "      <td>1.0</td>\n",
       "      <td>5.0</td>\n",
       "      <td>0.0</td>\n",
       "      <td>4.0</td>\n",
       "      <td>0.0</td>\n",
       "      <td>9.200000</td>\n",
       "      <td>6.000000</td>\n",
       "      <td>0.200000</td>\n",
       "      <td>0.000000</td>\n",
       "      <td>...</td>\n",
       "      <td>0.0</td>\n",
       "      <td>0.0</td>\n",
       "      <td>0.0</td>\n",
       "      <td>0.0</td>\n",
       "      <td>0.0</td>\n",
       "      <td>0.0</td>\n",
       "      <td>0.0</td>\n",
       "      <td>0.0</td>\n",
       "      <td>0.0</td>\n",
       "      <td>0.0</td>\n",
       "    </tr>\n",
       "    <tr>\n",
       "      <th>1</th>\n",
       "      <td>1.0</td>\n",
       "      <td>1.0</td>\n",
       "      <td>5.0</td>\n",
       "      <td>0.0</td>\n",
       "      <td>3.0</td>\n",
       "      <td>0.0</td>\n",
       "      <td>14.600000</td>\n",
       "      <td>9.100000</td>\n",
       "      <td>11.800000</td>\n",
       "      <td>7.300000</td>\n",
       "      <td>...</td>\n",
       "      <td>0.0</td>\n",
       "      <td>0.0</td>\n",
       "      <td>0.0</td>\n",
       "      <td>0.0</td>\n",
       "      <td>0.0</td>\n",
       "      <td>0.0</td>\n",
       "      <td>0.0</td>\n",
       "      <td>0.0</td>\n",
       "      <td>1.0</td>\n",
       "      <td>0.0</td>\n",
       "    </tr>\n",
       "    <tr>\n",
       "      <th>2</th>\n",
       "      <td>1.0</td>\n",
       "      <td>0.0</td>\n",
       "      <td>3.0</td>\n",
       "      <td>0.0</td>\n",
       "      <td>3.0</td>\n",
       "      <td>0.0</td>\n",
       "      <td>15.354839</td>\n",
       "      <td>11.322581</td>\n",
       "      <td>6.741935</td>\n",
       "      <td>4.387097</td>\n",
       "      <td>...</td>\n",
       "      <td>0.0</td>\n",
       "      <td>0.0</td>\n",
       "      <td>0.0</td>\n",
       "      <td>1.0</td>\n",
       "      <td>0.0</td>\n",
       "      <td>0.0</td>\n",
       "      <td>0.0</td>\n",
       "      <td>0.0</td>\n",
       "      <td>0.0</td>\n",
       "      <td>0.0</td>\n",
       "    </tr>\n",
       "    <tr>\n",
       "      <th>3</th>\n",
       "      <td>2.0</td>\n",
       "      <td>0.0</td>\n",
       "      <td>3.0</td>\n",
       "      <td>0.0</td>\n",
       "      <td>4.0</td>\n",
       "      <td>0.0</td>\n",
       "      <td>17.000000</td>\n",
       "      <td>14.000000</td>\n",
       "      <td>13.750000</td>\n",
       "      <td>11.000000</td>\n",
       "      <td>...</td>\n",
       "      <td>0.0</td>\n",
       "      <td>0.0</td>\n",
       "      <td>0.0</td>\n",
       "      <td>0.0</td>\n",
       "      <td>0.0</td>\n",
       "      <td>0.0</td>\n",
       "      <td>0.0</td>\n",
       "      <td>0.0</td>\n",
       "      <td>0.0</td>\n",
       "      <td>0.0</td>\n",
       "    </tr>\n",
       "    <tr>\n",
       "      <th>4</th>\n",
       "      <td>2.0</td>\n",
       "      <td>0.0</td>\n",
       "      <td>3.0</td>\n",
       "      <td>0.0</td>\n",
       "      <td>1.0</td>\n",
       "      <td>0.0</td>\n",
       "      <td>17.000000</td>\n",
       "      <td>14.500000</td>\n",
       "      <td>2.500000</td>\n",
       "      <td>2.000000</td>\n",
       "      <td>...</td>\n",
       "      <td>0.0</td>\n",
       "      <td>1.0</td>\n",
       "      <td>0.0</td>\n",
       "      <td>0.0</td>\n",
       "      <td>0.0</td>\n",
       "      <td>0.0</td>\n",
       "      <td>0.0</td>\n",
       "      <td>0.0</td>\n",
       "      <td>0.0</td>\n",
       "      <td>0.0</td>\n",
       "    </tr>\n",
       "    <tr>\n",
       "      <th>5</th>\n",
       "      <td>1.0</td>\n",
       "      <td>0.0</td>\n",
       "      <td>3.0</td>\n",
       "      <td>0.0</td>\n",
       "      <td>3.0</td>\n",
       "      <td>0.0</td>\n",
       "      <td>15.000000</td>\n",
       "      <td>7.416667</td>\n",
       "      <td>6.083333</td>\n",
       "      <td>3.416667</td>\n",
       "      <td>...</td>\n",
       "      <td>0.0</td>\n",
       "      <td>0.0</td>\n",
       "      <td>0.0</td>\n",
       "      <td>0.0</td>\n",
       "      <td>0.0</td>\n",
       "      <td>0.0</td>\n",
       "      <td>0.0</td>\n",
       "      <td>0.0</td>\n",
       "      <td>0.0</td>\n",
       "      <td>0.0</td>\n",
       "    </tr>\n",
       "    <tr>\n",
       "      <th>6</th>\n",
       "      <td>2.0</td>\n",
       "      <td>0.0</td>\n",
       "      <td>3.0</td>\n",
       "      <td>1.0</td>\n",
       "      <td>0.0</td>\n",
       "      <td>0.0</td>\n",
       "      <td>16.250000</td>\n",
       "      <td>11.000000</td>\n",
       "      <td>17.500000</td>\n",
       "      <td>11.250000</td>\n",
       "      <td>...</td>\n",
       "      <td>0.0</td>\n",
       "      <td>0.0</td>\n",
       "      <td>0.0</td>\n",
       "      <td>0.0</td>\n",
       "      <td>0.0</td>\n",
       "      <td>0.0</td>\n",
       "      <td>0.0</td>\n",
       "      <td>0.0</td>\n",
       "      <td>0.0</td>\n",
       "      <td>1.0</td>\n",
       "    </tr>\n",
       "    <tr>\n",
       "      <th>7</th>\n",
       "      <td>2.0</td>\n",
       "      <td>0.0</td>\n",
       "      <td>3.0</td>\n",
       "      <td>0.0</td>\n",
       "      <td>1.0</td>\n",
       "      <td>0.0</td>\n",
       "      <td>7.250000</td>\n",
       "      <td>4.750000</td>\n",
       "      <td>1.750000</td>\n",
       "      <td>0.500000</td>\n",
       "      <td>...</td>\n",
       "      <td>0.0</td>\n",
       "      <td>0.0</td>\n",
       "      <td>0.0</td>\n",
       "      <td>0.0</td>\n",
       "      <td>0.0</td>\n",
       "      <td>0.0</td>\n",
       "      <td>0.0</td>\n",
       "      <td>0.0</td>\n",
       "      <td>0.0</td>\n",
       "      <td>0.0</td>\n",
       "    </tr>\n",
       "    <tr>\n",
       "      <th>8</th>\n",
       "      <td>1.0</td>\n",
       "      <td>0.0</td>\n",
       "      <td>3.0</td>\n",
       "      <td>0.0</td>\n",
       "      <td>1.0</td>\n",
       "      <td>0.0</td>\n",
       "      <td>25.400000</td>\n",
       "      <td>17.900000</td>\n",
       "      <td>22.500000</td>\n",
       "      <td>16.800000</td>\n",
       "      <td>...</td>\n",
       "      <td>0.0</td>\n",
       "      <td>0.0</td>\n",
       "      <td>0.0</td>\n",
       "      <td>0.0</td>\n",
       "      <td>0.0</td>\n",
       "      <td>0.0</td>\n",
       "      <td>0.0</td>\n",
       "      <td>0.0</td>\n",
       "      <td>0.0</td>\n",
       "      <td>1.0</td>\n",
       "    </tr>\n",
       "    <tr>\n",
       "      <th>9</th>\n",
       "      <td>2.0</td>\n",
       "      <td>0.0</td>\n",
       "      <td>3.0</td>\n",
       "      <td>1.0</td>\n",
       "      <td>0.0</td>\n",
       "      <td>0.0</td>\n",
       "      <td>5.428571</td>\n",
       "      <td>4.142857</td>\n",
       "      <td>12.285714</td>\n",
       "      <td>9.142857</td>\n",
       "      <td>...</td>\n",
       "      <td>0.0</td>\n",
       "      <td>0.0</td>\n",
       "      <td>0.0</td>\n",
       "      <td>0.0</td>\n",
       "      <td>1.0</td>\n",
       "      <td>0.0</td>\n",
       "      <td>0.0</td>\n",
       "      <td>0.0</td>\n",
       "      <td>0.0</td>\n",
       "      <td>0.0</td>\n",
       "    </tr>\n",
       "    <tr>\n",
       "      <th>10</th>\n",
       "      <td>1.0</td>\n",
       "      <td>0.0</td>\n",
       "      <td>3.0</td>\n",
       "      <td>0.0</td>\n",
       "      <td>2.0</td>\n",
       "      <td>0.0</td>\n",
       "      <td>21.875000</td>\n",
       "      <td>13.000000</td>\n",
       "      <td>14.875000</td>\n",
       "      <td>10.250000</td>\n",
       "      <td>...</td>\n",
       "      <td>0.0</td>\n",
       "      <td>0.0</td>\n",
       "      <td>0.0</td>\n",
       "      <td>0.0</td>\n",
       "      <td>0.0</td>\n",
       "      <td>0.0</td>\n",
       "      <td>0.0</td>\n",
       "      <td>0.0</td>\n",
       "      <td>1.0</td>\n",
       "      <td>0.0</td>\n",
       "    </tr>\n",
       "    <tr>\n",
       "      <th>11</th>\n",
       "      <td>2.0</td>\n",
       "      <td>0.0</td>\n",
       "      <td>5.0</td>\n",
       "      <td>1.0</td>\n",
       "      <td>0.0</td>\n",
       "      <td>0.0</td>\n",
       "      <td>9.272727</td>\n",
       "      <td>6.181818</td>\n",
       "      <td>6.818182</td>\n",
       "      <td>5.272727</td>\n",
       "      <td>...</td>\n",
       "      <td>0.0</td>\n",
       "      <td>0.0</td>\n",
       "      <td>1.0</td>\n",
       "      <td>0.0</td>\n",
       "      <td>0.0</td>\n",
       "      <td>0.0</td>\n",
       "      <td>0.0</td>\n",
       "      <td>0.0</td>\n",
       "      <td>0.0</td>\n",
       "      <td>0.0</td>\n",
       "    </tr>\n",
       "    <tr>\n",
       "      <th>12</th>\n",
       "      <td>2.0</td>\n",
       "      <td>0.0</td>\n",
       "      <td>3.0</td>\n",
       "      <td>0.0</td>\n",
       "      <td>3.0</td>\n",
       "      <td>0.0</td>\n",
       "      <td>10.333333</td>\n",
       "      <td>8.333333</td>\n",
       "      <td>6.666667</td>\n",
       "      <td>4.666667</td>\n",
       "      <td>...</td>\n",
       "      <td>0.0</td>\n",
       "      <td>0.0</td>\n",
       "      <td>1.0</td>\n",
       "      <td>0.0</td>\n",
       "      <td>0.0</td>\n",
       "      <td>0.0</td>\n",
       "      <td>0.0</td>\n",
       "      <td>0.0</td>\n",
       "      <td>0.0</td>\n",
       "      <td>0.0</td>\n",
       "    </tr>\n",
       "    <tr>\n",
       "      <th>13</th>\n",
       "      <td>1.0</td>\n",
       "      <td>0.0</td>\n",
       "      <td>3.0</td>\n",
       "      <td>0.0</td>\n",
       "      <td>1.0</td>\n",
       "      <td>0.0</td>\n",
       "      <td>2.500000</td>\n",
       "      <td>1.000000</td>\n",
       "      <td>5.000000</td>\n",
       "      <td>2.500000</td>\n",
       "      <td>...</td>\n",
       "      <td>0.0</td>\n",
       "      <td>0.0</td>\n",
       "      <td>0.0</td>\n",
       "      <td>0.0</td>\n",
       "      <td>0.0</td>\n",
       "      <td>0.0</td>\n",
       "      <td>0.0</td>\n",
       "      <td>0.0</td>\n",
       "      <td>0.0</td>\n",
       "      <td>0.0</td>\n",
       "    </tr>\n",
       "    <tr>\n",
       "      <th>14</th>\n",
       "      <td>2.0</td>\n",
       "      <td>0.0</td>\n",
       "      <td>3.0</td>\n",
       "      <td>0.0</td>\n",
       "      <td>1.0</td>\n",
       "      <td>0.0</td>\n",
       "      <td>7.000000</td>\n",
       "      <td>4.200000</td>\n",
       "      <td>4.600000</td>\n",
       "      <td>2.600000</td>\n",
       "      <td>...</td>\n",
       "      <td>0.0</td>\n",
       "      <td>0.0</td>\n",
       "      <td>0.0</td>\n",
       "      <td>1.0</td>\n",
       "      <td>0.0</td>\n",
       "      <td>0.0</td>\n",
       "      <td>0.0</td>\n",
       "      <td>0.0</td>\n",
       "      <td>0.0</td>\n",
       "      <td>0.0</td>\n",
       "    </tr>\n",
       "    <tr>\n",
       "      <th>15</th>\n",
       "      <td>2.0</td>\n",
       "      <td>0.0</td>\n",
       "      <td>3.0</td>\n",
       "      <td>1.0</td>\n",
       "      <td>0.0</td>\n",
       "      <td>0.0</td>\n",
       "      <td>26.000000</td>\n",
       "      <td>22.200000</td>\n",
       "      <td>30.200000</td>\n",
       "      <td>24.800000</td>\n",
       "      <td>...</td>\n",
       "      <td>0.0</td>\n",
       "      <td>0.0</td>\n",
       "      <td>0.0</td>\n",
       "      <td>0.0</td>\n",
       "      <td>0.0</td>\n",
       "      <td>0.0</td>\n",
       "      <td>1.0</td>\n",
       "      <td>0.0</td>\n",
       "      <td>0.0</td>\n",
       "      <td>0.0</td>\n",
       "    </tr>\n",
       "    <tr>\n",
       "      <th>16</th>\n",
       "      <td>2.0</td>\n",
       "      <td>0.0</td>\n",
       "      <td>3.0</td>\n",
       "      <td>0.0</td>\n",
       "      <td>4.0</td>\n",
       "      <td>0.0</td>\n",
       "      <td>9.666667</td>\n",
       "      <td>5.166667</td>\n",
       "      <td>2.000000</td>\n",
       "      <td>1.000000</td>\n",
       "      <td>...</td>\n",
       "      <td>0.0</td>\n",
       "      <td>0.0</td>\n",
       "      <td>0.0</td>\n",
       "      <td>1.0</td>\n",
       "      <td>0.0</td>\n",
       "      <td>0.0</td>\n",
       "      <td>0.0</td>\n",
       "      <td>0.0</td>\n",
       "      <td>0.0</td>\n",
       "      <td>0.0</td>\n",
       "    </tr>\n",
       "    <tr>\n",
       "      <th>17</th>\n",
       "      <td>2.0</td>\n",
       "      <td>0.0</td>\n",
       "      <td>3.0</td>\n",
       "      <td>2.0</td>\n",
       "      <td>0.0</td>\n",
       "      <td>0.0</td>\n",
       "      <td>21.666667</td>\n",
       "      <td>17.666667</td>\n",
       "      <td>13.333333</td>\n",
       "      <td>10.333333</td>\n",
       "      <td>...</td>\n",
       "      <td>0.0</td>\n",
       "      <td>0.0</td>\n",
       "      <td>0.0</td>\n",
       "      <td>1.0</td>\n",
       "      <td>0.0</td>\n",
       "      <td>0.0</td>\n",
       "      <td>0.0</td>\n",
       "      <td>0.0</td>\n",
       "      <td>0.0</td>\n",
       "      <td>0.0</td>\n",
       "    </tr>\n",
       "    <tr>\n",
       "      <th>18</th>\n",
       "      <td>2.0</td>\n",
       "      <td>0.0</td>\n",
       "      <td>3.0</td>\n",
       "      <td>1.0</td>\n",
       "      <td>0.0</td>\n",
       "      <td>0.0</td>\n",
       "      <td>9.500000</td>\n",
       "      <td>7.166667</td>\n",
       "      <td>12.166667</td>\n",
       "      <td>9.000000</td>\n",
       "      <td>...</td>\n",
       "      <td>0.0</td>\n",
       "      <td>0.0</td>\n",
       "      <td>1.0</td>\n",
       "      <td>0.0</td>\n",
       "      <td>0.0</td>\n",
       "      <td>0.0</td>\n",
       "      <td>0.0</td>\n",
       "      <td>0.0</td>\n",
       "      <td>0.0</td>\n",
       "      <td>0.0</td>\n",
       "    </tr>\n",
       "    <tr>\n",
       "      <th>19</th>\n",
       "      <td>1.0</td>\n",
       "      <td>0.0</td>\n",
       "      <td>5.0</td>\n",
       "      <td>1.0</td>\n",
       "      <td>0.0</td>\n",
       "      <td>0.0</td>\n",
       "      <td>12.714286</td>\n",
       "      <td>9.714286</td>\n",
       "      <td>6.142857</td>\n",
       "      <td>4.714286</td>\n",
       "      <td>...</td>\n",
       "      <td>0.0</td>\n",
       "      <td>0.0</td>\n",
       "      <td>0.0</td>\n",
       "      <td>0.0</td>\n",
       "      <td>0.0</td>\n",
       "      <td>1.0</td>\n",
       "      <td>0.0</td>\n",
       "      <td>0.0</td>\n",
       "      <td>0.0</td>\n",
       "      <td>0.0</td>\n",
       "    </tr>\n",
       "    <tr>\n",
       "      <th>20</th>\n",
       "      <td>2.0</td>\n",
       "      <td>0.0</td>\n",
       "      <td>3.0</td>\n",
       "      <td>0.0</td>\n",
       "      <td>1.0</td>\n",
       "      <td>0.0</td>\n",
       "      <td>10.000000</td>\n",
       "      <td>10.000000</td>\n",
       "      <td>21.000000</td>\n",
       "      <td>14.000000</td>\n",
       "      <td>...</td>\n",
       "      <td>0.0</td>\n",
       "      <td>0.0</td>\n",
       "      <td>0.0</td>\n",
       "      <td>0.0</td>\n",
       "      <td>1.0</td>\n",
       "      <td>0.0</td>\n",
       "      <td>0.0</td>\n",
       "      <td>0.0</td>\n",
       "      <td>0.0</td>\n",
       "      <td>0.0</td>\n",
       "    </tr>\n",
       "    <tr>\n",
       "      <th>21</th>\n",
       "      <td>1.0</td>\n",
       "      <td>0.0</td>\n",
       "      <td>3.0</td>\n",
       "      <td>0.0</td>\n",
       "      <td>2.0</td>\n",
       "      <td>0.0</td>\n",
       "      <td>13.181818</td>\n",
       "      <td>10.590909</td>\n",
       "      <td>13.227273</td>\n",
       "      <td>8.863636</td>\n",
       "      <td>...</td>\n",
       "      <td>0.0</td>\n",
       "      <td>0.0</td>\n",
       "      <td>0.0</td>\n",
       "      <td>1.0</td>\n",
       "      <td>0.0</td>\n",
       "      <td>0.0</td>\n",
       "      <td>0.0</td>\n",
       "      <td>0.0</td>\n",
       "      <td>0.0</td>\n",
       "      <td>0.0</td>\n",
       "    </tr>\n",
       "    <tr>\n",
       "      <th>22</th>\n",
       "      <td>2.0</td>\n",
       "      <td>0.0</td>\n",
       "      <td>3.0</td>\n",
       "      <td>0.0</td>\n",
       "      <td>1.0</td>\n",
       "      <td>0.0</td>\n",
       "      <td>5.000000</td>\n",
       "      <td>2.000000</td>\n",
       "      <td>12.000000</td>\n",
       "      <td>5.000000</td>\n",
       "      <td>...</td>\n",
       "      <td>0.0</td>\n",
       "      <td>0.0</td>\n",
       "      <td>0.0</td>\n",
       "      <td>0.0</td>\n",
       "      <td>0.0</td>\n",
       "      <td>0.0</td>\n",
       "      <td>0.0</td>\n",
       "      <td>0.0</td>\n",
       "      <td>0.0</td>\n",
       "      <td>0.0</td>\n",
       "    </tr>\n",
       "    <tr>\n",
       "      <th>23</th>\n",
       "      <td>2.0</td>\n",
       "      <td>0.0</td>\n",
       "      <td>3.0</td>\n",
       "      <td>3.0</td>\n",
       "      <td>0.0</td>\n",
       "      <td>0.0</td>\n",
       "      <td>9.666667</td>\n",
       "      <td>7.952381</td>\n",
       "      <td>10.952381</td>\n",
       "      <td>7.857143</td>\n",
       "      <td>...</td>\n",
       "      <td>0.0</td>\n",
       "      <td>0.0</td>\n",
       "      <td>1.0</td>\n",
       "      <td>0.0</td>\n",
       "      <td>0.0</td>\n",
       "      <td>0.0</td>\n",
       "      <td>0.0</td>\n",
       "      <td>0.0</td>\n",
       "      <td>0.0</td>\n",
       "      <td>0.0</td>\n",
       "    </tr>\n",
       "    <tr>\n",
       "      <th>24</th>\n",
       "      <td>1.0</td>\n",
       "      <td>0.0</td>\n",
       "      <td>3.0</td>\n",
       "      <td>0.0</td>\n",
       "      <td>2.0</td>\n",
       "      <td>0.0</td>\n",
       "      <td>7.000000</td>\n",
       "      <td>6.000000</td>\n",
       "      <td>2.500000</td>\n",
       "      <td>2.500000</td>\n",
       "      <td>...</td>\n",
       "      <td>0.0</td>\n",
       "      <td>0.0</td>\n",
       "      <td>0.0</td>\n",
       "      <td>0.0</td>\n",
       "      <td>1.0</td>\n",
       "      <td>0.0</td>\n",
       "      <td>0.0</td>\n",
       "      <td>0.0</td>\n",
       "      <td>0.0</td>\n",
       "      <td>0.0</td>\n",
       "    </tr>\n",
       "    <tr>\n",
       "      <th>25</th>\n",
       "      <td>1.0</td>\n",
       "      <td>0.0</td>\n",
       "      <td>3.0</td>\n",
       "      <td>3.0</td>\n",
       "      <td>0.0</td>\n",
       "      <td>0.0</td>\n",
       "      <td>15.750000</td>\n",
       "      <td>11.750000</td>\n",
       "      <td>11.250000</td>\n",
       "      <td>8.000000</td>\n",
       "      <td>...</td>\n",
       "      <td>0.0</td>\n",
       "      <td>0.0</td>\n",
       "      <td>0.0</td>\n",
       "      <td>0.0</td>\n",
       "      <td>0.0</td>\n",
       "      <td>0.0</td>\n",
       "      <td>0.0</td>\n",
       "      <td>0.0</td>\n",
       "      <td>0.0</td>\n",
       "      <td>0.0</td>\n",
       "    </tr>\n",
       "    <tr>\n",
       "      <th>26</th>\n",
       "      <td>2.0</td>\n",
       "      <td>1.0</td>\n",
       "      <td>5.0</td>\n",
       "      <td>0.0</td>\n",
       "      <td>3.0</td>\n",
       "      <td>0.0</td>\n",
       "      <td>24.285714</td>\n",
       "      <td>18.285714</td>\n",
       "      <td>26.642857</td>\n",
       "      <td>16.285714</td>\n",
       "      <td>...</td>\n",
       "      <td>0.0</td>\n",
       "      <td>0.0</td>\n",
       "      <td>0.0</td>\n",
       "      <td>0.0</td>\n",
       "      <td>0.0</td>\n",
       "      <td>0.0</td>\n",
       "      <td>0.0</td>\n",
       "      <td>0.0</td>\n",
       "      <td>0.0</td>\n",
       "      <td>1.0</td>\n",
       "    </tr>\n",
       "    <tr>\n",
       "      <th>27</th>\n",
       "      <td>1.0</td>\n",
       "      <td>0.0</td>\n",
       "      <td>3.0</td>\n",
       "      <td>1.0</td>\n",
       "      <td>0.0</td>\n",
       "      <td>0.0</td>\n",
       "      <td>8.652174</td>\n",
       "      <td>6.956522</td>\n",
       "      <td>6.217391</td>\n",
       "      <td>5.217391</td>\n",
       "      <td>...</td>\n",
       "      <td>0.0</td>\n",
       "      <td>0.0</td>\n",
       "      <td>0.0</td>\n",
       "      <td>0.0</td>\n",
       "      <td>1.0</td>\n",
       "      <td>0.0</td>\n",
       "      <td>0.0</td>\n",
       "      <td>0.0</td>\n",
       "      <td>0.0</td>\n",
       "      <td>0.0</td>\n",
       "    </tr>\n",
       "    <tr>\n",
       "      <th>28</th>\n",
       "      <td>2.0</td>\n",
       "      <td>0.0</td>\n",
       "      <td>3.0</td>\n",
       "      <td>0.0</td>\n",
       "      <td>6.0</td>\n",
       "      <td>0.0</td>\n",
       "      <td>11.833333</td>\n",
       "      <td>8.833333</td>\n",
       "      <td>14.833333</td>\n",
       "      <td>10.500000</td>\n",
       "      <td>...</td>\n",
       "      <td>0.0</td>\n",
       "      <td>0.0</td>\n",
       "      <td>0.0</td>\n",
       "      <td>0.0</td>\n",
       "      <td>0.0</td>\n",
       "      <td>0.0</td>\n",
       "      <td>0.0</td>\n",
       "      <td>0.0</td>\n",
       "      <td>0.0</td>\n",
       "      <td>0.0</td>\n",
       "    </tr>\n",
       "    <tr>\n",
       "      <th>29</th>\n",
       "      <td>2.0</td>\n",
       "      <td>0.0</td>\n",
       "      <td>3.0</td>\n",
       "      <td>0.0</td>\n",
       "      <td>1.0</td>\n",
       "      <td>0.0</td>\n",
       "      <td>29.000000</td>\n",
       "      <td>15.000000</td>\n",
       "      <td>5.000000</td>\n",
       "      <td>3.000000</td>\n",
       "      <td>...</td>\n",
       "      <td>0.0</td>\n",
       "      <td>0.0</td>\n",
       "      <td>0.0</td>\n",
       "      <td>0.0</td>\n",
       "      <td>0.0</td>\n",
       "      <td>1.0</td>\n",
       "      <td>0.0</td>\n",
       "      <td>0.0</td>\n",
       "      <td>0.0</td>\n",
       "      <td>0.0</td>\n",
       "    </tr>\n",
       "    <tr>\n",
       "      <th>...</th>\n",
       "      <td>...</td>\n",
       "      <td>...</td>\n",
       "      <td>...</td>\n",
       "      <td>...</td>\n",
       "      <td>...</td>\n",
       "      <td>...</td>\n",
       "      <td>...</td>\n",
       "      <td>...</td>\n",
       "      <td>...</td>\n",
       "      <td>...</td>\n",
       "      <td>...</td>\n",
       "      <td>...</td>\n",
       "      <td>...</td>\n",
       "      <td>...</td>\n",
       "      <td>...</td>\n",
       "      <td>...</td>\n",
       "      <td>...</td>\n",
       "      <td>...</td>\n",
       "      <td>...</td>\n",
       "      <td>...</td>\n",
       "      <td>...</td>\n",
       "    </tr>\n",
       "    <tr>\n",
       "      <th>3185</th>\n",
       "      <td>1.0</td>\n",
       "      <td>1.0</td>\n",
       "      <td>5.0</td>\n",
       "      <td>0.0</td>\n",
       "      <td>6.0</td>\n",
       "      <td>0.0</td>\n",
       "      <td>6.333333</td>\n",
       "      <td>6.222222</td>\n",
       "      <td>1.000000</td>\n",
       "      <td>0.666667</td>\n",
       "      <td>...</td>\n",
       "      <td>0.0</td>\n",
       "      <td>0.0</td>\n",
       "      <td>0.0</td>\n",
       "      <td>0.0</td>\n",
       "      <td>0.0</td>\n",
       "      <td>1.0</td>\n",
       "      <td>0.0</td>\n",
       "      <td>0.0</td>\n",
       "      <td>0.0</td>\n",
       "      <td>0.0</td>\n",
       "    </tr>\n",
       "    <tr>\n",
       "      <th>3186</th>\n",
       "      <td>1.0</td>\n",
       "      <td>0.0</td>\n",
       "      <td>3.0</td>\n",
       "      <td>0.0</td>\n",
       "      <td>2.0</td>\n",
       "      <td>0.0</td>\n",
       "      <td>2.500000</td>\n",
       "      <td>2.500000</td>\n",
       "      <td>10.000000</td>\n",
       "      <td>6.500000</td>\n",
       "      <td>...</td>\n",
       "      <td>0.0</td>\n",
       "      <td>0.0</td>\n",
       "      <td>0.0</td>\n",
       "      <td>1.0</td>\n",
       "      <td>0.0</td>\n",
       "      <td>0.0</td>\n",
       "      <td>0.0</td>\n",
       "      <td>0.0</td>\n",
       "      <td>0.0</td>\n",
       "      <td>0.0</td>\n",
       "    </tr>\n",
       "    <tr>\n",
       "      <th>3187</th>\n",
       "      <td>1.0</td>\n",
       "      <td>0.0</td>\n",
       "      <td>3.0</td>\n",
       "      <td>1.0</td>\n",
       "      <td>0.0</td>\n",
       "      <td>0.0</td>\n",
       "      <td>12.400000</td>\n",
       "      <td>12.200000</td>\n",
       "      <td>12.200000</td>\n",
       "      <td>8.200000</td>\n",
       "      <td>...</td>\n",
       "      <td>0.0</td>\n",
       "      <td>0.0</td>\n",
       "      <td>0.0</td>\n",
       "      <td>0.0</td>\n",
       "      <td>1.0</td>\n",
       "      <td>0.0</td>\n",
       "      <td>0.0</td>\n",
       "      <td>0.0</td>\n",
       "      <td>0.0</td>\n",
       "      <td>0.0</td>\n",
       "    </tr>\n",
       "    <tr>\n",
       "      <th>3188</th>\n",
       "      <td>1.0</td>\n",
       "      <td>0.0</td>\n",
       "      <td>3.0</td>\n",
       "      <td>1.0</td>\n",
       "      <td>0.0</td>\n",
       "      <td>0.0</td>\n",
       "      <td>2.000000</td>\n",
       "      <td>2.000000</td>\n",
       "      <td>0.000000</td>\n",
       "      <td>0.000000</td>\n",
       "      <td>...</td>\n",
       "      <td>0.0</td>\n",
       "      <td>0.0</td>\n",
       "      <td>0.0</td>\n",
       "      <td>0.0</td>\n",
       "      <td>0.0</td>\n",
       "      <td>1.0</td>\n",
       "      <td>0.0</td>\n",
       "      <td>0.0</td>\n",
       "      <td>0.0</td>\n",
       "      <td>0.0</td>\n",
       "    </tr>\n",
       "    <tr>\n",
       "      <th>3189</th>\n",
       "      <td>1.0</td>\n",
       "      <td>1.0</td>\n",
       "      <td>5.0</td>\n",
       "      <td>0.0</td>\n",
       "      <td>6.0</td>\n",
       "      <td>0.0</td>\n",
       "      <td>3.181818</td>\n",
       "      <td>2.636364</td>\n",
       "      <td>11.000000</td>\n",
       "      <td>7.727273</td>\n",
       "      <td>...</td>\n",
       "      <td>0.0</td>\n",
       "      <td>0.0</td>\n",
       "      <td>1.0</td>\n",
       "      <td>0.0</td>\n",
       "      <td>0.0</td>\n",
       "      <td>0.0</td>\n",
       "      <td>0.0</td>\n",
       "      <td>0.0</td>\n",
       "      <td>0.0</td>\n",
       "      <td>0.0</td>\n",
       "    </tr>\n",
       "    <tr>\n",
       "      <th>3190</th>\n",
       "      <td>1.0</td>\n",
       "      <td>0.0</td>\n",
       "      <td>3.0</td>\n",
       "      <td>0.0</td>\n",
       "      <td>2.0</td>\n",
       "      <td>0.0</td>\n",
       "      <td>4.500000</td>\n",
       "      <td>3.500000</td>\n",
       "      <td>6.750000</td>\n",
       "      <td>5.750000</td>\n",
       "      <td>...</td>\n",
       "      <td>0.0</td>\n",
       "      <td>1.0</td>\n",
       "      <td>0.0</td>\n",
       "      <td>0.0</td>\n",
       "      <td>0.0</td>\n",
       "      <td>0.0</td>\n",
       "      <td>0.0</td>\n",
       "      <td>0.0</td>\n",
       "      <td>0.0</td>\n",
       "      <td>0.0</td>\n",
       "    </tr>\n",
       "    <tr>\n",
       "      <th>3191</th>\n",
       "      <td>1.0</td>\n",
       "      <td>0.0</td>\n",
       "      <td>3.0</td>\n",
       "      <td>1.0</td>\n",
       "      <td>0.0</td>\n",
       "      <td>0.0</td>\n",
       "      <td>5.000000</td>\n",
       "      <td>4.000000</td>\n",
       "      <td>7.166667</td>\n",
       "      <td>5.666667</td>\n",
       "      <td>...</td>\n",
       "      <td>0.0</td>\n",
       "      <td>0.0</td>\n",
       "      <td>0.0</td>\n",
       "      <td>1.0</td>\n",
       "      <td>0.0</td>\n",
       "      <td>0.0</td>\n",
       "      <td>0.0</td>\n",
       "      <td>0.0</td>\n",
       "      <td>0.0</td>\n",
       "      <td>0.0</td>\n",
       "    </tr>\n",
       "    <tr>\n",
       "      <th>3192</th>\n",
       "      <td>1.0</td>\n",
       "      <td>1.0</td>\n",
       "      <td>5.0</td>\n",
       "      <td>0.0</td>\n",
       "      <td>7.0</td>\n",
       "      <td>0.0</td>\n",
       "      <td>3.333333</td>\n",
       "      <td>2.111111</td>\n",
       "      <td>9.222222</td>\n",
       "      <td>6.111111</td>\n",
       "      <td>...</td>\n",
       "      <td>0.0</td>\n",
       "      <td>0.0</td>\n",
       "      <td>1.0</td>\n",
       "      <td>0.0</td>\n",
       "      <td>0.0</td>\n",
       "      <td>0.0</td>\n",
       "      <td>0.0</td>\n",
       "      <td>0.0</td>\n",
       "      <td>0.0</td>\n",
       "      <td>0.0</td>\n",
       "    </tr>\n",
       "    <tr>\n",
       "      <th>3193</th>\n",
       "      <td>1.0</td>\n",
       "      <td>1.0</td>\n",
       "      <td>5.0</td>\n",
       "      <td>0.0</td>\n",
       "      <td>3.0</td>\n",
       "      <td>0.0</td>\n",
       "      <td>0.333333</td>\n",
       "      <td>0.333333</td>\n",
       "      <td>2.333333</td>\n",
       "      <td>2.000000</td>\n",
       "      <td>...</td>\n",
       "      <td>0.0</td>\n",
       "      <td>0.0</td>\n",
       "      <td>0.0</td>\n",
       "      <td>0.0</td>\n",
       "      <td>0.0</td>\n",
       "      <td>1.0</td>\n",
       "      <td>0.0</td>\n",
       "      <td>0.0</td>\n",
       "      <td>0.0</td>\n",
       "      <td>0.0</td>\n",
       "    </tr>\n",
       "    <tr>\n",
       "      <th>3194</th>\n",
       "      <td>3.0</td>\n",
       "      <td>1.0</td>\n",
       "      <td>5.0</td>\n",
       "      <td>0.0</td>\n",
       "      <td>2.0</td>\n",
       "      <td>0.0</td>\n",
       "      <td>2.800000</td>\n",
       "      <td>2.400000</td>\n",
       "      <td>5.600000</td>\n",
       "      <td>4.000000</td>\n",
       "      <td>...</td>\n",
       "      <td>0.0</td>\n",
       "      <td>0.0</td>\n",
       "      <td>0.0</td>\n",
       "      <td>1.0</td>\n",
       "      <td>0.0</td>\n",
       "      <td>0.0</td>\n",
       "      <td>0.0</td>\n",
       "      <td>0.0</td>\n",
       "      <td>0.0</td>\n",
       "      <td>0.0</td>\n",
       "    </tr>\n",
       "    <tr>\n",
       "      <th>3195</th>\n",
       "      <td>1.0</td>\n",
       "      <td>0.0</td>\n",
       "      <td>3.0</td>\n",
       "      <td>0.0</td>\n",
       "      <td>2.0</td>\n",
       "      <td>0.0</td>\n",
       "      <td>8.250000</td>\n",
       "      <td>8.000000</td>\n",
       "      <td>6.750000</td>\n",
       "      <td>4.750000</td>\n",
       "      <td>...</td>\n",
       "      <td>0.0</td>\n",
       "      <td>0.0</td>\n",
       "      <td>0.0</td>\n",
       "      <td>0.0</td>\n",
       "      <td>1.0</td>\n",
       "      <td>0.0</td>\n",
       "      <td>0.0</td>\n",
       "      <td>0.0</td>\n",
       "      <td>0.0</td>\n",
       "      <td>0.0</td>\n",
       "    </tr>\n",
       "    <tr>\n",
       "      <th>3196</th>\n",
       "      <td>1.0</td>\n",
       "      <td>1.0</td>\n",
       "      <td>5.0</td>\n",
       "      <td>0.0</td>\n",
       "      <td>1.0</td>\n",
       "      <td>0.0</td>\n",
       "      <td>2.100000</td>\n",
       "      <td>1.800000</td>\n",
       "      <td>1.100000</td>\n",
       "      <td>0.900000</td>\n",
       "      <td>...</td>\n",
       "      <td>0.0</td>\n",
       "      <td>0.0</td>\n",
       "      <td>1.0</td>\n",
       "      <td>0.0</td>\n",
       "      <td>0.0</td>\n",
       "      <td>0.0</td>\n",
       "      <td>0.0</td>\n",
       "      <td>0.0</td>\n",
       "      <td>0.0</td>\n",
       "      <td>0.0</td>\n",
       "    </tr>\n",
       "    <tr>\n",
       "      <th>3197</th>\n",
       "      <td>1.0</td>\n",
       "      <td>0.0</td>\n",
       "      <td>3.0</td>\n",
       "      <td>0.0</td>\n",
       "      <td>1.0</td>\n",
       "      <td>0.0</td>\n",
       "      <td>1.000000</td>\n",
       "      <td>1.000000</td>\n",
       "      <td>0.333333</td>\n",
       "      <td>0.333333</td>\n",
       "      <td>...</td>\n",
       "      <td>0.0</td>\n",
       "      <td>0.0</td>\n",
       "      <td>1.0</td>\n",
       "      <td>0.0</td>\n",
       "      <td>0.0</td>\n",
       "      <td>0.0</td>\n",
       "      <td>0.0</td>\n",
       "      <td>0.0</td>\n",
       "      <td>0.0</td>\n",
       "      <td>0.0</td>\n",
       "    </tr>\n",
       "    <tr>\n",
       "      <th>3198</th>\n",
       "      <td>1.0</td>\n",
       "      <td>0.0</td>\n",
       "      <td>3.0</td>\n",
       "      <td>0.0</td>\n",
       "      <td>2.0</td>\n",
       "      <td>0.0</td>\n",
       "      <td>2.333333</td>\n",
       "      <td>2.000000</td>\n",
       "      <td>1.333333</td>\n",
       "      <td>1.000000</td>\n",
       "      <td>...</td>\n",
       "      <td>0.0</td>\n",
       "      <td>0.0</td>\n",
       "      <td>0.0</td>\n",
       "      <td>1.0</td>\n",
       "      <td>0.0</td>\n",
       "      <td>0.0</td>\n",
       "      <td>0.0</td>\n",
       "      <td>0.0</td>\n",
       "      <td>0.0</td>\n",
       "      <td>0.0</td>\n",
       "    </tr>\n",
       "    <tr>\n",
       "      <th>3199</th>\n",
       "      <td>1.0</td>\n",
       "      <td>0.0</td>\n",
       "      <td>3.0</td>\n",
       "      <td>2.0</td>\n",
       "      <td>0.0</td>\n",
       "      <td>0.0</td>\n",
       "      <td>1.333333</td>\n",
       "      <td>1.000000</td>\n",
       "      <td>1.000000</td>\n",
       "      <td>0.666667</td>\n",
       "      <td>...</td>\n",
       "      <td>0.0</td>\n",
       "      <td>0.0</td>\n",
       "      <td>1.0</td>\n",
       "      <td>0.0</td>\n",
       "      <td>0.0</td>\n",
       "      <td>0.0</td>\n",
       "      <td>0.0</td>\n",
       "      <td>0.0</td>\n",
       "      <td>0.0</td>\n",
       "      <td>0.0</td>\n",
       "    </tr>\n",
       "    <tr>\n",
       "      <th>3200</th>\n",
       "      <td>1.0</td>\n",
       "      <td>0.0</td>\n",
       "      <td>3.0</td>\n",
       "      <td>0.0</td>\n",
       "      <td>2.0</td>\n",
       "      <td>0.0</td>\n",
       "      <td>0.333333</td>\n",
       "      <td>0.333333</td>\n",
       "      <td>5.666667</td>\n",
       "      <td>2.833333</td>\n",
       "      <td>...</td>\n",
       "      <td>0.0</td>\n",
       "      <td>0.0</td>\n",
       "      <td>1.0</td>\n",
       "      <td>0.0</td>\n",
       "      <td>0.0</td>\n",
       "      <td>0.0</td>\n",
       "      <td>0.0</td>\n",
       "      <td>0.0</td>\n",
       "      <td>0.0</td>\n",
       "      <td>0.0</td>\n",
       "    </tr>\n",
       "    <tr>\n",
       "      <th>3201</th>\n",
       "      <td>1.0</td>\n",
       "      <td>0.0</td>\n",
       "      <td>3.0</td>\n",
       "      <td>1.0</td>\n",
       "      <td>0.0</td>\n",
       "      <td>0.0</td>\n",
       "      <td>4.000000</td>\n",
       "      <td>4.000000</td>\n",
       "      <td>6.000000</td>\n",
       "      <td>6.000000</td>\n",
       "      <td>...</td>\n",
       "      <td>0.0</td>\n",
       "      <td>0.0</td>\n",
       "      <td>0.0</td>\n",
       "      <td>1.0</td>\n",
       "      <td>0.0</td>\n",
       "      <td>0.0</td>\n",
       "      <td>0.0</td>\n",
       "      <td>0.0</td>\n",
       "      <td>0.0</td>\n",
       "      <td>0.0</td>\n",
       "    </tr>\n",
       "    <tr>\n",
       "      <th>3202</th>\n",
       "      <td>1.0</td>\n",
       "      <td>1.0</td>\n",
       "      <td>5.0</td>\n",
       "      <td>0.0</td>\n",
       "      <td>7.0</td>\n",
       "      <td>0.0</td>\n",
       "      <td>2.571429</td>\n",
       "      <td>2.285714</td>\n",
       "      <td>10.285714</td>\n",
       "      <td>8.571429</td>\n",
       "      <td>...</td>\n",
       "      <td>0.0</td>\n",
       "      <td>1.0</td>\n",
       "      <td>0.0</td>\n",
       "      <td>0.0</td>\n",
       "      <td>0.0</td>\n",
       "      <td>0.0</td>\n",
       "      <td>0.0</td>\n",
       "      <td>0.0</td>\n",
       "      <td>0.0</td>\n",
       "      <td>0.0</td>\n",
       "    </tr>\n",
       "    <tr>\n",
       "      <th>3203</th>\n",
       "      <td>1.0</td>\n",
       "      <td>0.0</td>\n",
       "      <td>3.0</td>\n",
       "      <td>1.0</td>\n",
       "      <td>0.0</td>\n",
       "      <td>0.0</td>\n",
       "      <td>1.000000</td>\n",
       "      <td>0.500000</td>\n",
       "      <td>0.000000</td>\n",
       "      <td>0.000000</td>\n",
       "      <td>...</td>\n",
       "      <td>0.0</td>\n",
       "      <td>0.0</td>\n",
       "      <td>1.0</td>\n",
       "      <td>0.0</td>\n",
       "      <td>0.0</td>\n",
       "      <td>0.0</td>\n",
       "      <td>0.0</td>\n",
       "      <td>0.0</td>\n",
       "      <td>0.0</td>\n",
       "      <td>0.0</td>\n",
       "    </tr>\n",
       "    <tr>\n",
       "      <th>3204</th>\n",
       "      <td>1.0</td>\n",
       "      <td>1.0</td>\n",
       "      <td>5.0</td>\n",
       "      <td>0.0</td>\n",
       "      <td>3.0</td>\n",
       "      <td>0.0</td>\n",
       "      <td>2.333333</td>\n",
       "      <td>2.333333</td>\n",
       "      <td>2.333333</td>\n",
       "      <td>2.333333</td>\n",
       "      <td>...</td>\n",
       "      <td>0.0</td>\n",
       "      <td>0.0</td>\n",
       "      <td>0.0</td>\n",
       "      <td>1.0</td>\n",
       "      <td>0.0</td>\n",
       "      <td>0.0</td>\n",
       "      <td>0.0</td>\n",
       "      <td>0.0</td>\n",
       "      <td>0.0</td>\n",
       "      <td>0.0</td>\n",
       "    </tr>\n",
       "    <tr>\n",
       "      <th>3205</th>\n",
       "      <td>1.0</td>\n",
       "      <td>0.0</td>\n",
       "      <td>3.0</td>\n",
       "      <td>0.0</td>\n",
       "      <td>1.0</td>\n",
       "      <td>0.0</td>\n",
       "      <td>2.500000</td>\n",
       "      <td>2.000000</td>\n",
       "      <td>5.500000</td>\n",
       "      <td>3.500000</td>\n",
       "      <td>...</td>\n",
       "      <td>0.0</td>\n",
       "      <td>0.0</td>\n",
       "      <td>0.0</td>\n",
       "      <td>1.0</td>\n",
       "      <td>0.0</td>\n",
       "      <td>0.0</td>\n",
       "      <td>0.0</td>\n",
       "      <td>0.0</td>\n",
       "      <td>0.0</td>\n",
       "      <td>0.0</td>\n",
       "    </tr>\n",
       "    <tr>\n",
       "      <th>3206</th>\n",
       "      <td>1.0</td>\n",
       "      <td>0.0</td>\n",
       "      <td>3.0</td>\n",
       "      <td>0.0</td>\n",
       "      <td>1.0</td>\n",
       "      <td>0.0</td>\n",
       "      <td>26.000000</td>\n",
       "      <td>26.000000</td>\n",
       "      <td>0.000000</td>\n",
       "      <td>0.000000</td>\n",
       "      <td>...</td>\n",
       "      <td>0.0</td>\n",
       "      <td>0.0</td>\n",
       "      <td>0.0</td>\n",
       "      <td>0.0</td>\n",
       "      <td>1.0</td>\n",
       "      <td>0.0</td>\n",
       "      <td>0.0</td>\n",
       "      <td>0.0</td>\n",
       "      <td>0.0</td>\n",
       "      <td>0.0</td>\n",
       "    </tr>\n",
       "    <tr>\n",
       "      <th>3207</th>\n",
       "      <td>1.0</td>\n",
       "      <td>1.0</td>\n",
       "      <td>5.0</td>\n",
       "      <td>0.0</td>\n",
       "      <td>1.0</td>\n",
       "      <td>0.0</td>\n",
       "      <td>6.000000</td>\n",
       "      <td>5.000000</td>\n",
       "      <td>1.000000</td>\n",
       "      <td>1.000000</td>\n",
       "      <td>...</td>\n",
       "      <td>0.0</td>\n",
       "      <td>0.0</td>\n",
       "      <td>1.0</td>\n",
       "      <td>0.0</td>\n",
       "      <td>0.0</td>\n",
       "      <td>0.0</td>\n",
       "      <td>0.0</td>\n",
       "      <td>0.0</td>\n",
       "      <td>0.0</td>\n",
       "      <td>0.0</td>\n",
       "    </tr>\n",
       "    <tr>\n",
       "      <th>3208</th>\n",
       "      <td>1.0</td>\n",
       "      <td>1.0</td>\n",
       "      <td>5.0</td>\n",
       "      <td>0.0</td>\n",
       "      <td>1.0</td>\n",
       "      <td>0.0</td>\n",
       "      <td>0.000000</td>\n",
       "      <td>0.000000</td>\n",
       "      <td>0.000000</td>\n",
       "      <td>0.000000</td>\n",
       "      <td>...</td>\n",
       "      <td>0.0</td>\n",
       "      <td>0.0</td>\n",
       "      <td>0.0</td>\n",
       "      <td>1.0</td>\n",
       "      <td>0.0</td>\n",
       "      <td>0.0</td>\n",
       "      <td>0.0</td>\n",
       "      <td>0.0</td>\n",
       "      <td>0.0</td>\n",
       "      <td>0.0</td>\n",
       "    </tr>\n",
       "    <tr>\n",
       "      <th>3209</th>\n",
       "      <td>1.0</td>\n",
       "      <td>1.0</td>\n",
       "      <td>5.0</td>\n",
       "      <td>0.0</td>\n",
       "      <td>1.0</td>\n",
       "      <td>0.0</td>\n",
       "      <td>1.000000</td>\n",
       "      <td>1.000000</td>\n",
       "      <td>0.000000</td>\n",
       "      <td>0.000000</td>\n",
       "      <td>...</td>\n",
       "      <td>0.0</td>\n",
       "      <td>0.0</td>\n",
       "      <td>1.0</td>\n",
       "      <td>0.0</td>\n",
       "      <td>0.0</td>\n",
       "      <td>0.0</td>\n",
       "      <td>0.0</td>\n",
       "      <td>0.0</td>\n",
       "      <td>0.0</td>\n",
       "      <td>0.0</td>\n",
       "    </tr>\n",
       "    <tr>\n",
       "      <th>3210</th>\n",
       "      <td>1.0</td>\n",
       "      <td>1.0</td>\n",
       "      <td>5.0</td>\n",
       "      <td>0.0</td>\n",
       "      <td>3.0</td>\n",
       "      <td>0.0</td>\n",
       "      <td>7.666667</td>\n",
       "      <td>6.666667</td>\n",
       "      <td>10.000000</td>\n",
       "      <td>7.000000</td>\n",
       "      <td>...</td>\n",
       "      <td>0.0</td>\n",
       "      <td>0.0</td>\n",
       "      <td>1.0</td>\n",
       "      <td>0.0</td>\n",
       "      <td>0.0</td>\n",
       "      <td>0.0</td>\n",
       "      <td>0.0</td>\n",
       "      <td>0.0</td>\n",
       "      <td>0.0</td>\n",
       "      <td>0.0</td>\n",
       "    </tr>\n",
       "    <tr>\n",
       "      <th>3211</th>\n",
       "      <td>1.0</td>\n",
       "      <td>0.0</td>\n",
       "      <td>3.0</td>\n",
       "      <td>0.0</td>\n",
       "      <td>1.0</td>\n",
       "      <td>0.0</td>\n",
       "      <td>12.000000</td>\n",
       "      <td>10.000000</td>\n",
       "      <td>6.000000</td>\n",
       "      <td>3.000000</td>\n",
       "      <td>...</td>\n",
       "      <td>0.0</td>\n",
       "      <td>0.0</td>\n",
       "      <td>0.0</td>\n",
       "      <td>0.0</td>\n",
       "      <td>1.0</td>\n",
       "      <td>0.0</td>\n",
       "      <td>0.0</td>\n",
       "      <td>0.0</td>\n",
       "      <td>0.0</td>\n",
       "      <td>0.0</td>\n",
       "    </tr>\n",
       "    <tr>\n",
       "      <th>3212</th>\n",
       "      <td>1.0</td>\n",
       "      <td>1.0</td>\n",
       "      <td>5.0</td>\n",
       "      <td>0.0</td>\n",
       "      <td>1.0</td>\n",
       "      <td>0.0</td>\n",
       "      <td>7.000000</td>\n",
       "      <td>6.500000</td>\n",
       "      <td>14.500000</td>\n",
       "      <td>12.000000</td>\n",
       "      <td>...</td>\n",
       "      <td>0.0</td>\n",
       "      <td>0.0</td>\n",
       "      <td>1.0</td>\n",
       "      <td>0.0</td>\n",
       "      <td>0.0</td>\n",
       "      <td>0.0</td>\n",
       "      <td>0.0</td>\n",
       "      <td>0.0</td>\n",
       "      <td>0.0</td>\n",
       "      <td>0.0</td>\n",
       "    </tr>\n",
       "    <tr>\n",
       "      <th>3213</th>\n",
       "      <td>1.0</td>\n",
       "      <td>0.0</td>\n",
       "      <td>2.0</td>\n",
       "      <td>0.0</td>\n",
       "      <td>1.0</td>\n",
       "      <td>0.0</td>\n",
       "      <td>9.000000</td>\n",
       "      <td>6.000000</td>\n",
       "      <td>36.000000</td>\n",
       "      <td>21.000000</td>\n",
       "      <td>...</td>\n",
       "      <td>0.0</td>\n",
       "      <td>0.0</td>\n",
       "      <td>0.0</td>\n",
       "      <td>0.0</td>\n",
       "      <td>1.0</td>\n",
       "      <td>0.0</td>\n",
       "      <td>0.0</td>\n",
       "      <td>0.0</td>\n",
       "      <td>0.0</td>\n",
       "      <td>0.0</td>\n",
       "    </tr>\n",
       "    <tr>\n",
       "      <th>3214</th>\n",
       "      <td>1.0</td>\n",
       "      <td>0.0</td>\n",
       "      <td>2.0</td>\n",
       "      <td>0.0</td>\n",
       "      <td>3.0</td>\n",
       "      <td>0.0</td>\n",
       "      <td>0.666667</td>\n",
       "      <td>0.666667</td>\n",
       "      <td>8.666667</td>\n",
       "      <td>4.000000</td>\n",
       "      <td>...</td>\n",
       "      <td>0.0</td>\n",
       "      <td>1.0</td>\n",
       "      <td>0.0</td>\n",
       "      <td>0.0</td>\n",
       "      <td>0.0</td>\n",
       "      <td>0.0</td>\n",
       "      <td>0.0</td>\n",
       "      <td>0.0</td>\n",
       "      <td>0.0</td>\n",
       "      <td>0.0</td>\n",
       "    </tr>\n",
       "  </tbody>\n",
       "</table>\n",
       "<p>3215 rows × 158 columns</p>\n",
       "</div>"
      ],
      "text/plain": [
       "      Winner  title_bout  no_of_rounds  B_current_lose_streak  \\\n",
       "0        1.0         1.0           5.0                    0.0   \n",
       "1        1.0         1.0           5.0                    0.0   \n",
       "2        1.0         0.0           3.0                    0.0   \n",
       "3        2.0         0.0           3.0                    0.0   \n",
       "4        2.0         0.0           3.0                    0.0   \n",
       "5        1.0         0.0           3.0                    0.0   \n",
       "6        2.0         0.0           3.0                    1.0   \n",
       "7        2.0         0.0           3.0                    0.0   \n",
       "8        1.0         0.0           3.0                    0.0   \n",
       "9        2.0         0.0           3.0                    1.0   \n",
       "10       1.0         0.0           3.0                    0.0   \n",
       "11       2.0         0.0           5.0                    1.0   \n",
       "12       2.0         0.0           3.0                    0.0   \n",
       "13       1.0         0.0           3.0                    0.0   \n",
       "14       2.0         0.0           3.0                    0.0   \n",
       "15       2.0         0.0           3.0                    1.0   \n",
       "16       2.0         0.0           3.0                    0.0   \n",
       "17       2.0         0.0           3.0                    2.0   \n",
       "18       2.0         0.0           3.0                    1.0   \n",
       "19       1.0         0.0           5.0                    1.0   \n",
       "20       2.0         0.0           3.0                    0.0   \n",
       "21       1.0         0.0           3.0                    0.0   \n",
       "22       2.0         0.0           3.0                    0.0   \n",
       "23       2.0         0.0           3.0                    3.0   \n",
       "24       1.0         0.0           3.0                    0.0   \n",
       "25       1.0         0.0           3.0                    3.0   \n",
       "26       2.0         1.0           5.0                    0.0   \n",
       "27       1.0         0.0           3.0                    1.0   \n",
       "28       2.0         0.0           3.0                    0.0   \n",
       "29       2.0         0.0           3.0                    0.0   \n",
       "...      ...         ...           ...                    ...   \n",
       "3185     1.0         1.0           5.0                    0.0   \n",
       "3186     1.0         0.0           3.0                    0.0   \n",
       "3187     1.0         0.0           3.0                    1.0   \n",
       "3188     1.0         0.0           3.0                    1.0   \n",
       "3189     1.0         1.0           5.0                    0.0   \n",
       "3190     1.0         0.0           3.0                    0.0   \n",
       "3191     1.0         0.0           3.0                    1.0   \n",
       "3192     1.0         1.0           5.0                    0.0   \n",
       "3193     1.0         1.0           5.0                    0.0   \n",
       "3194     3.0         1.0           5.0                    0.0   \n",
       "3195     1.0         0.0           3.0                    0.0   \n",
       "3196     1.0         1.0           5.0                    0.0   \n",
       "3197     1.0         0.0           3.0                    0.0   \n",
       "3198     1.0         0.0           3.0                    0.0   \n",
       "3199     1.0         0.0           3.0                    2.0   \n",
       "3200     1.0         0.0           3.0                    0.0   \n",
       "3201     1.0         0.0           3.0                    1.0   \n",
       "3202     1.0         1.0           5.0                    0.0   \n",
       "3203     1.0         0.0           3.0                    1.0   \n",
       "3204     1.0         1.0           5.0                    0.0   \n",
       "3205     1.0         0.0           3.0                    0.0   \n",
       "3206     1.0         0.0           3.0                    0.0   \n",
       "3207     1.0         1.0           5.0                    0.0   \n",
       "3208     1.0         1.0           5.0                    0.0   \n",
       "3209     1.0         1.0           5.0                    0.0   \n",
       "3210     1.0         1.0           5.0                    0.0   \n",
       "3211     1.0         0.0           3.0                    0.0   \n",
       "3212     1.0         1.0           5.0                    0.0   \n",
       "3213     1.0         0.0           2.0                    0.0   \n",
       "3214     1.0         0.0           2.0                    0.0   \n",
       "\n",
       "      B_current_win_streak  B_draw  B_avg_BODY_att  B_avg_BODY_landed  \\\n",
       "0                      4.0     0.0        9.200000           6.000000   \n",
       "1                      3.0     0.0       14.600000           9.100000   \n",
       "2                      3.0     0.0       15.354839          11.322581   \n",
       "3                      4.0     0.0       17.000000          14.000000   \n",
       "4                      1.0     0.0       17.000000          14.500000   \n",
       "5                      3.0     0.0       15.000000           7.416667   \n",
       "6                      0.0     0.0       16.250000          11.000000   \n",
       "7                      1.0     0.0        7.250000           4.750000   \n",
       "8                      1.0     0.0       25.400000          17.900000   \n",
       "9                      0.0     0.0        5.428571           4.142857   \n",
       "10                     2.0     0.0       21.875000          13.000000   \n",
       "11                     0.0     0.0        9.272727           6.181818   \n",
       "12                     3.0     0.0       10.333333           8.333333   \n",
       "13                     1.0     0.0        2.500000           1.000000   \n",
       "14                     1.0     0.0        7.000000           4.200000   \n",
       "15                     0.0     0.0       26.000000          22.200000   \n",
       "16                     4.0     0.0        9.666667           5.166667   \n",
       "17                     0.0     0.0       21.666667          17.666667   \n",
       "18                     0.0     0.0        9.500000           7.166667   \n",
       "19                     0.0     0.0       12.714286           9.714286   \n",
       "20                     1.0     0.0       10.000000          10.000000   \n",
       "21                     2.0     0.0       13.181818          10.590909   \n",
       "22                     1.0     0.0        5.000000           2.000000   \n",
       "23                     0.0     0.0        9.666667           7.952381   \n",
       "24                     2.0     0.0        7.000000           6.000000   \n",
       "25                     0.0     0.0       15.750000          11.750000   \n",
       "26                     3.0     0.0       24.285714          18.285714   \n",
       "27                     0.0     0.0        8.652174           6.956522   \n",
       "28                     6.0     0.0       11.833333           8.833333   \n",
       "29                     1.0     0.0       29.000000          15.000000   \n",
       "...                    ...     ...             ...                ...   \n",
       "3185                   6.0     0.0        6.333333           6.222222   \n",
       "3186                   2.0     0.0        2.500000           2.500000   \n",
       "3187                   0.0     0.0       12.400000          12.200000   \n",
       "3188                   0.0     0.0        2.000000           2.000000   \n",
       "3189                   6.0     0.0        3.181818           2.636364   \n",
       "3190                   2.0     0.0        4.500000           3.500000   \n",
       "3191                   0.0     0.0        5.000000           4.000000   \n",
       "3192                   7.0     0.0        3.333333           2.111111   \n",
       "3193                   3.0     0.0        0.333333           0.333333   \n",
       "3194                   2.0     0.0        2.800000           2.400000   \n",
       "3195                   2.0     0.0        8.250000           8.000000   \n",
       "3196                   1.0     0.0        2.100000           1.800000   \n",
       "3197                   1.0     0.0        1.000000           1.000000   \n",
       "3198                   2.0     0.0        2.333333           2.000000   \n",
       "3199                   0.0     0.0        1.333333           1.000000   \n",
       "3200                   2.0     0.0        0.333333           0.333333   \n",
       "3201                   0.0     0.0        4.000000           4.000000   \n",
       "3202                   7.0     0.0        2.571429           2.285714   \n",
       "3203                   0.0     0.0        1.000000           0.500000   \n",
       "3204                   3.0     0.0        2.333333           2.333333   \n",
       "3205                   1.0     0.0        2.500000           2.000000   \n",
       "3206                   1.0     0.0       26.000000          26.000000   \n",
       "3207                   1.0     0.0        6.000000           5.000000   \n",
       "3208                   1.0     0.0        0.000000           0.000000   \n",
       "3209                   1.0     0.0        1.000000           1.000000   \n",
       "3210                   3.0     0.0        7.666667           6.666667   \n",
       "3211                   1.0     0.0       12.000000          10.000000   \n",
       "3212                   1.0     0.0        7.000000           6.500000   \n",
       "3213                   1.0     0.0        9.000000           6.000000   \n",
       "3214                   3.0     0.0        0.666667           0.666667   \n",
       "\n",
       "      B_avg_CLINCH_att  B_avg_CLINCH_landed  ...  Flyweight  Heavyweight  \\\n",
       "0             0.200000             0.000000  ...        0.0          0.0   \n",
       "1            11.800000             7.300000  ...        0.0          0.0   \n",
       "2             6.741935             4.387097  ...        0.0          0.0   \n",
       "3            13.750000            11.000000  ...        0.0          0.0   \n",
       "4             2.500000             2.000000  ...        0.0          1.0   \n",
       "5             6.083333             3.416667  ...        0.0          0.0   \n",
       "6            17.500000            11.250000  ...        0.0          0.0   \n",
       "7             1.750000             0.500000  ...        0.0          0.0   \n",
       "8            22.500000            16.800000  ...        0.0          0.0   \n",
       "9            12.285714             9.142857  ...        0.0          0.0   \n",
       "10           14.875000            10.250000  ...        0.0          0.0   \n",
       "11            6.818182             5.272727  ...        0.0          0.0   \n",
       "12            6.666667             4.666667  ...        0.0          0.0   \n",
       "13            5.000000             2.500000  ...        0.0          0.0   \n",
       "14            4.600000             2.600000  ...        0.0          0.0   \n",
       "15           30.200000            24.800000  ...        0.0          0.0   \n",
       "16            2.000000             1.000000  ...        0.0          0.0   \n",
       "17           13.333333            10.333333  ...        0.0          0.0   \n",
       "18           12.166667             9.000000  ...        0.0          0.0   \n",
       "19            6.142857             4.714286  ...        0.0          0.0   \n",
       "20           21.000000            14.000000  ...        0.0          0.0   \n",
       "21           13.227273             8.863636  ...        0.0          0.0   \n",
       "22           12.000000             5.000000  ...        0.0          0.0   \n",
       "23           10.952381             7.857143  ...        0.0          0.0   \n",
       "24            2.500000             2.500000  ...        0.0          0.0   \n",
       "25           11.250000             8.000000  ...        0.0          0.0   \n",
       "26           26.642857            16.285714  ...        0.0          0.0   \n",
       "27            6.217391             5.217391  ...        0.0          0.0   \n",
       "28           14.833333            10.500000  ...        0.0          0.0   \n",
       "29            5.000000             3.000000  ...        0.0          0.0   \n",
       "...                ...                  ...  ...        ...          ...   \n",
       "3185          1.000000             0.666667  ...        0.0          0.0   \n",
       "3186         10.000000             6.500000  ...        0.0          0.0   \n",
       "3187         12.200000             8.200000  ...        0.0          0.0   \n",
       "3188          0.000000             0.000000  ...        0.0          0.0   \n",
       "3189         11.000000             7.727273  ...        0.0          0.0   \n",
       "3190          6.750000             5.750000  ...        0.0          1.0   \n",
       "3191          7.166667             5.666667  ...        0.0          0.0   \n",
       "3192          9.222222             6.111111  ...        0.0          0.0   \n",
       "3193          2.333333             2.000000  ...        0.0          0.0   \n",
       "3194          5.600000             4.000000  ...        0.0          0.0   \n",
       "3195          6.750000             4.750000  ...        0.0          0.0   \n",
       "3196          1.100000             0.900000  ...        0.0          0.0   \n",
       "3197          0.333333             0.333333  ...        0.0          0.0   \n",
       "3198          1.333333             1.000000  ...        0.0          0.0   \n",
       "3199          1.000000             0.666667  ...        0.0          0.0   \n",
       "3200          5.666667             2.833333  ...        0.0          0.0   \n",
       "3201          6.000000             6.000000  ...        0.0          0.0   \n",
       "3202         10.285714             8.571429  ...        0.0          1.0   \n",
       "3203          0.000000             0.000000  ...        0.0          0.0   \n",
       "3204          2.333333             2.333333  ...        0.0          0.0   \n",
       "3205          5.500000             3.500000  ...        0.0          0.0   \n",
       "3206          0.000000             0.000000  ...        0.0          0.0   \n",
       "3207          1.000000             1.000000  ...        0.0          0.0   \n",
       "3208          0.000000             0.000000  ...        0.0          0.0   \n",
       "3209          0.000000             0.000000  ...        0.0          0.0   \n",
       "3210         10.000000             7.000000  ...        0.0          0.0   \n",
       "3211          6.000000             3.000000  ...        0.0          0.0   \n",
       "3212         14.500000            12.000000  ...        0.0          0.0   \n",
       "3213         36.000000            21.000000  ...        0.0          0.0   \n",
       "3214          8.666667             4.000000  ...        0.0          1.0   \n",
       "\n",
       "      Light Heavyweight  Lightweight  Middleweight  Welterweight  \\\n",
       "0                   0.0          0.0           0.0           0.0   \n",
       "1                   0.0          0.0           0.0           0.0   \n",
       "2                   0.0          1.0           0.0           0.0   \n",
       "3                   0.0          0.0           0.0           0.0   \n",
       "4                   0.0          0.0           0.0           0.0   \n",
       "5                   0.0          0.0           0.0           0.0   \n",
       "6                   0.0          0.0           0.0           0.0   \n",
       "7                   0.0          0.0           0.0           0.0   \n",
       "8                   0.0          0.0           0.0           0.0   \n",
       "9                   0.0          0.0           1.0           0.0   \n",
       "10                  0.0          0.0           0.0           0.0   \n",
       "11                  1.0          0.0           0.0           0.0   \n",
       "12                  1.0          0.0           0.0           0.0   \n",
       "13                  0.0          0.0           0.0           0.0   \n",
       "14                  0.0          1.0           0.0           0.0   \n",
       "15                  0.0          0.0           0.0           0.0   \n",
       "16                  0.0          1.0           0.0           0.0   \n",
       "17                  0.0          1.0           0.0           0.0   \n",
       "18                  1.0          0.0           0.0           0.0   \n",
       "19                  0.0          0.0           0.0           1.0   \n",
       "20                  0.0          0.0           1.0           0.0   \n",
       "21                  0.0          1.0           0.0           0.0   \n",
       "22                  0.0          0.0           0.0           0.0   \n",
       "23                  1.0          0.0           0.0           0.0   \n",
       "24                  0.0          0.0           1.0           0.0   \n",
       "25                  0.0          0.0           0.0           0.0   \n",
       "26                  0.0          0.0           0.0           0.0   \n",
       "27                  0.0          0.0           1.0           0.0   \n",
       "28                  0.0          0.0           0.0           0.0   \n",
       "29                  0.0          0.0           0.0           1.0   \n",
       "...                 ...          ...           ...           ...   \n",
       "3185                0.0          0.0           0.0           1.0   \n",
       "3186                0.0          1.0           0.0           0.0   \n",
       "3187                0.0          0.0           1.0           0.0   \n",
       "3188                0.0          0.0           0.0           1.0   \n",
       "3189                1.0          0.0           0.0           0.0   \n",
       "3190                0.0          0.0           0.0           0.0   \n",
       "3191                0.0          1.0           0.0           0.0   \n",
       "3192                1.0          0.0           0.0           0.0   \n",
       "3193                0.0          0.0           0.0           1.0   \n",
       "3194                0.0          1.0           0.0           0.0   \n",
       "3195                0.0          0.0           1.0           0.0   \n",
       "3196                1.0          0.0           0.0           0.0   \n",
       "3197                1.0          0.0           0.0           0.0   \n",
       "3198                0.0          1.0           0.0           0.0   \n",
       "3199                1.0          0.0           0.0           0.0   \n",
       "3200                1.0          0.0           0.0           0.0   \n",
       "3201                0.0          1.0           0.0           0.0   \n",
       "3202                0.0          0.0           0.0           0.0   \n",
       "3203                1.0          0.0           0.0           0.0   \n",
       "3204                0.0          1.0           0.0           0.0   \n",
       "3205                0.0          1.0           0.0           0.0   \n",
       "3206                0.0          0.0           1.0           0.0   \n",
       "3207                1.0          0.0           0.0           0.0   \n",
       "3208                0.0          1.0           0.0           0.0   \n",
       "3209                1.0          0.0           0.0           0.0   \n",
       "3210                1.0          0.0           0.0           0.0   \n",
       "3211                0.0          0.0           1.0           0.0   \n",
       "3212                1.0          0.0           0.0           0.0   \n",
       "3213                0.0          0.0           1.0           0.0   \n",
       "3214                0.0          0.0           0.0           0.0   \n",
       "\n",
       "      Women's Bantamweight  Women's Featherweight  Women's Flyweight  \\\n",
       "0                      0.0                    0.0                0.0   \n",
       "1                      0.0                    0.0                1.0   \n",
       "2                      0.0                    0.0                0.0   \n",
       "3                      0.0                    0.0                0.0   \n",
       "4                      0.0                    0.0                0.0   \n",
       "5                      0.0                    0.0                0.0   \n",
       "6                      0.0                    0.0                0.0   \n",
       "7                      0.0                    0.0                0.0   \n",
       "8                      0.0                    0.0                0.0   \n",
       "9                      0.0                    0.0                0.0   \n",
       "10                     0.0                    0.0                1.0   \n",
       "11                     0.0                    0.0                0.0   \n",
       "12                     0.0                    0.0                0.0   \n",
       "13                     0.0                    0.0                0.0   \n",
       "14                     0.0                    0.0                0.0   \n",
       "15                     1.0                    0.0                0.0   \n",
       "16                     0.0                    0.0                0.0   \n",
       "17                     0.0                    0.0                0.0   \n",
       "18                     0.0                    0.0                0.0   \n",
       "19                     0.0                    0.0                0.0   \n",
       "20                     0.0                    0.0                0.0   \n",
       "21                     0.0                    0.0                0.0   \n",
       "22                     0.0                    0.0                0.0   \n",
       "23                     0.0                    0.0                0.0   \n",
       "24                     0.0                    0.0                0.0   \n",
       "25                     0.0                    0.0                0.0   \n",
       "26                     0.0                    0.0                0.0   \n",
       "27                     0.0                    0.0                0.0   \n",
       "28                     0.0                    0.0                0.0   \n",
       "29                     0.0                    0.0                0.0   \n",
       "...                    ...                    ...                ...   \n",
       "3185                   0.0                    0.0                0.0   \n",
       "3186                   0.0                    0.0                0.0   \n",
       "3187                   0.0                    0.0                0.0   \n",
       "3188                   0.0                    0.0                0.0   \n",
       "3189                   0.0                    0.0                0.0   \n",
       "3190                   0.0                    0.0                0.0   \n",
       "3191                   0.0                    0.0                0.0   \n",
       "3192                   0.0                    0.0                0.0   \n",
       "3193                   0.0                    0.0                0.0   \n",
       "3194                   0.0                    0.0                0.0   \n",
       "3195                   0.0                    0.0                0.0   \n",
       "3196                   0.0                    0.0                0.0   \n",
       "3197                   0.0                    0.0                0.0   \n",
       "3198                   0.0                    0.0                0.0   \n",
       "3199                   0.0                    0.0                0.0   \n",
       "3200                   0.0                    0.0                0.0   \n",
       "3201                   0.0                    0.0                0.0   \n",
       "3202                   0.0                    0.0                0.0   \n",
       "3203                   0.0                    0.0                0.0   \n",
       "3204                   0.0                    0.0                0.0   \n",
       "3205                   0.0                    0.0                0.0   \n",
       "3206                   0.0                    0.0                0.0   \n",
       "3207                   0.0                    0.0                0.0   \n",
       "3208                   0.0                    0.0                0.0   \n",
       "3209                   0.0                    0.0                0.0   \n",
       "3210                   0.0                    0.0                0.0   \n",
       "3211                   0.0                    0.0                0.0   \n",
       "3212                   0.0                    0.0                0.0   \n",
       "3213                   0.0                    0.0                0.0   \n",
       "3214                   0.0                    0.0                0.0   \n",
       "\n",
       "      Women's Strawweight  \n",
       "0                     0.0  \n",
       "1                     0.0  \n",
       "2                     0.0  \n",
       "3                     0.0  \n",
       "4                     0.0  \n",
       "5                     0.0  \n",
       "6                     1.0  \n",
       "7                     0.0  \n",
       "8                     1.0  \n",
       "9                     0.0  \n",
       "10                    0.0  \n",
       "11                    0.0  \n",
       "12                    0.0  \n",
       "13                    0.0  \n",
       "14                    0.0  \n",
       "15                    0.0  \n",
       "16                    0.0  \n",
       "17                    0.0  \n",
       "18                    0.0  \n",
       "19                    0.0  \n",
       "20                    0.0  \n",
       "21                    0.0  \n",
       "22                    0.0  \n",
       "23                    0.0  \n",
       "24                    0.0  \n",
       "25                    0.0  \n",
       "26                    1.0  \n",
       "27                    0.0  \n",
       "28                    0.0  \n",
       "29                    0.0  \n",
       "...                   ...  \n",
       "3185                  0.0  \n",
       "3186                  0.0  \n",
       "3187                  0.0  \n",
       "3188                  0.0  \n",
       "3189                  0.0  \n",
       "3190                  0.0  \n",
       "3191                  0.0  \n",
       "3192                  0.0  \n",
       "3193                  0.0  \n",
       "3194                  0.0  \n",
       "3195                  0.0  \n",
       "3196                  0.0  \n",
       "3197                  0.0  \n",
       "3198                  0.0  \n",
       "3199                  0.0  \n",
       "3200                  0.0  \n",
       "3201                  0.0  \n",
       "3202                  0.0  \n",
       "3203                  0.0  \n",
       "3204                  0.0  \n",
       "3205                  0.0  \n",
       "3206                  0.0  \n",
       "3207                  0.0  \n",
       "3208                  0.0  \n",
       "3209                  0.0  \n",
       "3210                  0.0  \n",
       "3211                  0.0  \n",
       "3212                  0.0  \n",
       "3213                  0.0  \n",
       "3214                  0.0  \n",
       "\n",
       "[3215 rows x 158 columns]"
      ]
     },
     "execution_count": 8,
     "metadata": {},
     "output_type": "execute_result"
    }
   ],
   "source": [
    "# Combine three dataframe\n",
    "temp_df = df\n",
    "\n",
    "drop_list = [\"R_Stance\", \"B_Stance\", \"weight_class\"]\n",
    "df = (pandas.concat([df, df1,df2], axis=1)).drop(columns = drop_list)\n",
    "df = df.astype('float')\n",
    "df\n"
   ]
  },
  {
   "cell_type": "code",
   "execution_count": 9,
   "metadata": {
    "scrolled": true
   },
   "outputs": [
    {
     "data": {
      "text/html": [
       "<div>\n",
       "<style scoped>\n",
       "    .dataframe tbody tr th:only-of-type {\n",
       "        vertical-align: middle;\n",
       "    }\n",
       "\n",
       "    .dataframe tbody tr th {\n",
       "        vertical-align: top;\n",
       "    }\n",
       "\n",
       "    .dataframe thead th {\n",
       "        text-align: right;\n",
       "    }\n",
       "</style>\n",
       "<table border=\"1\" class=\"dataframe\">\n",
       "  <thead>\n",
       "    <tr style=\"text-align: right;\">\n",
       "      <th></th>\n",
       "      <th>Difference_current_lose_streak</th>\n",
       "      <th>Difference_current_win_streak</th>\n",
       "      <th>Difference_draw</th>\n",
       "      <th>Difference_avg_BODY_att</th>\n",
       "      <th>Difference_avg_BODY_landed</th>\n",
       "      <th>Difference_avg_CLINCH_att</th>\n",
       "      <th>Difference_avg_CLINCH_landed</th>\n",
       "      <th>Difference_avg_DISTANCE_att</th>\n",
       "      <th>Difference_avg_DISTANCE_landed</th>\n",
       "      <th>Difference_avg_GROUND_att</th>\n",
       "      <th>...</th>\n",
       "      <th>Difference_win_by_Decision_Split</th>\n",
       "      <th>Difference_win_by_Decision_Unanimous</th>\n",
       "      <th>Difference_win_by_KO/TKO</th>\n",
       "      <th>Difference_win_by_Submission</th>\n",
       "      <th>Difference_win_by_TKO_Doctor_Stoppage</th>\n",
       "      <th>Difference_wins</th>\n",
       "      <th>Difference_Height_cms</th>\n",
       "      <th>Difference_Reach_cms</th>\n",
       "      <th>Difference_Weight_lbs</th>\n",
       "      <th>Difference_age</th>\n",
       "    </tr>\n",
       "  </thead>\n",
       "  <tbody>\n",
       "    <tr>\n",
       "      <th>3210</th>\n",
       "      <td>0.0</td>\n",
       "      <td>1.0</td>\n",
       "      <td>0.0</td>\n",
       "      <td>5.523810</td>\n",
       "      <td>5.238095</td>\n",
       "      <td>5.714286</td>\n",
       "      <td>5.714286</td>\n",
       "      <td>-1.619048</td>\n",
       "      <td>2.285714</td>\n",
       "      <td>-10.619048</td>\n",
       "      <td>...</td>\n",
       "      <td>0.0</td>\n",
       "      <td>-1.0</td>\n",
       "      <td>0.0</td>\n",
       "      <td>0.0</td>\n",
       "      <td>-1.0</td>\n",
       "      <td>-2.0</td>\n",
       "      <td>-7.62</td>\n",
       "      <td>0.00</td>\n",
       "      <td>-20.0</td>\n",
       "      <td>4.0</td>\n",
       "    </tr>\n",
       "    <tr>\n",
       "      <th>3211</th>\n",
       "      <td>0.0</td>\n",
       "      <td>0.0</td>\n",
       "      <td>0.0</td>\n",
       "      <td>8.333333</td>\n",
       "      <td>8.000000</td>\n",
       "      <td>-10.666667</td>\n",
       "      <td>-6.333333</td>\n",
       "      <td>-22.000000</td>\n",
       "      <td>-8.666667</td>\n",
       "      <td>44.666667</td>\n",
       "      <td>...</td>\n",
       "      <td>0.0</td>\n",
       "      <td>0.0</td>\n",
       "      <td>0.0</td>\n",
       "      <td>0.0</td>\n",
       "      <td>-1.0</td>\n",
       "      <td>-1.0</td>\n",
       "      <td>-12.70</td>\n",
       "      <td>-5.08</td>\n",
       "      <td>42.0</td>\n",
       "      <td>-1.0</td>\n",
       "    </tr>\n",
       "    <tr>\n",
       "      <th>3212</th>\n",
       "      <td>-1.0</td>\n",
       "      <td>1.0</td>\n",
       "      <td>0.0</td>\n",
       "      <td>4.400000</td>\n",
       "      <td>4.900000</td>\n",
       "      <td>8.700000</td>\n",
       "      <td>10.200000</td>\n",
       "      <td>-11.600000</td>\n",
       "      <td>-2.900000</td>\n",
       "      <td>-27.100000</td>\n",
       "      <td>...</td>\n",
       "      <td>0.0</td>\n",
       "      <td>0.0</td>\n",
       "      <td>-1.0</td>\n",
       "      <td>0.0</td>\n",
       "      <td>-1.0</td>\n",
       "      <td>-2.0</td>\n",
       "      <td>-10.16</td>\n",
       "      <td>0.00</td>\n",
       "      <td>0.0</td>\n",
       "      <td>-2.0</td>\n",
       "    </tr>\n",
       "    <tr>\n",
       "      <th>3213</th>\n",
       "      <td>-2.0</td>\n",
       "      <td>1.0</td>\n",
       "      <td>0.0</td>\n",
       "      <td>6.500000</td>\n",
       "      <td>4.000000</td>\n",
       "      <td>33.500000</td>\n",
       "      <td>19.500000</td>\n",
       "      <td>45.500000</td>\n",
       "      <td>18.000000</td>\n",
       "      <td>4.000000</td>\n",
       "      <td>...</td>\n",
       "      <td>0.0</td>\n",
       "      <td>1.0</td>\n",
       "      <td>0.0</td>\n",
       "      <td>0.0</td>\n",
       "      <td>0.0</td>\n",
       "      <td>1.0</td>\n",
       "      <td>2.54</td>\n",
       "      <td>5.08</td>\n",
       "      <td>20.0</td>\n",
       "      <td>6.0</td>\n",
       "    </tr>\n",
       "    <tr>\n",
       "      <th>3214</th>\n",
       "      <td>0.0</td>\n",
       "      <td>1.0</td>\n",
       "      <td>0.0</td>\n",
       "      <td>0.166667</td>\n",
       "      <td>0.166667</td>\n",
       "      <td>8.666667</td>\n",
       "      <td>4.000000</td>\n",
       "      <td>2.666667</td>\n",
       "      <td>1.666667</td>\n",
       "      <td>0.333333</td>\n",
       "      <td>...</td>\n",
       "      <td>0.0</td>\n",
       "      <td>0.0</td>\n",
       "      <td>2.0</td>\n",
       "      <td>-1.0</td>\n",
       "      <td>0.0</td>\n",
       "      <td>1.0</td>\n",
       "      <td>-2.54</td>\n",
       "      <td>-2.54</td>\n",
       "      <td>-20.0</td>\n",
       "      <td>-14.0</td>\n",
       "    </tr>\n",
       "  </tbody>\n",
       "</table>\n",
       "<p>5 rows × 67 columns</p>\n",
       "</div>"
      ],
      "text/plain": [
       "      Difference_current_lose_streak  Difference_current_win_streak  \\\n",
       "3210                             0.0                            1.0   \n",
       "3211                             0.0                            0.0   \n",
       "3212                            -1.0                            1.0   \n",
       "3213                            -2.0                            1.0   \n",
       "3214                             0.0                            1.0   \n",
       "\n",
       "      Difference_draw  Difference_avg_BODY_att  Difference_avg_BODY_landed  \\\n",
       "3210              0.0                 5.523810                    5.238095   \n",
       "3211              0.0                 8.333333                    8.000000   \n",
       "3212              0.0                 4.400000                    4.900000   \n",
       "3213              0.0                 6.500000                    4.000000   \n",
       "3214              0.0                 0.166667                    0.166667   \n",
       "\n",
       "      Difference_avg_CLINCH_att  Difference_avg_CLINCH_landed  \\\n",
       "3210                   5.714286                      5.714286   \n",
       "3211                 -10.666667                     -6.333333   \n",
       "3212                   8.700000                     10.200000   \n",
       "3213                  33.500000                     19.500000   \n",
       "3214                   8.666667                      4.000000   \n",
       "\n",
       "      Difference_avg_DISTANCE_att  Difference_avg_DISTANCE_landed  \\\n",
       "3210                    -1.619048                        2.285714   \n",
       "3211                   -22.000000                       -8.666667   \n",
       "3212                   -11.600000                       -2.900000   \n",
       "3213                    45.500000                       18.000000   \n",
       "3214                     2.666667                        1.666667   \n",
       "\n",
       "      Difference_avg_GROUND_att  ...  Difference_win_by_Decision_Split  \\\n",
       "3210                 -10.619048  ...                               0.0   \n",
       "3211                  44.666667  ...                               0.0   \n",
       "3212                 -27.100000  ...                               0.0   \n",
       "3213                   4.000000  ...                               0.0   \n",
       "3214                   0.333333  ...                               0.0   \n",
       "\n",
       "      Difference_win_by_Decision_Unanimous  Difference_win_by_KO/TKO  \\\n",
       "3210                                  -1.0                       0.0   \n",
       "3211                                   0.0                       0.0   \n",
       "3212                                   0.0                      -1.0   \n",
       "3213                                   1.0                       0.0   \n",
       "3214                                   0.0                       2.0   \n",
       "\n",
       "      Difference_win_by_Submission  Difference_win_by_TKO_Doctor_Stoppage  \\\n",
       "3210                           0.0                                   -1.0   \n",
       "3211                           0.0                                   -1.0   \n",
       "3212                           0.0                                   -1.0   \n",
       "3213                           0.0                                    0.0   \n",
       "3214                          -1.0                                    0.0   \n",
       "\n",
       "      Difference_wins  Difference_Height_cms  Difference_Reach_cms  \\\n",
       "3210             -2.0                  -7.62                  0.00   \n",
       "3211             -1.0                 -12.70                 -5.08   \n",
       "3212             -2.0                 -10.16                  0.00   \n",
       "3213              1.0                   2.54                  5.08   \n",
       "3214              1.0                  -2.54                 -2.54   \n",
       "\n",
       "      Difference_Weight_lbs  Difference_age  \n",
       "3210                  -20.0             4.0  \n",
       "3211                   42.0            -1.0  \n",
       "3212                    0.0            -2.0  \n",
       "3213                   20.0             6.0  \n",
       "3214                  -20.0           -14.0  \n",
       "\n",
       "[5 rows x 67 columns]"
      ]
     },
     "execution_count": 9,
     "metadata": {},
     "output_type": "execute_result"
    }
   ],
   "source": [
    "# The differeance between two fighter\n",
    "new_key = []\n",
    "for i in B_status:\n",
    "    new_key.append(i.replace(\"B_\", \"Difference_\"))\n",
    "\n",
    "df3 = pandas.DataFrame(df[B_status].to_numpy() - df[R_status].to_numpy(), columns = new_key)\n",
    "df3.tail()\n"
   ]
  },
  {
   "cell_type": "code",
   "execution_count": 10,
   "metadata": {
    "scrolled": true
   },
   "outputs": [
    {
     "data": {
      "text/html": [
       "<div>\n",
       "<style scoped>\n",
       "    .dataframe tbody tr th:only-of-type {\n",
       "        vertical-align: middle;\n",
       "    }\n",
       "\n",
       "    .dataframe tbody tr th {\n",
       "        vertical-align: top;\n",
       "    }\n",
       "\n",
       "    .dataframe thead th {\n",
       "        text-align: right;\n",
       "    }\n",
       "</style>\n",
       "<table border=\"1\" class=\"dataframe\">\n",
       "  <thead>\n",
       "    <tr style=\"text-align: right;\">\n",
       "      <th></th>\n",
       "      <th>Winner</th>\n",
       "      <th>title_bout</th>\n",
       "      <th>no_of_rounds</th>\n",
       "      <th>B_current_lose_streak</th>\n",
       "      <th>B_current_win_streak</th>\n",
       "      <th>B_draw</th>\n",
       "      <th>B_avg_BODY_att</th>\n",
       "      <th>B_avg_BODY_landed</th>\n",
       "      <th>B_avg_CLINCH_att</th>\n",
       "      <th>B_avg_CLINCH_landed</th>\n",
       "      <th>...</th>\n",
       "      <th>Difference_win_by_Decision_Split</th>\n",
       "      <th>Difference_win_by_Decision_Unanimous</th>\n",
       "      <th>Difference_win_by_KO/TKO</th>\n",
       "      <th>Difference_win_by_Submission</th>\n",
       "      <th>Difference_win_by_TKO_Doctor_Stoppage</th>\n",
       "      <th>Difference_wins</th>\n",
       "      <th>Difference_Height_cms</th>\n",
       "      <th>Difference_Reach_cms</th>\n",
       "      <th>Difference_Weight_lbs</th>\n",
       "      <th>Difference_age</th>\n",
       "    </tr>\n",
       "  </thead>\n",
       "  <tbody>\n",
       "    <tr>\n",
       "      <th>3210</th>\n",
       "      <td>1.0</td>\n",
       "      <td>1.0</td>\n",
       "      <td>5.0</td>\n",
       "      <td>0.0</td>\n",
       "      <td>3.0</td>\n",
       "      <td>0.0</td>\n",
       "      <td>7.666667</td>\n",
       "      <td>6.666667</td>\n",
       "      <td>10.000000</td>\n",
       "      <td>7.0</td>\n",
       "      <td>...</td>\n",
       "      <td>0.0</td>\n",
       "      <td>-1.0</td>\n",
       "      <td>0.0</td>\n",
       "      <td>0.0</td>\n",
       "      <td>-1.0</td>\n",
       "      <td>-2.0</td>\n",
       "      <td>-7.62</td>\n",
       "      <td>0.00</td>\n",
       "      <td>-20.0</td>\n",
       "      <td>4.0</td>\n",
       "    </tr>\n",
       "    <tr>\n",
       "      <th>3211</th>\n",
       "      <td>1.0</td>\n",
       "      <td>0.0</td>\n",
       "      <td>3.0</td>\n",
       "      <td>0.0</td>\n",
       "      <td>1.0</td>\n",
       "      <td>0.0</td>\n",
       "      <td>12.000000</td>\n",
       "      <td>10.000000</td>\n",
       "      <td>6.000000</td>\n",
       "      <td>3.0</td>\n",
       "      <td>...</td>\n",
       "      <td>0.0</td>\n",
       "      <td>0.0</td>\n",
       "      <td>0.0</td>\n",
       "      <td>0.0</td>\n",
       "      <td>-1.0</td>\n",
       "      <td>-1.0</td>\n",
       "      <td>-12.70</td>\n",
       "      <td>-5.08</td>\n",
       "      <td>42.0</td>\n",
       "      <td>-1.0</td>\n",
       "    </tr>\n",
       "    <tr>\n",
       "      <th>3212</th>\n",
       "      <td>1.0</td>\n",
       "      <td>1.0</td>\n",
       "      <td>5.0</td>\n",
       "      <td>0.0</td>\n",
       "      <td>1.0</td>\n",
       "      <td>0.0</td>\n",
       "      <td>7.000000</td>\n",
       "      <td>6.500000</td>\n",
       "      <td>14.500000</td>\n",
       "      <td>12.0</td>\n",
       "      <td>...</td>\n",
       "      <td>0.0</td>\n",
       "      <td>0.0</td>\n",
       "      <td>-1.0</td>\n",
       "      <td>0.0</td>\n",
       "      <td>-1.0</td>\n",
       "      <td>-2.0</td>\n",
       "      <td>-10.16</td>\n",
       "      <td>0.00</td>\n",
       "      <td>0.0</td>\n",
       "      <td>-2.0</td>\n",
       "    </tr>\n",
       "    <tr>\n",
       "      <th>3213</th>\n",
       "      <td>1.0</td>\n",
       "      <td>0.0</td>\n",
       "      <td>2.0</td>\n",
       "      <td>0.0</td>\n",
       "      <td>1.0</td>\n",
       "      <td>0.0</td>\n",
       "      <td>9.000000</td>\n",
       "      <td>6.000000</td>\n",
       "      <td>36.000000</td>\n",
       "      <td>21.0</td>\n",
       "      <td>...</td>\n",
       "      <td>0.0</td>\n",
       "      <td>1.0</td>\n",
       "      <td>0.0</td>\n",
       "      <td>0.0</td>\n",
       "      <td>0.0</td>\n",
       "      <td>1.0</td>\n",
       "      <td>2.54</td>\n",
       "      <td>5.08</td>\n",
       "      <td>20.0</td>\n",
       "      <td>6.0</td>\n",
       "    </tr>\n",
       "    <tr>\n",
       "      <th>3214</th>\n",
       "      <td>1.0</td>\n",
       "      <td>0.0</td>\n",
       "      <td>2.0</td>\n",
       "      <td>0.0</td>\n",
       "      <td>3.0</td>\n",
       "      <td>0.0</td>\n",
       "      <td>0.666667</td>\n",
       "      <td>0.666667</td>\n",
       "      <td>8.666667</td>\n",
       "      <td>4.0</td>\n",
       "      <td>...</td>\n",
       "      <td>0.0</td>\n",
       "      <td>0.0</td>\n",
       "      <td>2.0</td>\n",
       "      <td>-1.0</td>\n",
       "      <td>0.0</td>\n",
       "      <td>1.0</td>\n",
       "      <td>-2.54</td>\n",
       "      <td>-2.54</td>\n",
       "      <td>-20.0</td>\n",
       "      <td>-14.0</td>\n",
       "    </tr>\n",
       "  </tbody>\n",
       "</table>\n",
       "<p>5 rows × 225 columns</p>\n",
       "</div>"
      ],
      "text/plain": [
       "      Winner  title_bout  no_of_rounds  B_current_lose_streak  \\\n",
       "3210     1.0         1.0           5.0                    0.0   \n",
       "3211     1.0         0.0           3.0                    0.0   \n",
       "3212     1.0         1.0           5.0                    0.0   \n",
       "3213     1.0         0.0           2.0                    0.0   \n",
       "3214     1.0         0.0           2.0                    0.0   \n",
       "\n",
       "      B_current_win_streak  B_draw  B_avg_BODY_att  B_avg_BODY_landed  \\\n",
       "3210                   3.0     0.0        7.666667           6.666667   \n",
       "3211                   1.0     0.0       12.000000          10.000000   \n",
       "3212                   1.0     0.0        7.000000           6.500000   \n",
       "3213                   1.0     0.0        9.000000           6.000000   \n",
       "3214                   3.0     0.0        0.666667           0.666667   \n",
       "\n",
       "      B_avg_CLINCH_att  B_avg_CLINCH_landed  ...  \\\n",
       "3210         10.000000                  7.0  ...   \n",
       "3211          6.000000                  3.0  ...   \n",
       "3212         14.500000                 12.0  ...   \n",
       "3213         36.000000                 21.0  ...   \n",
       "3214          8.666667                  4.0  ...   \n",
       "\n",
       "      Difference_win_by_Decision_Split  Difference_win_by_Decision_Unanimous  \\\n",
       "3210                               0.0                                  -1.0   \n",
       "3211                               0.0                                   0.0   \n",
       "3212                               0.0                                   0.0   \n",
       "3213                               0.0                                   1.0   \n",
       "3214                               0.0                                   0.0   \n",
       "\n",
       "      Difference_win_by_KO/TKO  Difference_win_by_Submission  \\\n",
       "3210                       0.0                           0.0   \n",
       "3211                       0.0                           0.0   \n",
       "3212                      -1.0                           0.0   \n",
       "3213                       0.0                           0.0   \n",
       "3214                       2.0                          -1.0   \n",
       "\n",
       "      Difference_win_by_TKO_Doctor_Stoppage  Difference_wins  \\\n",
       "3210                                   -1.0             -2.0   \n",
       "3211                                   -1.0             -1.0   \n",
       "3212                                   -1.0             -2.0   \n",
       "3213                                    0.0              1.0   \n",
       "3214                                    0.0              1.0   \n",
       "\n",
       "      Difference_Height_cms  Difference_Reach_cms  Difference_Weight_lbs  \\\n",
       "3210                  -7.62                  0.00                  -20.0   \n",
       "3211                 -12.70                 -5.08                   42.0   \n",
       "3212                 -10.16                  0.00                    0.0   \n",
       "3213                   2.54                  5.08                   20.0   \n",
       "3214                  -2.54                 -2.54                  -20.0   \n",
       "\n",
       "      Difference_age  \n",
       "3210             4.0  \n",
       "3211            -1.0  \n",
       "3212            -2.0  \n",
       "3213             6.0  \n",
       "3214           -14.0  \n",
       "\n",
       "[5 rows x 225 columns]"
      ]
     },
     "execution_count": 10,
     "metadata": {},
     "output_type": "execute_result"
    }
   ],
   "source": [
    "# Combine df3 as well\n",
    "df = pandas.concat([df, df3], axis=1)\n",
    "df.tail()"
   ]
  },
  {
   "cell_type": "code",
   "execution_count": 11,
   "metadata": {},
   "outputs": [],
   "source": [
    "Y = df[\"Winner\"].tolist()"
   ]
  },
  {
   "cell_type": "code",
   "execution_count": 12,
   "metadata": {},
   "outputs": [],
   "source": [
    "# scale data \n",
    "scale_df = df.drop(columns = [\"Winner\"])\n",
    "keys = list(scale_df.keys())\n",
    "\n",
    "scaler = MinMaxScaler()\n",
    "MinMaxScaler(copy=True, feature_range=(0, 1))\n",
    "scaler.fit(scale_df)\n",
    "scale_df = scaler.transform(scale_df)\n",
    "scale_df = pandas.DataFrame(scale_df, columns = keys)\n",
    "df = scale_df\n"
   ]
  },
  {
   "cell_type": "code",
   "execution_count": 13,
   "metadata": {
    "scrolled": true
   },
   "outputs": [],
   "source": [
    "df[\"Winner\"] = Y"
   ]
  },
  {
   "cell_type": "code",
   "execution_count": 14,
   "metadata": {},
   "outputs": [
    {
     "data": {
      "text/plain": [
       "1.0    2023\n",
       "2.0    1141\n",
       "3.0      51\n",
       "Name: Winner, dtype: int64"
      ]
     },
     "execution_count": 14,
     "metadata": {},
     "output_type": "execute_result"
    }
   ],
   "source": [
    "df[\"Winner\"].value_counts()"
   ]
  },
  {
   "cell_type": "markdown",
   "metadata": {},
   "source": [
    "### Feature Importance"
   ]
  },
  {
   "cell_type": "code",
   "execution_count": 15,
   "metadata": {},
   "outputs": [],
   "source": [
    "                             \n",
    "X = df.drop(columns = [\"Winner\"])\n",
    "Y =  df[\"Winner\"]"
   ]
  },
  {
   "cell_type": "code",
   "execution_count": 16,
   "metadata": {},
   "outputs": [],
   "source": [
    "forest = ExtraTreesClassifier(n_estimators=250, random_state=0)\n",
    "\n",
    "forest.fit(X,Y)\n",
    "importances = forest.feature_importances_"
   ]
  },
  {
   "cell_type": "code",
   "execution_count": 17,
   "metadata": {},
   "outputs": [
    {
     "name": "stdout",
     "output_type": "stream",
     "text": [
      "Feature ranking:\n",
      "1. feature 223 Difference_age (0.010819)\n",
      "2. feature 135 R_age (0.008620)\n",
      "3. feature 96 R_losses (0.007206)\n",
      "4. feature 106 R_avg_opp_HEAD_landed (0.006490)\n",
      "5. feature 185 Difference_losses (0.006327)\n",
      "6. feature 125 R_win_by_Decision_Split (0.006110)\n",
      "7. feature 113 R_avg_opp_SIG_STR_landed (0.006087)\n",
      "8. feature 134 B_age (0.006027)\n",
      "9. feature 102 R_avg_opp_DISTANCE_landed (0.005915)\n",
      "10. feature 207 Difference_avg_opp_TD_pct (0.005812)\n"
     ]
    }
   ],
   "source": [
    "std = np.std([tree.feature_importances_ for tree in forest.estimators_],axis=0)\n",
    "indices = np.argsort(importances)[::-1]\n",
    "\n",
    "# Print the feature ranking\n",
    "print(\"Feature ranking:\")\n",
    "\n",
    "for f in range(0,10):\n",
    "    print(\"%d. feature %d %s (%f)\" % (f + 1, indices[f], df.keys()[indices[f]], importances[indices[f]]))"
   ]
  },
  {
   "cell_type": "code",
   "execution_count": 18,
   "metadata": {},
   "outputs": [
    {
     "data": {
      "image/png": "[encoded data removed]",
      "text/plain": [
       "<Figure size 432x288 with 1 Axes>"
      ]
     },
     "metadata": {
      "needs_background": "light"
     },
     "output_type": "display_data"
    }
   ],
   "source": [
    "plt.figure()\n",
    "plt.title(\"Feature importances\")\n",
    "plt.bar(range(0,10), importances[indices[:10]],\n",
    "       color=\"r\", yerr=std[indices][:10], align=\"center\")\n",
    "plt.xticks(range(0,10), indices)\n",
    "plt.xlim([-1, 10])\n",
    "plt.show()"
   ]
  },
  {
   "cell_type": "code",
   "execution_count": 19,
   "metadata": {
    "scrolled": true
   },
   "outputs": [
    {
     "data": {
      "image/png": "[encoded data removed]",
      "text/plain": [
       "<Figure size 432x288 with 1 Axes>"
      ]
     },
     "metadata": {
      "needs_background": "light"
     },
     "output_type": "display_data"
    }
   ],
   "source": [
    "model = XGBClassifier()\n",
    "model.fit(X, Y)\n",
    "\n",
    "# plot feature importance\n",
    "plot_importance(model, max_num_features= 10)\n",
    "pyplot.show()"
   ]
  },
  {
   "cell_type": "code",
   "execution_count": 20,
   "metadata": {},
   "outputs": [
    {
     "data": {
      "text/html": [
       "<div>\n",
       "<style scoped>\n",
       "    .dataframe tbody tr th:only-of-type {\n",
       "        vertical-align: middle;\n",
       "    }\n",
       "\n",
       "    .dataframe tbody tr th {\n",
       "        vertical-align: top;\n",
       "    }\n",
       "\n",
       "    .dataframe thead th {\n",
       "        text-align: right;\n",
       "    }\n",
       "</style>\n",
       "<table border=\"1\" class=\"dataframe\">\n",
       "  <thead>\n",
       "    <tr style=\"text-align: right;\">\n",
       "      <th></th>\n",
       "      <th>Feature</th>\n",
       "      <th>Importance</th>\n",
       "    </tr>\n",
       "  </thead>\n",
       "  <tbody>\n",
       "    <tr>\n",
       "      <th>113</th>\n",
       "      <td>R_avg_opp_SIG_STR_landed</td>\n",
       "      <td>0.027519</td>\n",
       "    </tr>\n",
       "    <tr>\n",
       "      <th>223</th>\n",
       "      <td>Difference_age</td>\n",
       "      <td>0.018228</td>\n",
       "    </tr>\n",
       "    <tr>\n",
       "      <th>185</th>\n",
       "      <td>Difference_losses</td>\n",
       "      <td>0.012974</td>\n",
       "    </tr>\n",
       "    <tr>\n",
       "      <th>20</th>\n",
       "      <td>B_avg_SIG_STR_att</td>\n",
       "      <td>0.011523</td>\n",
       "    </tr>\n",
       "    <tr>\n",
       "      <th>21</th>\n",
       "      <td>B_avg_SIG_STR_landed</td>\n",
       "      <td>0.011158</td>\n",
       "    </tr>\n",
       "    <tr>\n",
       "      <th>13</th>\n",
       "      <td>B_avg_HEAD_att</td>\n",
       "      <td>0.011058</td>\n",
       "    </tr>\n",
       "    <tr>\n",
       "      <th>193</th>\n",
       "      <td>Difference_avg_opp_GROUND_landed</td>\n",
       "      <td>0.009489</td>\n",
       "    </tr>\n",
       "    <tr>\n",
       "      <th>9</th>\n",
       "      <td>B_avg_DISTANCE_att</td>\n",
       "      <td>0.008872</td>\n",
       "    </tr>\n",
       "    <tr>\n",
       "      <th>77</th>\n",
       "      <td>R_avg_GROUND_att</td>\n",
       "      <td>0.008863</td>\n",
       "    </tr>\n",
       "    <tr>\n",
       "      <th>194</th>\n",
       "      <td>Difference_avg_opp_HEAD_att</td>\n",
       "      <td>0.008743</td>\n",
       "    </tr>\n",
       "  </tbody>\n",
       "</table>\n",
       "</div>"
      ],
      "text/plain": [
       "                              Feature  Importance\n",
       "113          R_avg_opp_SIG_STR_landed    0.027519\n",
       "223                    Difference_age    0.018228\n",
       "185                 Difference_losses    0.012974\n",
       "20                  B_avg_SIG_STR_att    0.011523\n",
       "21               B_avg_SIG_STR_landed    0.011158\n",
       "13                     B_avg_HEAD_att    0.011058\n",
       "193  Difference_avg_opp_GROUND_landed    0.009489\n",
       "9                  B_avg_DISTANCE_att    0.008872\n",
       "77                   R_avg_GROUND_att    0.008863\n",
       "194       Difference_avg_opp_HEAD_att    0.008743"
      ]
     },
     "execution_count": 20,
     "metadata": {},
     "output_type": "execute_result"
    }
   ],
   "source": [
    "def feat_importance(m, df):\n",
    "    return pandas.DataFrame({'Feature':df.columns, 'Importance':m.feature_importances_}).sort_values('Importance', ascending=False)\n",
    "\n",
    "\n",
    "fi = feat_importance(model, X); fi[:10]"
   ]
  },
  {
   "cell_type": "code",
   "execution_count": 21,
   "metadata": {},
   "outputs": [
    {
     "data": {
      "image/png": "[encoded data removed]",
      "text/plain": [
       "<Figure size 1008x432 with 1 Axes>"
      ]
     },
     "metadata": {
      "needs_background": "light"
     },
     "output_type": "display_data"
    }
   ],
   "source": [
    "plot1 = fi[:20].plot('Feature', 'Importance', figsize=(14,6), legend=False, kind = 'barh')\n",
    "plot1;"
   ]
  },
  {
   "cell_type": "markdown",
   "metadata": {
    "scrolled": true
   },
   "source": [
    "### Differeance feature values"
   ]
  },
  {
   "cell_type": "code",
   "execution_count": 22,
   "metadata": {},
   "outputs": [],
   "source": [
    "X = df3"
   ]
  },
  {
   "cell_type": "code",
   "execution_count": 23,
   "metadata": {},
   "outputs": [],
   "source": [
    "forest = ExtraTreesClassifier(n_estimators=250, random_state=0)\n",
    "\n",
    "forest.fit(X,Y)\n",
    "importances = forest.feature_importances_"
   ]
  },
  {
   "cell_type": "code",
   "execution_count": 24,
   "metadata": {},
   "outputs": [
    {
     "name": "stdout",
     "output_type": "stream",
     "text": [
      "Feature ranking:\n",
      "1. feature 66 Difference_age (0.028522)\n",
      "2. feature 28 Difference_losses (0.018839)\n",
      "3. feature 50 Difference_avg_opp_TD_pct (0.017255)\n",
      "4. feature 64 Difference_Reach_cms (0.017246)\n",
      "5. feature 57 Difference_win_by_Decision_Split (0.017015)\n",
      "6. feature 46 Difference_avg_opp_SIG_STR_pct (0.016766)\n",
      "7. feature 39 Difference_avg_opp_KD (0.016579)\n",
      "8. feature 23 Difference_avg_TD_landed (0.016393)\n",
      "9. feature 36 Difference_avg_opp_GROUND_landed (0.016211)\n",
      "10. feature 53 Difference_total_rounds_fought (0.016015)\n"
     ]
    }
   ],
   "source": [
    "std = np.std([tree.feature_importances_ for tree in forest.estimators_],axis=0)\n",
    "indices = np.argsort(importances)[::-1]\n",
    "\n",
    "# Print the feature ranking\n",
    "print(\"Feature ranking:\")\n",
    "\n",
    "for f in range(0,10):\n",
    "    print(\"%d. feature %d %s (%f)\" % (f + 1, indices[f], df3.keys()[indices[f]], importances[indices[f]]))"
   ]
  },
  {
   "cell_type": "code",
   "execution_count": 25,
   "metadata": {},
   "outputs": [
    {
     "data": {
      "image/png": "[encoded data removed]",
      "text/plain": [
       "<Figure size 432x288 with 1 Axes>"
      ]
     },
     "metadata": {
      "needs_background": "light"
     },
     "output_type": "display_data"
    }
   ],
   "source": [
    "plt.figure()\n",
    "plt.title(\"Feature importances\")\n",
    "plt.bar(range(0,10), importances[indices[:10]],\n",
    "       color=\"r\", yerr=std[indices][:10], align=\"center\")\n",
    "plt.xticks(range(0,10), indices)\n",
    "plt.xlim([-1, 10])\n",
    "plt.show()"
   ]
  },
  {
   "cell_type": "code",
   "execution_count": 26,
   "metadata": {},
   "outputs": [
    {
     "data": {
      "image/png": "[encoded data removed]",
      "text/plain": [
       "<Figure size 432x288 with 1 Axes>"
      ]
     },
     "metadata": {
      "needs_background": "light"
     },
     "output_type": "display_data"
    }
   ],
   "source": [
    "model = XGBClassifier()\n",
    "model.fit(X, Y)\n",
    "\n",
    "# plot feature importance\n",
    "plot_importance(model, max_num_features= 10)\n",
    "pyplot.show()"
   ]
  },
  {
   "cell_type": "code",
   "execution_count": 27,
   "metadata": {},
   "outputs": [
    {
     "data": {
      "text/html": [
       "<div>\n",
       "<style scoped>\n",
       "    .dataframe tbody tr th:only-of-type {\n",
       "        vertical-align: middle;\n",
       "    }\n",
       "\n",
       "    .dataframe tbody tr th {\n",
       "        vertical-align: top;\n",
       "    }\n",
       "\n",
       "    .dataframe thead th {\n",
       "        text-align: right;\n",
       "    }\n",
       "</style>\n",
       "<table border=\"1\" class=\"dataframe\">\n",
       "  <thead>\n",
       "    <tr style=\"text-align: right;\">\n",
       "      <th></th>\n",
       "      <th>Feature</th>\n",
       "      <th>Importance</th>\n",
       "    </tr>\n",
       "  </thead>\n",
       "  <tbody>\n",
       "    <tr>\n",
       "      <th>66</th>\n",
       "      <td>Difference_age</td>\n",
       "      <td>0.047595</td>\n",
       "    </tr>\n",
       "    <tr>\n",
       "      <th>28</th>\n",
       "      <td>Difference_losses</td>\n",
       "      <td>0.034561</td>\n",
       "    </tr>\n",
       "    <tr>\n",
       "      <th>57</th>\n",
       "      <td>Difference_win_by_Decision_Split</td>\n",
       "      <td>0.026238</td>\n",
       "    </tr>\n",
       "    <tr>\n",
       "      <th>36</th>\n",
       "      <td>Difference_avg_opp_GROUND_landed</td>\n",
       "      <td>0.024770</td>\n",
       "    </tr>\n",
       "    <tr>\n",
       "      <th>1</th>\n",
       "      <td>Difference_current_win_streak</td>\n",
       "      <td>0.021978</td>\n",
       "    </tr>\n",
       "    <tr>\n",
       "      <th>45</th>\n",
       "      <td>Difference_avg_opp_SIG_STR_landed</td>\n",
       "      <td>0.021793</td>\n",
       "    </tr>\n",
       "    <tr>\n",
       "      <th>3</th>\n",
       "      <td>Difference_avg_BODY_att</td>\n",
       "      <td>0.021374</td>\n",
       "    </tr>\n",
       "    <tr>\n",
       "      <th>46</th>\n",
       "      <td>Difference_avg_opp_SIG_STR_pct</td>\n",
       "      <td>0.019976</td>\n",
       "    </tr>\n",
       "    <tr>\n",
       "      <th>39</th>\n",
       "      <td>Difference_avg_opp_KD</td>\n",
       "      <td>0.019262</td>\n",
       "    </tr>\n",
       "    <tr>\n",
       "      <th>38</th>\n",
       "      <td>Difference_avg_opp_HEAD_landed</td>\n",
       "      <td>0.019040</td>\n",
       "    </tr>\n",
       "  </tbody>\n",
       "</table>\n",
       "</div>"
      ],
      "text/plain": [
       "                              Feature  Importance\n",
       "66                     Difference_age    0.047595\n",
       "28                  Difference_losses    0.034561\n",
       "57   Difference_win_by_Decision_Split    0.026238\n",
       "36   Difference_avg_opp_GROUND_landed    0.024770\n",
       "1       Difference_current_win_streak    0.021978\n",
       "45  Difference_avg_opp_SIG_STR_landed    0.021793\n",
       "3             Difference_avg_BODY_att    0.021374\n",
       "46     Difference_avg_opp_SIG_STR_pct    0.019976\n",
       "39              Difference_avg_opp_KD    0.019262\n",
       "38     Difference_avg_opp_HEAD_landed    0.019040"
      ]
     },
     "execution_count": 27,
     "metadata": {},
     "output_type": "execute_result"
    }
   ],
   "source": [
    "def feat_importance(m, df):\n",
    "    return pandas.DataFrame({'Feature':df.columns, 'Importance':m.feature_importances_}).sort_values('Importance', ascending=False)\n",
    "\n",
    "\n",
    "fi = feat_importance(model, X); fi[:10]"
   ]
  },
  {
   "cell_type": "code",
   "execution_count": 28,
   "metadata": {},
   "outputs": [
    {
     "data": {
      "image/png": "[encoded data removed]",
      "text/plain": [
       "<Figure size 1008x432 with 1 Axes>"
      ]
     },
     "metadata": {
      "needs_background": "light"
     },
     "output_type": "display_data"
    }
   ],
   "source": [
    "plot1 = fi[:20].plot('Feature', 'Importance', figsize=(14,6), legend=False, kind = 'barh')\n",
    "plot1;"
   ]
  },
  {
   "cell_type": "markdown",
   "metadata": {},
   "source": [
    "### Sampling the dataset"
   ]
  },
  {
   "cell_type": "code",
   "execution_count": 29,
   "metadata": {},
   "outputs": [
    {
     "name": "stdout",
     "output_type": "stream",
     "text": [
      "Counter({1.0: 2023, 2.0: 1141, 3.0: 300})\n"
     ]
    }
   ],
   "source": [
    "# over_sampling for \"draw / 3\".\n",
    "X = df.drop(columns = [\"Winner\"])\n",
    "\n",
    "rus = imblearn.over_sampling.ADASYN(ratio={3:300 }, random_state=1)\n",
    "\n",
    "X_rus, Y_rus = rus.fit_sample(X, Y)\n",
    "\n",
    "print(Counter(Y_rus))\n"
   ]
  },
  {
   "cell_type": "code",
   "execution_count": 30,
   "metadata": {},
   "outputs": [],
   "source": [
    "sampled_df = pandas.DataFrame(X_rus, dtype = float, columns = df.drop(columns = [\"Winner\"]).keys())\n",
    "sampled_df[\"Winner\"] = Y_rus\n",
    "df = sampled_df"
   ]
  },
  {
   "cell_type": "markdown",
   "metadata": {},
   "source": [
    "### Dataset "
   ]
  },
  {
   "cell_type": "code",
   "execution_count": 31,
   "metadata": {},
   "outputs": [
    {
     "data": {
      "text/plain": [
       "(1    122\n",
       " 2     65\n",
       " 3     13\n",
       " Name: Y, dtype: int64,)"
      ]
     },
     "execution_count": 31,
     "metadata": {},
     "output_type": "execute_result"
    }
   ],
   "source": [
    "# dataset = shuffle(sampled_df)\n",
    "dataset = shuffle(df)\n",
    "\n",
    "\n",
    "Train_dataset = dataset[100:-200] \n",
    "Valid_dataset = dataset[:100] # 100 dataset for valid\n",
    "Test_dataset = dataset[-200:] # 200 dataset for test\n",
    "\n",
    "Train_X = Train_dataset.drop(columns = [\"Winner\"]).to_numpy(dtype = float)\n",
    "Train_Y = Train_dataset[\"Winner\"].to_numpy(dtype = int)\n",
    "\n",
    "\n",
    "Valid_X = Valid_dataset.drop(columns = [\"Winner\"]).to_numpy(dtype = float)\n",
    "Valid_Y = Valid_dataset[\"Winner\"].to_numpy(dtype = int)\n",
    "\n",
    "\n",
    "Test_X = Test_dataset.drop(columns = [\"Winner\"]).to_numpy(dtype = float)\n",
    "Test_Y = Test_dataset[\"Winner\"].to_numpy(dtype = int)\n",
    "pandas.DataFrame(Test_Y, columns = [\"Y\"])[\"Y\"].value_counts(), \n"
   ]
  },
  {
   "cell_type": "code",
   "execution_count": 32,
   "metadata": {},
   "outputs": [
    {
     "data": {
      "text/plain": [
       "1    1853\n",
       "2    1035\n",
       "3     276\n",
       "Name: Y, dtype: int64"
      ]
     },
     "execution_count": 32,
     "metadata": {},
     "output_type": "execute_result"
    }
   ],
   "source": [
    "pandas.DataFrame(Train_Y, columns = [\"Y\"])[\"Y\"].value_counts()"
   ]
  },
  {
   "cell_type": "code",
   "execution_count": 33,
   "metadata": {},
   "outputs": [
    {
     "data": {
      "text/plain": [
       "1    48\n",
       "2    41\n",
       "3    11\n",
       "Name: Y, dtype: int64"
      ]
     },
     "execution_count": 33,
     "metadata": {},
     "output_type": "execute_result"
    }
   ],
   "source": [
    "pandas.DataFrame(Valid_Y, columns = [\"Y\"])[\"Y\"].value_counts()"
   ]
  },
  {
   "cell_type": "markdown",
   "metadata": {},
   "source": [
    "# ML Models"
   ]
  },
  {
   "cell_type": "markdown",
   "metadata": {},
   "source": [
    "### Ensembling learning method"
   ]
  },
  {
   "cell_type": "code",
   "execution_count": 34,
   "metadata": {},
   "outputs": [],
   "source": [
    "def CV(model, X, Y, param, param_val):\n",
    "    # Calculate accuracy on training and test set using range of parameter values\n",
    "    train_scores, test_scores = validation_curve(model, \n",
    "                                                 X, \n",
    "                                                 Y, \n",
    "                                                 param_name= param, \n",
    "                                                 param_range=param_val,\n",
    "                                                 cv=2, \n",
    "                                                 scoring=\"f1_weighted\", \n",
    "                                                 n_jobs=-1)\n",
    "    test_scores = np.mean(test_scores, axis=1)\n",
    "    train_scores = np.mean(train_scores, axis=1)\n",
    "\n",
    "    print(np.max(test_scores))\n",
    "    return train_scores, test_scores, list(param_val)[np.argmax(test_scores)], np.max(test_scores)"
   ]
  },
  {
   "cell_type": "code",
   "execution_count": 35,
   "metadata": {},
   "outputs": [],
   "source": [
    "# Bagging for the model and return the best selection via given datasets\n",
    "rng = np.random.RandomState(1)\n",
    "\n",
    "def Bagging(model, Train_X, Train_Y, Vail_X, Vail_Y):  \n",
    "    highest = 0\n",
    "    coeff = 0\n",
    "    rng = np.random.RandomState(1)\n",
    "    Bagging_Model = BaggingClassifier(base_estimator= model,  bootstrap=True, warm_start=False) #\n",
    "    train_scores, test_scores, coeff, highest = CV(Bagging_Model, Train_X, Train_Y, \"n_estimators\", range(1, 30, 1))\n",
    "\n",
    "    return coeff, highest, train_scores, test_scores\n",
    "\n"
   ]
  },
  {
   "cell_type": "code",
   "execution_count": 36,
   "metadata": {},
   "outputs": [],
   "source": [
    "# GBDT(Gradient Boosting Decision Tree) for the model and return the best selection via given datasets\n",
    "\n",
    "\n",
    "def GBDT(model, Train_X, Train_Y, Vail_X, Vail_Y):\n",
    "    coeff = 0\n",
    "    highest = 0\n",
    "    _range = np.arange(1e-4, 5e-2, 5e-3)\n",
    "#     _range = np.array([2, 1.5, 1e0, 0.5, 1e-1])\n",
    "    GBDT = GradientBoostingClassifier(init = model, learning_rate = 0.1)\n",
    "    train_scores, test_scores, coeff, highest = CV(GBDT, Train_X, Train_Y, \"learning_rate\", _range)\n",
    "\n",
    "\n",
    "    return coeff, highest, train_scores, test_scores,\n",
    "    "
   ]
  },
  {
   "cell_type": "code",
   "execution_count": 37,
   "metadata": {},
   "outputs": [],
   "source": [
    "def plot(train_scores, test_scores):\n",
    "    fig, ax = plt.subplots()\n",
    "    ax.plot(train_scores, color = \"blue\", label = \"Train\")\n",
    "    ax.plot(test_scores, color = \"red\", label = \"Test\")\n",
    "\n",
    "\n",
    "    ax.set(xlabel='Numbers of Parameters', ylabel='F1 Weighted',\n",
    "           title='F1 Weight Accuracy')\n",
    "\n",
    "    ax.grid()\n",
    "    # ax.set_xlim([0.01,0.5])\n",
    "\n",
    "    plt.legend(loc='best')\n",
    "\n",
    "    plt.show()"
   ]
  },
  {
   "cell_type": "markdown",
   "metadata": {},
   "source": [
    "### Naive Bayes Classifier"
   ]
  },
  {
   "cell_type": "code",
   "execution_count": 38,
   "metadata": {},
   "outputs": [
    {
     "data": {
      "text/plain": [
       "0.497787610619469"
      ]
     },
     "execution_count": 38,
     "metadata": {},
     "output_type": "execute_result"
    }
   ],
   "source": [
    "NB = MultinomialNB(class_prior = [0.9,0.95,0.75], alpha = 1)\n",
    "NB.fit(Train_X, Train_Y)\n",
    "NB.score(Train_X, Train_Y)"
   ]
  },
  {
   "cell_type": "code",
   "execution_count": 39,
   "metadata": {},
   "outputs": [
    {
     "name": "stdout",
     "output_type": "stream",
     "text": [
      "              precision    recall  f1-score   support\n",
      "\n",
      "           1       0.70      0.50      0.58      1853\n",
      "           2       0.41      0.53      0.46      1035\n",
      "           3       0.21      0.39      0.27       276\n",
      "\n",
      "    accuracy                           0.50      3164\n",
      "   macro avg       0.44      0.47      0.44      3164\n",
      "weighted avg       0.56      0.50      0.52      3164\n",
      "\n"
     ]
    }
   ],
   "source": [
    "print(sklearn.metrics.classification_report(Train_Y, NB.predict(Train_X)) )"
   ]
  },
  {
   "cell_type": "code",
   "execution_count": 40,
   "metadata": {},
   "outputs": [
    {
     "data": {
      "text/plain": [
       "0.46"
      ]
     },
     "execution_count": 40,
     "metadata": {},
     "output_type": "execute_result"
    }
   ],
   "source": [
    "NB.score(Test_X, Test_Y)"
   ]
  },
  {
   "cell_type": "code",
   "execution_count": 41,
   "metadata": {},
   "outputs": [
    {
     "name": "stdout",
     "output_type": "stream",
     "text": [
      "              precision    recall  f1-score   support\n",
      "\n",
      "           1       0.69      0.46      0.55       122\n",
      "           2       0.40      0.49      0.44        65\n",
      "           3       0.11      0.31      0.16        13\n",
      "\n",
      "    accuracy                           0.46       200\n",
      "   macro avg       0.40      0.42      0.38       200\n",
      "weighted avg       0.56      0.46      0.49       200\n",
      "\n"
     ]
    }
   ],
   "source": [
    "print(sklearn.metrics.classification_report(Test_Y, NB.predict(Test_X)) )"
   ]
  },
  {
   "cell_type": "code",
   "execution_count": 42,
   "metadata": {},
   "outputs": [
    {
     "name": "stdout",
     "output_type": "stream",
     "text": [
      "0.49966952356386474\n"
     ]
    },
    {
     "data": {
      "image/png": "[encoded data removed]",
      "text/plain": [
       "<Figure size 432x288 with 1 Axes>"
      ]
     },
     "metadata": {
      "needs_background": "light"
     },
     "output_type": "display_data"
    }
   ],
   "source": [
    "# Bagging Naive Bayes model\n",
    "coeff, highest, train_scores, test_scores = Bagging(NB, Train_X, Train_Y, Valid_X, Valid_Y)\n",
    "plot(train_scores, test_scores)"
   ]
  },
  {
   "cell_type": "code",
   "execution_count": 43,
   "metadata": {},
   "outputs": [
    {
     "data": {
      "text/plain": [
       "0.5012642225031606"
      ]
     },
     "execution_count": 43,
     "metadata": {},
     "output_type": "execute_result"
    }
   ],
   "source": [
    "Bagging_NB = BaggingClassifier(base_estimator=NB, n_estimators=coeff, random_state=rng)\n",
    "Bagging_NB.fit(Train_X, Train_Y)\n",
    "Bagging_NB.score(Train_X,Train_Y)"
   ]
  },
  {
   "cell_type": "code",
   "execution_count": 44,
   "metadata": {},
   "outputs": [
    {
     "name": "stdout",
     "output_type": "stream",
     "text": [
      "              precision    recall  f1-score   support\n",
      "\n",
      "           1       0.70      0.50      0.58      1853\n",
      "           2       0.41      0.53      0.46      1035\n",
      "           3       0.21      0.39      0.28       276\n",
      "\n",
      "    accuracy                           0.50      3164\n",
      "   macro avg       0.44      0.47      0.44      3164\n",
      "weighted avg       0.56      0.50      0.52      3164\n",
      "\n"
     ]
    }
   ],
   "source": [
    "print(sklearn.metrics.classification_report(Train_Y, Bagging_NB.predict(Train_X)) )"
   ]
  },
  {
   "cell_type": "code",
   "execution_count": 45,
   "metadata": {},
   "outputs": [
    {
     "data": {
      "text/plain": [
       "0.44"
      ]
     },
     "execution_count": 45,
     "metadata": {},
     "output_type": "execute_result"
    }
   ],
   "source": [
    "Bagging_NB.score(Test_X, Test_Y)"
   ]
  },
  {
   "cell_type": "code",
   "execution_count": 46,
   "metadata": {},
   "outputs": [
    {
     "name": "stdout",
     "output_type": "stream",
     "text": [
      "              precision    recall  f1-score   support\n",
      "\n",
      "           1       0.67      0.46      0.55       122\n",
      "           2       0.36      0.43      0.39        65\n",
      "           3       0.10      0.31      0.15        13\n",
      "\n",
      "    accuracy                           0.44       200\n",
      "   macro avg       0.38      0.40      0.36       200\n",
      "weighted avg       0.53      0.44      0.47       200\n",
      "\n"
     ]
    }
   ],
   "source": [
    "print(sklearn.metrics.classification_report(Test_Y, Bagging_NB.predict(Test_X)) )"
   ]
  },
  {
   "cell_type": "code",
   "execution_count": 47,
   "metadata": {},
   "outputs": [
    {
     "name": "stdout",
     "output_type": "stream",
     "text": [
      "0.6016908189067574\n"
     ]
    },
    {
     "data": {
      "image/png": "[encoded data removed]",
      "text/plain": [
       "<Figure size 432x288 with 1 Axes>"
      ]
     },
     "metadata": {
      "needs_background": "light"
     },
     "output_type": "display_data"
    }
   ],
   "source": [
    "# Gradient Boosting Decision Tree Naive Bayes model \n",
    "coeff, highest, train_scores, test_scores = GBDT(Bagging_NB, Train_X, Train_Y, Valid_X, Valid_Y)\n",
    "plot(train_scores, test_scores)"
   ]
  },
  {
   "cell_type": "code",
   "execution_count": 48,
   "metadata": {},
   "outputs": [
    {
     "data": {
      "text/plain": [
       "0.770543615676359"
      ]
     },
     "execution_count": 48,
     "metadata": {},
     "output_type": "execute_result"
    }
   ],
   "source": [
    "GBDT_NB = GradientBoostingClassifier(init = Bagging_NB, learning_rate = coeff)\n",
    "GBDT_NB.fit(Train_X, Train_Y)\n",
    "GBDT_NB.score(Train_X,Train_Y)"
   ]
  },
  {
   "cell_type": "code",
   "execution_count": 49,
   "metadata": {},
   "outputs": [
    {
     "name": "stdout",
     "output_type": "stream",
     "text": [
      "              precision    recall  f1-score   support\n",
      "\n",
      "           1       0.74      0.94      0.83      1853\n",
      "           2       0.80      0.47      0.59      1035\n",
      "           3       1.00      0.76      0.86       276\n",
      "\n",
      "    accuracy                           0.77      3164\n",
      "   macro avg       0.85      0.72      0.76      3164\n",
      "weighted avg       0.78      0.77      0.75      3164\n",
      "\n"
     ]
    }
   ],
   "source": [
    "print(sklearn.metrics.classification_report(Train_Y, GBDT_NB.predict(Train_X)) )"
   ]
  },
  {
   "cell_type": "code",
   "execution_count": 50,
   "metadata": {},
   "outputs": [
    {
     "data": {
      "text/plain": [
       "0.68"
      ]
     },
     "execution_count": 50,
     "metadata": {},
     "output_type": "execute_result"
    }
   ],
   "source": [
    "GBDT_NB.score(Test_X,Test_Y)"
   ]
  },
  {
   "cell_type": "code",
   "execution_count": 51,
   "metadata": {},
   "outputs": [
    {
     "name": "stdout",
     "output_type": "stream",
     "text": [
      "              precision    recall  f1-score   support\n",
      "\n",
      "           1       0.69      0.89      0.78       122\n",
      "           2       0.59      0.31      0.40        65\n",
      "           3       1.00      0.54      0.70        13\n",
      "\n",
      "    accuracy                           0.68       200\n",
      "   macro avg       0.76      0.58      0.63       200\n",
      "weighted avg       0.67      0.68      0.65       200\n",
      "\n"
     ]
    }
   ],
   "source": [
    "print(sklearn.metrics.classification_report(Test_Y, GBDT_NB.predict(Test_X)) )"
   ]
  },
  {
   "cell_type": "markdown",
   "metadata": {},
   "source": [
    "### KNN Classifier"
   ]
  },
  {
   "cell_type": "code",
   "execution_count": 52,
   "metadata": {},
   "outputs": [
    {
     "data": {
      "text/plain": [
       "1.0"
      ]
     },
     "execution_count": 52,
     "metadata": {},
     "output_type": "execute_result"
    }
   ],
   "source": [
    "KNN = KNeighborsClassifier(weights= \"distance\")\n",
    "\n",
    "\n",
    "KNN.fit(Train_X, Train_Y)\n",
    "KNN.score(Train_X, Train_Y)"
   ]
  },
  {
   "cell_type": "code",
   "execution_count": 53,
   "metadata": {},
   "outputs": [
    {
     "name": "stdout",
     "output_type": "stream",
     "text": [
      "              precision    recall  f1-score   support\n",
      "\n",
      "           1       1.00      1.00      1.00      1853\n",
      "           2       1.00      1.00      1.00      1035\n",
      "           3       1.00      1.00      1.00       276\n",
      "\n",
      "    accuracy                           1.00      3164\n",
      "   macro avg       1.00      1.00      1.00      3164\n",
      "weighted avg       1.00      1.00      1.00      3164\n",
      "\n"
     ]
    }
   ],
   "source": [
    "print(sklearn.metrics.classification_report(Train_Y, KNN.predict(Train_X)) )"
   ]
  },
  {
   "cell_type": "code",
   "execution_count": 54,
   "metadata": {},
   "outputs": [
    {
     "data": {
      "text/plain": [
       "0.645"
      ]
     },
     "execution_count": 54,
     "metadata": {},
     "output_type": "execute_result"
    }
   ],
   "source": [
    "KNN.score(Test_X, Test_Y)"
   ]
  },
  {
   "cell_type": "code",
   "execution_count": 55,
   "metadata": {},
   "outputs": [
    {
     "name": "stdout",
     "output_type": "stream",
     "text": [
      "              precision    recall  f1-score   support\n",
      "\n",
      "           1       0.70      0.79      0.74       122\n",
      "           2       0.49      0.31      0.38        65\n",
      "           3       0.59      1.00      0.74        13\n",
      "\n",
      "    accuracy                           0.65       200\n",
      "   macro avg       0.59      0.70      0.62       200\n",
      "weighted avg       0.62      0.65      0.62       200\n",
      "\n"
     ]
    }
   ],
   "source": [
    "print(sklearn.metrics.classification_report(Test_Y, KNN.predict(Test_X)) )"
   ]
  },
  {
   "cell_type": "code",
   "execution_count": 56,
   "metadata": {},
   "outputs": [
    {
     "name": "stdout",
     "output_type": "stream",
     "text": [
      "0.5627685214915144\n"
     ]
    },
    {
     "data": {
      "image/png": "[encoded data removed]",
      "text/plain": [
       "<Figure size 432x288 with 1 Axes>"
      ]
     },
     "metadata": {
      "needs_background": "light"
     },
     "output_type": "display_data"
    }
   ],
   "source": [
    "# Bagging KNN model\n",
    "coeff, highest, train_scores, test_scores = Bagging(KNN, Train_X, Train_Y, Valid_X, Valid_Y)\n",
    "plot(train_scores, test_scores)"
   ]
  },
  {
   "cell_type": "code",
   "execution_count": 57,
   "metadata": {},
   "outputs": [
    {
     "data": {
      "text/plain": [
       "0.995575221238938"
      ]
     },
     "execution_count": 57,
     "metadata": {},
     "output_type": "execute_result"
    }
   ],
   "source": [
    "Bagging_KNN = BaggingClassifier(base_estimator=KNN, n_estimators=coeff, random_state=rng)\n",
    "Bagging_KNN.fit(Train_X, Train_Y)\n",
    "Bagging_KNN.score(Train_X,Train_Y)"
   ]
  },
  {
   "cell_type": "code",
   "execution_count": 58,
   "metadata": {},
   "outputs": [
    {
     "data": {
      "text/plain": [
       "0.62"
      ]
     },
     "execution_count": 58,
     "metadata": {},
     "output_type": "execute_result"
    }
   ],
   "source": [
    "Bagging_KNN.score(Test_X, Test_Y)"
   ]
  },
  {
   "cell_type": "code",
   "execution_count": 59,
   "metadata": {},
   "outputs": [
    {
     "name": "stdout",
     "output_type": "stream",
     "text": [
      "              precision    recall  f1-score   support\n",
      "\n",
      "           1       0.68      0.78      0.73       122\n",
      "           2       0.42      0.25      0.31        65\n",
      "           3       0.57      1.00      0.72        13\n",
      "\n",
      "    accuracy                           0.62       200\n",
      "   macro avg       0.56      0.67      0.59       200\n",
      "weighted avg       0.59      0.62      0.59       200\n",
      "\n"
     ]
    }
   ],
   "source": [
    "print(sklearn.metrics.classification_report(Test_Y, Bagging_KNN.predict(Test_X)) )"
   ]
  },
  {
   "cell_type": "code",
   "execution_count": 60,
   "metadata": {},
   "outputs": [
    {
     "name": "stdout",
     "output_type": "stream",
     "text": [
      "0.5949565879389855\n"
     ]
    },
    {
     "data": {
      "image/png": "[encoded data removed]",
      "text/plain": [
       "<Figure size 432x288 with 1 Axes>"
      ]
     },
     "metadata": {
      "needs_background": "light"
     },
     "output_type": "display_data"
    }
   ],
   "source": [
    "# Gradient Boosting Decision Tree KNN model \n",
    "\n",
    "coeff, highest, train_scores, test_scores = GBDT(Bagging_KNN, Train_X, Train_Y, Valid_X, Valid_Y)\n",
    "plot(train_scores, test_scores)"
   ]
  },
  {
   "cell_type": "code",
   "execution_count": 61,
   "metadata": {},
   "outputs": [
    {
     "data": {
      "text/plain": [
       "0.9984197218710493"
      ]
     },
     "execution_count": 61,
     "metadata": {},
     "output_type": "execute_result"
    }
   ],
   "source": [
    "GBDT_KNN = GradientBoostingClassifier(init = Bagging_KNN, learning_rate = coeff)\n",
    "GBDT_KNN.fit(Train_X, Train_Y)\n",
    "GBDT_KNN.score(Train_X,Train_Y)"
   ]
  },
  {
   "cell_type": "code",
   "execution_count": 62,
   "metadata": {},
   "outputs": [
    {
     "name": "stdout",
     "output_type": "stream",
     "text": [
      "              precision    recall  f1-score   support\n",
      "\n",
      "           1       1.00      1.00      1.00      1853\n",
      "           2       1.00      1.00      1.00      1035\n",
      "           3       1.00      1.00      1.00       276\n",
      "\n",
      "    accuracy                           1.00      3164\n",
      "   macro avg       1.00      1.00      1.00      3164\n",
      "weighted avg       1.00      1.00      1.00      3164\n",
      "\n"
     ]
    }
   ],
   "source": [
    "print(sklearn.metrics.classification_report(Train_Y, GBDT_KNN.predict(Train_X)) )"
   ]
  },
  {
   "cell_type": "code",
   "execution_count": 63,
   "metadata": {},
   "outputs": [
    {
     "data": {
      "text/plain": [
       "0.675"
      ]
     },
     "execution_count": 63,
     "metadata": {},
     "output_type": "execute_result"
    }
   ],
   "source": [
    "GBDT_KNN.score(Test_X,Test_Y)"
   ]
  },
  {
   "cell_type": "code",
   "execution_count": 64,
   "metadata": {},
   "outputs": [
    {
     "name": "stdout",
     "output_type": "stream",
     "text": [
      "              precision    recall  f1-score   support\n",
      "\n",
      "           1       0.73      0.77      0.75       122\n",
      "           2       0.51      0.43      0.47        65\n",
      "           3       0.81      1.00      0.90        13\n",
      "\n",
      "    accuracy                           0.68       200\n",
      "   macro avg       0.68      0.73      0.70       200\n",
      "weighted avg       0.66      0.68      0.67       200\n",
      "\n"
     ]
    }
   ],
   "source": [
    "print(sklearn.metrics.classification_report(Test_Y, GBDT_KNN.predict(Test_X)) )"
   ]
  },
  {
   "cell_type": "markdown",
   "metadata": {},
   "source": [
    "### SVC Classifier"
   ]
  },
  {
   "cell_type": "code",
   "execution_count": 65,
   "metadata": {},
   "outputs": [
    {
     "data": {
      "text/plain": [
       "0.8678887484197219"
      ]
     },
     "execution_count": 65,
     "metadata": {},
     "output_type": "execute_result"
    }
   ],
   "source": [
    "svc = SVC(gamma='scale', kernel = \"rbf\", degree = 225, C = 10, probability = True)\n",
    "\n",
    "\n",
    "svc.fit(Train_X, Train_Y)\n",
    "svc.score(Train_X,Train_Y)"
   ]
  },
  {
   "cell_type": "code",
   "execution_count": 66,
   "metadata": {},
   "outputs": [
    {
     "name": "stdout",
     "output_type": "stream",
     "text": [
      "              precision    recall  f1-score   support\n",
      "\n",
      "           1       0.84      0.95      0.89      1853\n",
      "           2       0.90      0.68      0.77      1035\n",
      "           3       0.98      0.99      0.99       276\n",
      "\n",
      "    accuracy                           0.87      3164\n",
      "   macro avg       0.91      0.87      0.88      3164\n",
      "weighted avg       0.87      0.87      0.86      3164\n",
      "\n"
     ]
    }
   ],
   "source": [
    "print(sklearn.metrics.classification_report(Train_Y, svc.predict(Train_X)) )"
   ]
  },
  {
   "cell_type": "code",
   "execution_count": 68,
   "metadata": {},
   "outputs": [
    {
     "data": {
      "text/plain": [
       "0.655"
      ]
     },
     "execution_count": 68,
     "metadata": {},
     "output_type": "execute_result"
    }
   ],
   "source": [
    "svc.score(Test_X,Test_Y)"
   ]
  },
  {
   "cell_type": "code",
   "execution_count": 69,
   "metadata": {},
   "outputs": [
    {
     "name": "stdout",
     "output_type": "stream",
     "text": [
      "              precision    recall  f1-score   support\n",
      "\n",
      "           1       0.68      0.81      0.74       122\n",
      "           2       0.47      0.31      0.37        65\n",
      "           3       1.00      0.92      0.96        13\n",
      "\n",
      "    accuracy                           0.66       200\n",
      "   macro avg       0.72      0.68      0.69       200\n",
      "weighted avg       0.63      0.66      0.64       200\n",
      "\n"
     ]
    }
   ],
   "source": [
    "print(sklearn.metrics.classification_report(Test_Y, svc.predict(Test_X)) )"
   ]
  },
  {
   "cell_type": "code",
   "execution_count": 70,
   "metadata": {},
   "outputs": [
    {
     "name": "stdout",
     "output_type": "stream",
     "text": [
      "0.5663932494551673\n"
     ]
    },
    {
     "data": {
      "image/png": "[encoded data removed]",
      "text/plain": [
       "<Figure size 432x288 with 1 Axes>"
      ]
     },
     "metadata": {
      "needs_background": "light"
     },
     "output_type": "display_data"
    }
   ],
   "source": [
    "# Bagging Support Vector Classifier model\n",
    "coeff, highest, train_scores, test_scores = Bagging(svc, Train_X, Train_Y, Valid_X, Valid_Y)\n",
    "plot(train_scores, test_scores)"
   ]
  },
  {
   "cell_type": "code",
   "execution_count": 71,
   "metadata": {},
   "outputs": [
    {
     "data": {
      "text/plain": [
       "0.7484197218710493"
      ]
     },
     "execution_count": 71,
     "metadata": {},
     "output_type": "execute_result"
    }
   ],
   "source": [
    "Bagging_SVC = BaggingClassifier(base_estimator=svc, n_estimators=coeff, random_state=rng)\n",
    "Bagging_SVC.fit(Train_X, Train_Y)\n",
    "Bagging_SVC.score(Train_X,Train_Y)"
   ]
  },
  {
   "cell_type": "code",
   "execution_count": 72,
   "metadata": {},
   "outputs": [
    {
     "name": "stdout",
     "output_type": "stream",
     "text": [
      "              precision    recall  f1-score   support\n",
      "\n",
      "           1       0.70      0.99      0.82      1853\n",
      "           2       0.97      0.25      0.39      1035\n",
      "           3       0.98      0.99      0.98       276\n",
      "\n",
      "    accuracy                           0.75      3164\n",
      "   macro avg       0.88      0.74      0.73      3164\n",
      "weighted avg       0.81      0.75      0.70      3164\n",
      "\n"
     ]
    }
   ],
   "source": [
    "print(sklearn.metrics.classification_report(Train_Y, Bagging_SVC.predict(Train_X)) )"
   ]
  },
  {
   "cell_type": "code",
   "execution_count": 73,
   "metadata": {},
   "outputs": [
    {
     "data": {
      "text/plain": [
       "0.685"
      ]
     },
     "execution_count": 73,
     "metadata": {},
     "output_type": "execute_result"
    }
   ],
   "source": [
    "Bagging_SVC.score(Test_X,Test_Y)"
   ]
  },
  {
   "cell_type": "code",
   "execution_count": 74,
   "metadata": {},
   "outputs": [
    {
     "name": "stdout",
     "output_type": "stream",
     "text": [
      "              precision    recall  f1-score   support\n",
      "\n",
      "           1       0.67      0.97      0.79       122\n",
      "           2       0.64      0.11      0.18        65\n",
      "           3       1.00      0.92      0.96        13\n",
      "\n",
      "    accuracy                           0.69       200\n",
      "   macro avg       0.77      0.67      0.64       200\n",
      "weighted avg       0.68      0.69      0.60       200\n",
      "\n"
     ]
    }
   ],
   "source": [
    "print(sklearn.metrics.classification_report(Test_Y, Bagging_SVC.predict(Test_X)) )"
   ]
  },
  {
   "cell_type": "code",
   "execution_count": 75,
   "metadata": {},
   "outputs": [
    {
     "name": "stdout",
     "output_type": "stream",
     "text": [
      "0.6336491350748683\n"
     ]
    },
    {
     "data": {
      "image/png": "[encoded data removed]",
      "text/plain": [
       "<Figure size 432x288 with 1 Axes>"
      ]
     },
     "metadata": {
      "needs_background": "light"
     },
     "output_type": "display_data"
    }
   ],
   "source": [
    "# Gradient Boosting Decision Tree Support Vector Classifier model \n",
    "\n",
    "coeff, highest, train_scores, test_scores = GBDT(Bagging_SVC, Train_X, Train_Y, Valid_X, Valid_Y)\n",
    "plot(train_scores, test_scores)"
   ]
  },
  {
   "cell_type": "code",
   "execution_count": 76,
   "metadata": {},
   "outputs": [
    {
     "data": {
      "text/plain": [
       "0.859039190897598"
      ]
     },
     "execution_count": 76,
     "metadata": {},
     "output_type": "execute_result"
    }
   ],
   "source": [
    "GBDT_SVC = GradientBoostingClassifier(init = Bagging_SVC, learning_rate = coeff)\n",
    "GBDT_SVC.fit(Train_X, Train_Y)\n",
    "GBDT_SVC.score(Train_X,Train_Y)"
   ]
  },
  {
   "cell_type": "code",
   "execution_count": 77,
   "metadata": {},
   "outputs": [
    {
     "name": "stdout",
     "output_type": "stream",
     "text": [
      "              precision    recall  f1-score   support\n",
      "\n",
      "           1       0.82      0.98      0.89      1853\n",
      "           2       0.94      0.61      0.74      1035\n",
      "           3       1.00      1.00      1.00       276\n",
      "\n",
      "    accuracy                           0.86      3164\n",
      "   macro avg       0.92      0.86      0.88      3164\n",
      "weighted avg       0.87      0.86      0.85      3164\n",
      "\n"
     ]
    }
   ],
   "source": [
    "print(sklearn.metrics.classification_report(Train_Y, GBDT_SVC.predict(Train_X)) )"
   ]
  },
  {
   "cell_type": "code",
   "execution_count": 78,
   "metadata": {},
   "outputs": [
    {
     "data": {
      "text/plain": [
       "0.715"
      ]
     },
     "execution_count": 78,
     "metadata": {},
     "output_type": "execute_result"
    }
   ],
   "source": [
    "GBDT_SVC.score(Test_X,Test_Y)"
   ]
  },
  {
   "cell_type": "code",
   "execution_count": 79,
   "metadata": {},
   "outputs": [
    {
     "name": "stdout",
     "output_type": "stream",
     "text": [
      "              precision    recall  f1-score   support\n",
      "\n",
      "           1       0.71      0.89      0.79       122\n",
      "           2       0.62      0.32      0.42        65\n",
      "           3       1.00      1.00      1.00        13\n",
      "\n",
      "    accuracy                           0.71       200\n",
      "   macro avg       0.78      0.74      0.74       200\n",
      "weighted avg       0.70      0.71      0.69       200\n",
      "\n"
     ]
    }
   ],
   "source": [
    "print(sklearn.metrics.classification_report(Test_Y, GBDT_SVC.predict(Test_X)) )"
   ]
  },
  {
   "cell_type": "markdown",
   "metadata": {},
   "source": [
    "### Random Forest"
   ]
  },
  {
   "cell_type": "code",
   "execution_count": 80,
   "metadata": {},
   "outputs": [
    {
     "name": "stderr",
     "output_type": "stream",
     "text": [
      "//anaconda3/lib/python3.7/site-packages/sklearn/ensemble/forest.py:245: FutureWarning: The default value of n_estimators will change from 10 in version 0.20 to 100 in 0.22.\n",
      "  \"10 in version 0.20 to 100 in 0.22.\", FutureWarning)\n"
     ]
    },
    {
     "data": {
      "text/plain": [
       "0.9835651074589128"
      ]
     },
     "execution_count": 80,
     "metadata": {},
     "output_type": "execute_result"
    }
   ],
   "source": [
    "RF = RandomForestClassifier(random_state=0)\n",
    "RF.fit(Train_X, Train_Y)\n",
    "RF.score(Train_X, Train_Y)"
   ]
  },
  {
   "cell_type": "code",
   "execution_count": 81,
   "metadata": {},
   "outputs": [
    {
     "name": "stdout",
     "output_type": "stream",
     "text": [
      "              precision    recall  f1-score   support\n",
      "\n",
      "           1       0.98      1.00      0.99      1853\n",
      "           2       0.99      0.96      0.98      1035\n",
      "           3       1.00      0.98      0.99       276\n",
      "\n",
      "    accuracy                           0.98      3164\n",
      "   macro avg       0.99      0.98      0.98      3164\n",
      "weighted avg       0.98      0.98      0.98      3164\n",
      "\n"
     ]
    }
   ],
   "source": [
    "print(sklearn.metrics.classification_report(Train_Y, RF.predict(Train_X)) )"
   ]
  },
  {
   "cell_type": "code",
   "execution_count": 82,
   "metadata": {},
   "outputs": [
    {
     "data": {
      "text/plain": [
       "0.68"
      ]
     },
     "execution_count": 82,
     "metadata": {},
     "output_type": "execute_result"
    }
   ],
   "source": [
    "RF.score(Test_X, Test_Y)"
   ]
  },
  {
   "cell_type": "code",
   "execution_count": 83,
   "metadata": {},
   "outputs": [
    {
     "name": "stdout",
     "output_type": "stream",
     "text": [
      "              precision    recall  f1-score   support\n",
      "\n",
      "           1       0.69      0.89      0.78       122\n",
      "           2       0.58      0.34      0.43        65\n",
      "           3       1.00      0.38      0.56        13\n",
      "\n",
      "    accuracy                           0.68       200\n",
      "   macro avg       0.76      0.54      0.59       200\n",
      "weighted avg       0.68      0.68      0.65       200\n",
      "\n"
     ]
    }
   ],
   "source": [
    "print(sklearn.metrics.classification_report(Test_Y, RF.predict(Test_X)) )"
   ]
  },
  {
   "cell_type": "code",
   "execution_count": 84,
   "metadata": {},
   "outputs": [
    {
     "name": "stdout",
     "output_type": "stream",
     "text": [
      "0.5799063179703633\n"
     ]
    },
    {
     "data": {
      "image/png": "[encoded data removed]",
      "text/plain": [
       "<Figure size 432x288 with 1 Axes>"
      ]
     },
     "metadata": {
      "needs_background": "light"
     },
     "output_type": "display_data"
    }
   ],
   "source": [
    "# Bagging Random Forest \n",
    "coeff, highest, train_scores, test_scores = Bagging(RF, Train_X, Train_Y, Valid_X, Valid_Y)\n",
    "plot(train_scores, test_scores)"
   ]
  },
  {
   "cell_type": "code",
   "execution_count": 85,
   "metadata": {},
   "outputs": [
    {
     "data": {
      "text/plain": [
       "0.9472187104930467"
      ]
     },
     "execution_count": 85,
     "metadata": {},
     "output_type": "execute_result"
    }
   ],
   "source": [
    "Bagging_RF = BaggingClassifier(base_estimator=RF, n_estimators=coeff, random_state=rng)\n",
    "Bagging_RF.fit(Train_X, Train_Y)\n",
    "Bagging_RF.score(Train_X,Train_Y)"
   ]
  },
  {
   "cell_type": "code",
   "execution_count": 86,
   "metadata": {},
   "outputs": [
    {
     "name": "stdout",
     "output_type": "stream",
     "text": [
      "              precision    recall  f1-score   support\n",
      "\n",
      "           1       0.92      1.00      0.96      1853\n",
      "           2       0.99      0.86      0.92      1035\n",
      "           3       1.00      0.96      0.98       276\n",
      "\n",
      "    accuracy                           0.95      3164\n",
      "   macro avg       0.97      0.94      0.95      3164\n",
      "weighted avg       0.95      0.95      0.95      3164\n",
      "\n"
     ]
    }
   ],
   "source": [
    "print(sklearn.metrics.classification_report(Train_Y, Bagging_RF.predict(Train_X)) )"
   ]
  },
  {
   "cell_type": "code",
   "execution_count": 87,
   "metadata": {},
   "outputs": [
    {
     "data": {
      "text/plain": [
       "0.9472187104930467"
      ]
     },
     "execution_count": 87,
     "metadata": {},
     "output_type": "execute_result"
    }
   ],
   "source": [
    "Bagging_RF.score(Train_X,Train_Y)"
   ]
  },
  {
   "cell_type": "code",
   "execution_count": 88,
   "metadata": {},
   "outputs": [
    {
     "name": "stdout",
     "output_type": "stream",
     "text": [
      "              precision    recall  f1-score   support\n",
      "\n",
      "           1       0.66      0.89      0.76       122\n",
      "           2       0.53      0.25      0.34        65\n",
      "           3       1.00      0.54      0.70        13\n",
      "\n",
      "    accuracy                           0.66       200\n",
      "   macro avg       0.73      0.56      0.60       200\n",
      "weighted avg       0.64      0.66      0.62       200\n",
      "\n"
     ]
    }
   ],
   "source": [
    "print(sklearn.metrics.classification_report(Test_Y, Bagging_RF.predict(Test_X)) )"
   ]
  },
  {
   "cell_type": "code",
   "execution_count": 89,
   "metadata": {},
   "outputs": [
    {
     "name": "stdout",
     "output_type": "stream",
     "text": [
      "0.6156857786471426\n"
     ]
    },
    {
     "data": {
      "image/png": "[encoded data removed]",
      "text/plain": [
       "<Figure size 432x288 with 1 Axes>"
      ]
     },
     "metadata": {
      "needs_background": "light"
     },
     "output_type": "display_data"
    }
   ],
   "source": [
    "# Gradient Boosting Decision Tree Random Forest model \n",
    "\n",
    "coeff, highest, train_scores, test_scores = GBDT(Bagging_RF, Train_X, Train_Y, Valid_X, Valid_Y)\n",
    "plot(train_scores, test_scores)"
   ]
  },
  {
   "cell_type": "code",
   "execution_count": 90,
   "metadata": {},
   "outputs": [
    {
     "data": {
      "text/plain": [
       "0.968078381795196"
      ]
     },
     "execution_count": 90,
     "metadata": {},
     "output_type": "execute_result"
    }
   ],
   "source": [
    "GBDT_RF = GradientBoostingClassifier(init = Bagging_RF, learning_rate = coeff)\n",
    "GBDT_RF.fit(Train_X, Train_Y)\n",
    "GBDT_RF.score(Train_X,Train_Y)"
   ]
  },
  {
   "cell_type": "code",
   "execution_count": 91,
   "metadata": {},
   "outputs": [
    {
     "name": "stdout",
     "output_type": "stream",
     "text": [
      "              precision    recall  f1-score   support\n",
      "\n",
      "           1       0.95      0.99      0.97      1853\n",
      "           2       0.99      0.92      0.95      1035\n",
      "           3       1.00      0.99      1.00       276\n",
      "\n",
      "    accuracy                           0.97      3164\n",
      "   macro avg       0.98      0.97      0.97      3164\n",
      "weighted avg       0.97      0.97      0.97      3164\n",
      "\n"
     ]
    }
   ],
   "source": [
    "print(sklearn.metrics.classification_report(Train_Y, GBDT_RF.predict(Train_X)) )"
   ]
  },
  {
   "cell_type": "code",
   "execution_count": 92,
   "metadata": {},
   "outputs": [
    {
     "data": {
      "text/plain": [
       "0.655"
      ]
     },
     "execution_count": 92,
     "metadata": {},
     "output_type": "execute_result"
    }
   ],
   "source": [
    "GBDT_RF.score(Test_X,Test_Y)"
   ]
  },
  {
   "cell_type": "code",
   "execution_count": 93,
   "metadata": {},
   "outputs": [
    {
     "name": "stdout",
     "output_type": "stream",
     "text": [
      "              precision    recall  f1-score   support\n",
      "\n",
      "           1       0.67      0.86      0.76       122\n",
      "           2       0.47      0.25      0.32        65\n",
      "           3       1.00      0.77      0.87        13\n",
      "\n",
      "    accuracy                           0.66       200\n",
      "   macro avg       0.71      0.63      0.65       200\n",
      "weighted avg       0.63      0.66      0.62       200\n",
      "\n"
     ]
    }
   ],
   "source": [
    "print(sklearn.metrics.classification_report(Test_Y, GBDT_RF.predict(Test_X)) )"
   ]
  },
  {
   "cell_type": "markdown",
   "metadata": {},
   "source": [
    "### Ensembling Learning"
   ]
  },
  {
   "cell_type": "markdown",
   "metadata": {},
   "source": [
    "### Voting "
   ]
  },
  {
   "cell_type": "code",
   "execution_count": 94,
   "metadata": {},
   "outputs": [],
   "source": [
    "model_list = [GBDT_RF, GBDT_SVC, GBDT_NB, KNN]\n",
    "model_list_labels = [\"GBDT_RF\", \"GBDT_SVC\", \"GBDT_NB\", \"KNN\"]\n",
    "\n",
    "\n",
    "lists = []\n",
    "for i in zip(model_list_labels,model_list):\n",
    "    lists.append(i)"
   ]
  },
  {
   "cell_type": "code",
   "execution_count": 95,
   "metadata": {},
   "outputs": [
    {
     "data": {
      "text/plain": [
       "0.877370417193426"
      ]
     },
     "execution_count": 95,
     "metadata": {},
     "output_type": "execute_result"
    }
   ],
   "source": [
    "VC_models = VotingClassifier(estimators=lists)\n",
    "VC_models.fit(Train_X, Train_Y)\n",
    "VC_models.score(Train_X, Train_Y)"
   ]
  },
  {
   "cell_type": "code",
   "execution_count": 96,
   "metadata": {},
   "outputs": [
    {
     "name": "stdout",
     "output_type": "stream",
     "text": [
      "              precision    recall  f1-score   support\n",
      "\n",
      "           1       0.83      1.00      0.91      1853\n",
      "           2       0.99      0.63      0.77      1035\n",
      "           3       1.00      0.99      0.99       276\n",
      "\n",
      "    accuracy                           0.88      3164\n",
      "   macro avg       0.94      0.87      0.89      3164\n",
      "weighted avg       0.90      0.88      0.87      3164\n",
      "\n"
     ]
    }
   ],
   "source": [
    "print(sklearn.metrics.classification_report(Train_Y, VC_models.predict(Train_X)) )"
   ]
  },
  {
   "cell_type": "code",
   "execution_count": 97,
   "metadata": {},
   "outputs": [
    {
     "data": {
      "text/plain": [
       "0.71"
      ]
     },
     "execution_count": 97,
     "metadata": {},
     "output_type": "execute_result"
    }
   ],
   "source": [
    "VC_models.score(Test_X, Test_Y)"
   ]
  },
  {
   "cell_type": "code",
   "execution_count": 98,
   "metadata": {},
   "outputs": [
    {
     "name": "stdout",
     "output_type": "stream",
     "text": [
      "              precision    recall  f1-score   support\n",
      "\n",
      "           1       0.69      0.94      0.80       122\n",
      "           2       0.68      0.23      0.34        65\n",
      "           3       1.00      0.92      0.96        13\n",
      "\n",
      "    accuracy                           0.71       200\n",
      "   macro avg       0.79      0.70      0.70       200\n",
      "weighted avg       0.71      0.71      0.66       200\n",
      "\n"
     ]
    }
   ],
   "source": [
    "print(sklearn.metrics.classification_report(Test_Y, VC_models.predict(Test_X)) )"
   ]
  },
  {
   "cell_type": "markdown",
   "metadata": {},
   "source": [
    "### Stacking "
   ]
  },
  {
   "cell_type": "code",
   "execution_count": 99,
   "metadata": {},
   "outputs": [],
   "source": [
    "Stacking_X = np.append(Train_X, Valid_X,  axis=0)\n",
    "Stacking_Y = np.append(Train_Y, Valid_Y)"
   ]
  },
  {
   "cell_type": "code",
   "execution_count": 100,
   "metadata": {},
   "outputs": [
    {
     "data": {
      "text/plain": [
       "0.9589460784313726"
      ]
     },
     "execution_count": 100,
     "metadata": {},
     "output_type": "execute_result"
    }
   ],
   "source": [
    "meta = MLPClassifier(alpha = 20, solver = \"adam\", activation = \"relu\", max_iter = 1000) # early stop\n",
    "model_list = [GBDT_RF, GBDT_SVC, GBDT_NB, KNN]\n",
    "\n",
    "\n",
    "SC_models = StackingClassifier(classifiers=model_list, meta_classifier=meta)\n",
    "SC_models.fit(Stacking_X, Stacking_Y)\n",
    "SC_models.score(Stacking_X, Stacking_Y)"
   ]
  },
  {
   "cell_type": "code",
   "execution_count": 101,
   "metadata": {},
   "outputs": [
    {
     "name": "stdout",
     "output_type": "stream",
     "text": [
      "              precision    recall  f1-score   support\n",
      "\n",
      "           1       0.97      1.00      0.98      1901\n",
      "           2       0.94      0.94      0.94      1076\n",
      "           3       1.00      0.78      0.87       287\n",
      "\n",
      "    accuracy                           0.96      3264\n",
      "   macro avg       0.97      0.90      0.93      3264\n",
      "weighted avg       0.96      0.96      0.96      3264\n",
      "\n"
     ]
    }
   ],
   "source": [
    "print(sklearn.metrics.classification_report(Stacking_Y, SC_models.predict(Stacking_X)))"
   ]
  },
  {
   "cell_type": "code",
   "execution_count": 102,
   "metadata": {},
   "outputs": [
    {
     "data": {
      "text/plain": [
       "0.67"
      ]
     },
     "execution_count": 102,
     "metadata": {},
     "output_type": "execute_result"
    }
   ],
   "source": [
    "SC_models.score(Test_X, Test_Y)"
   ]
  },
  {
   "cell_type": "code",
   "execution_count": 103,
   "metadata": {},
   "outputs": [
    {
     "name": "stdout",
     "output_type": "stream",
     "text": [
      "              precision    recall  f1-score   support\n",
      "\n",
      "           1       0.71      0.87      0.78       122\n",
      "           2       0.49      0.32      0.39        65\n",
      "           3       1.00      0.54      0.70        13\n",
      "\n",
      "    accuracy                           0.67       200\n",
      "   macro avg       0.73      0.58      0.62       200\n",
      "weighted avg       0.65      0.67      0.65       200\n",
      "\n"
     ]
    }
   ],
   "source": [
    "print(sklearn.metrics.classification_report(Test_Y, SC_models.predict(Test_X)) )"
   ]
  },
  {
   "cell_type": "markdown",
   "metadata": {},
   "source": [
    "### Visualisation "
   ]
  },
  {
   "cell_type": "code",
   "execution_count": 104,
   "metadata": {
    "scrolled": false
   },
   "outputs": [
    {
     "data": {
      "image/png": "[encoded data removed]",
      "text/plain": [
       "<Figure size 1296x648 with 1 Axes>"
      ]
     },
     "metadata": {
      "needs_background": "light"
     },
     "output_type": "display_data"
    }
   ],
   "source": [
    "# model_list = [GBDT_RF, Bagging_SVC, GBDT_NB, KNN]\n",
    "# model_list_labels = [\"GBDT_RF\", \"Bagging_SVC\", \"GBDT_NB\", \"KNN\"]\n",
    "\n",
    "\n",
    "num = 50\n",
    "xt = Test_X[:num]\n",
    "\n",
    "alpha = 0.6\n",
    "plt.figure(figsize=(18,9))\n",
    "plt.plot(GBDT_RF.predict(xt), 'gd',alpha = alpha, label='GBDT_RF')\n",
    "plt.plot(GBDT_SVC.predict(xt), 'ko',alpha = alpha, label='GBDT_SVC')\n",
    "plt.plot(GBDT_NB.predict(xt), 'b^',alpha = alpha, label='GBDT_NB')\n",
    "plt.plot(KNN.predict(xt), 'r+',alpha = alpha, label='KNN')\n",
    "plt.plot(VC_models.predict(xt), 'cs',alpha = alpha, label='Voting Models')\n",
    "plt.plot(SC_models.predict(xt), 'yp',alpha = alpha, label='Stacking Models')\n",
    "plt.plot(Test_Y[:num], 'black', label='Y_Real')\n",
    "\n",
    "\n",
    "plt.tick_params(axis='x', which='both', bottom=False, top=False,\n",
    "                labelbottom=False)\n",
    "plt.ylabel('predicted')\n",
    "plt.xlabel('training samples')\n",
    "plt.legend(loc=\"best\")\n",
    "plt.title('Comparison of individual predictions with averaged')\n",
    "plt.savefig('result.pdf')\n",
    "plt.show()\n",
    "\n",
    "\n"
   ]
  },
  {
   "cell_type": "code",
   "execution_count": null,
   "metadata": {},
   "outputs": [],
   "source": []
  }
 ],
 "metadata": {
  "kernelspec": {
   "display_name": "Python 3",
   "language": "python",
   "name": "python3"
  },
  "language_info": {
   "codemirror_mode": {
    "name": "ipython",
    "version": 3
   },
   "file_extension": ".py",
   "mimetype": "text/x-python",
   "name": "python",
   "nbconvert_exporter": "python",
   "pygments_lexer": "ipython3",
   "version": "3.7.3"
  }
 },
 "nbformat": 4,
 "nbformat_minor": 2
}
